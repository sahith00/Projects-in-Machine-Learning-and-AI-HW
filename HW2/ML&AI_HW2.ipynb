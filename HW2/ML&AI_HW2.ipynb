{
  "nbformat": 4,
  "nbformat_minor": 0,
  "metadata": {
    "colab": {
      "provenance": []
    },
    "kernelspec": {
      "name": "python3",
      "display_name": "Python 3"
    },
    "language_info": {
      "name": "python"
    }
  },
  "cells": [
    {
      "cell_type": "markdown",
      "source": [
        "# Task 1.1: Machine Learning Problem\n",
        "The problem I'm solving using Logistic Regression is whether an NBA player will be inducted into the Hall of Fame. This problem is best solved using Logistic Regression because the solution involves predicting a probability, which is the purpose of Logistic Regression. Other classification models may be able to predict the class of an NBA player (Hall of Famer or not), but probabilities are more applicable to this problem due to the induction of a player into the Hall of Fame being mostly subjective in the end.\n"
      ],
      "metadata": {
        "id": "X0KIJB136XkF"
      }
    },
    {
      "cell_type": "code",
      "source": [
        "import math\n",
        "import pandas as pd\n",
        "import numpy as np\n",
        "import seaborn as sns\n",
        "import matplotlib.pyplot as plt\n",
        "from sklearn.decomposition import PCA\n",
        "from sklearn.model_selection import train_test_split\n",
        "from sklearn import preprocessing\n",
        "from sklearn import utils"
      ],
      "metadata": {
        "id": "bSLnROZLSYIV"
      },
      "execution_count": 1,
      "outputs": []
    },
    {
      "cell_type": "markdown",
      "source": [
        "# Task 1.2: Data Manipulation\n",
        "The model uses data from multiple data sets since there was no singular data set relevant to the NBA containing both information about players and their Hall of Fame status. <br>\n",
        "Links:\n",
        " - [NBA Players](https://www.kaggle.com/datasets/justinas/nba-players-data)</li>\n",
        " - [NBA Hall of Famers 2021](https://www.kaggle.com/datasets/simplyab/nba-hall-of-famers-as-for-2021)\n",
        "\n",
        "Exploratory Data Analysis (EDA) processes are shown in later cells, along with their descriptions and justifications.\n"
      ],
      "metadata": {
        "id": "GuWTH5B2C4MF"
      }
    },
    {
      "cell_type": "markdown",
      "source": [
        "## Load data"
      ],
      "metadata": {
        "id": "RBlwS_t41t4y"
      }
    },
    {
      "cell_type": "code",
      "source": [
        "temp_player_data = pd.read_csv('/content/all_seasons.csv')\n",
        "temp_hof_data = pd.read_csv('/content/NBA Hall of Famers 2021.csv')"
      ],
      "metadata": {
        "id": "0f_ZBChsRc6s"
      },
      "execution_count": 74,
      "outputs": []
    },
    {
      "cell_type": "code",
      "source": [
        "predict_label = 'In_Hall_of_fame'"
      ],
      "metadata": {
        "id": "DxlaCVZaC6lV"
      },
      "execution_count": 75,
      "outputs": []
    },
    {
      "cell_type": "code",
      "source": [
        "# Maybe conduct EDA on the columns being dropped\n",
        "# Ensure no harm done to model by removing columns\n",
        "\n",
        "player_data = temp_player_data.drop(columns=['Unnamed: 0', 'age', 'player_height', 'player_weight', 'country', 'season'])\n",
        "hof_data = temp_hof_data.drop(columns=['position', 'height', 'weight', 'born'])"
      ],
      "metadata": {
        "id": "6yDpdqeOuMSz"
      },
      "execution_count": 76,
      "outputs": []
    },
    {
      "cell_type": "code",
      "source": [
        "player_data.head()"
      ],
      "metadata": {
        "colab": {
          "base_uri": "https://localhost:8080/",
          "height": 0
        },
        "id": "lnmwufCniO61",
        "outputId": "cec03a0f-e60f-4391-f18a-d16a923d1926"
      },
      "execution_count": 77,
      "outputs": [
        {
          "output_type": "execute_result",
          "data": {
            "text/plain": [
              "         player_name team_abbreviation                      college  \\\n",
              "0      Dennis Rodman               CHI  Southeastern Oklahoma State   \n",
              "1  Dwayne Schintzius               LAC                      Florida   \n",
              "2       Earl Cureton               TOR                Detroit Mercy   \n",
              "3        Ed O'Bannon               DAL                         UCLA   \n",
              "4        Ed Pinckney               MIA                    Villanova   \n",
              "\n",
              "  draft_year draft_round draft_number  gp  pts   reb  ast  net_rating  \\\n",
              "0       1986           2           27  55  5.7  16.1  3.1        16.1   \n",
              "1       1990           1           24  15  2.3   1.5  0.3        12.3   \n",
              "2       1979           3           58   9  0.8   1.0  0.4        -2.1   \n",
              "3       1995           1            9  64  3.7   2.3  0.6        -8.7   \n",
              "4       1985           1           10  27  2.4   2.4  0.2       -11.2   \n",
              "\n",
              "   oreb_pct  dreb_pct  usg_pct  ts_pct  ast_pct  \n",
              "0     0.186     0.323    0.100   0.479    0.113  \n",
              "1     0.078     0.151    0.175   0.430    0.048  \n",
              "2     0.105     0.102    0.103   0.376    0.148  \n",
              "3     0.060     0.149    0.167   0.399    0.077  \n",
              "4     0.109     0.179    0.127   0.611    0.040  "
            ],
            "text/html": [
              "\n",
              "  <div id=\"df-82237b46-9f70-4795-a6ea-0e6b7e42d90d\">\n",
              "    <div class=\"colab-df-container\">\n",
              "      <div>\n",
              "<style scoped>\n",
              "    .dataframe tbody tr th:only-of-type {\n",
              "        vertical-align: middle;\n",
              "    }\n",
              "\n",
              "    .dataframe tbody tr th {\n",
              "        vertical-align: top;\n",
              "    }\n",
              "\n",
              "    .dataframe thead th {\n",
              "        text-align: right;\n",
              "    }\n",
              "</style>\n",
              "<table border=\"1\" class=\"dataframe\">\n",
              "  <thead>\n",
              "    <tr style=\"text-align: right;\">\n",
              "      <th></th>\n",
              "      <th>player_name</th>\n",
              "      <th>team_abbreviation</th>\n",
              "      <th>college</th>\n",
              "      <th>draft_year</th>\n",
              "      <th>draft_round</th>\n",
              "      <th>draft_number</th>\n",
              "      <th>gp</th>\n",
              "      <th>pts</th>\n",
              "      <th>reb</th>\n",
              "      <th>ast</th>\n",
              "      <th>net_rating</th>\n",
              "      <th>oreb_pct</th>\n",
              "      <th>dreb_pct</th>\n",
              "      <th>usg_pct</th>\n",
              "      <th>ts_pct</th>\n",
              "      <th>ast_pct</th>\n",
              "    </tr>\n",
              "  </thead>\n",
              "  <tbody>\n",
              "    <tr>\n",
              "      <th>0</th>\n",
              "      <td>Dennis Rodman</td>\n",
              "      <td>CHI</td>\n",
              "      <td>Southeastern Oklahoma State</td>\n",
              "      <td>1986</td>\n",
              "      <td>2</td>\n",
              "      <td>27</td>\n",
              "      <td>55</td>\n",
              "      <td>5.7</td>\n",
              "      <td>16.1</td>\n",
              "      <td>3.1</td>\n",
              "      <td>16.1</td>\n",
              "      <td>0.186</td>\n",
              "      <td>0.323</td>\n",
              "      <td>0.100</td>\n",
              "      <td>0.479</td>\n",
              "      <td>0.113</td>\n",
              "    </tr>\n",
              "    <tr>\n",
              "      <th>1</th>\n",
              "      <td>Dwayne Schintzius</td>\n",
              "      <td>LAC</td>\n",
              "      <td>Florida</td>\n",
              "      <td>1990</td>\n",
              "      <td>1</td>\n",
              "      <td>24</td>\n",
              "      <td>15</td>\n",
              "      <td>2.3</td>\n",
              "      <td>1.5</td>\n",
              "      <td>0.3</td>\n",
              "      <td>12.3</td>\n",
              "      <td>0.078</td>\n",
              "      <td>0.151</td>\n",
              "      <td>0.175</td>\n",
              "      <td>0.430</td>\n",
              "      <td>0.048</td>\n",
              "    </tr>\n",
              "    <tr>\n",
              "      <th>2</th>\n",
              "      <td>Earl Cureton</td>\n",
              "      <td>TOR</td>\n",
              "      <td>Detroit Mercy</td>\n",
              "      <td>1979</td>\n",
              "      <td>3</td>\n",
              "      <td>58</td>\n",
              "      <td>9</td>\n",
              "      <td>0.8</td>\n",
              "      <td>1.0</td>\n",
              "      <td>0.4</td>\n",
              "      <td>-2.1</td>\n",
              "      <td>0.105</td>\n",
              "      <td>0.102</td>\n",
              "      <td>0.103</td>\n",
              "      <td>0.376</td>\n",
              "      <td>0.148</td>\n",
              "    </tr>\n",
              "    <tr>\n",
              "      <th>3</th>\n",
              "      <td>Ed O'Bannon</td>\n",
              "      <td>DAL</td>\n",
              "      <td>UCLA</td>\n",
              "      <td>1995</td>\n",
              "      <td>1</td>\n",
              "      <td>9</td>\n",
              "      <td>64</td>\n",
              "      <td>3.7</td>\n",
              "      <td>2.3</td>\n",
              "      <td>0.6</td>\n",
              "      <td>-8.7</td>\n",
              "      <td>0.060</td>\n",
              "      <td>0.149</td>\n",
              "      <td>0.167</td>\n",
              "      <td>0.399</td>\n",
              "      <td>0.077</td>\n",
              "    </tr>\n",
              "    <tr>\n",
              "      <th>4</th>\n",
              "      <td>Ed Pinckney</td>\n",
              "      <td>MIA</td>\n",
              "      <td>Villanova</td>\n",
              "      <td>1985</td>\n",
              "      <td>1</td>\n",
              "      <td>10</td>\n",
              "      <td>27</td>\n",
              "      <td>2.4</td>\n",
              "      <td>2.4</td>\n",
              "      <td>0.2</td>\n",
              "      <td>-11.2</td>\n",
              "      <td>0.109</td>\n",
              "      <td>0.179</td>\n",
              "      <td>0.127</td>\n",
              "      <td>0.611</td>\n",
              "      <td>0.040</td>\n",
              "    </tr>\n",
              "  </tbody>\n",
              "</table>\n",
              "</div>\n",
              "      <button class=\"colab-df-convert\" onclick=\"convertToInteractive('df-82237b46-9f70-4795-a6ea-0e6b7e42d90d')\"\n",
              "              title=\"Convert this dataframe to an interactive table.\"\n",
              "              style=\"display:none;\">\n",
              "        \n",
              "  <svg xmlns=\"http://www.w3.org/2000/svg\" height=\"24px\"viewBox=\"0 0 24 24\"\n",
              "       width=\"24px\">\n",
              "    <path d=\"M0 0h24v24H0V0z\" fill=\"none\"/>\n",
              "    <path d=\"M18.56 5.44l.94 2.06.94-2.06 2.06-.94-2.06-.94-.94-2.06-.94 2.06-2.06.94zm-11 1L8.5 8.5l.94-2.06 2.06-.94-2.06-.94L8.5 2.5l-.94 2.06-2.06.94zm10 10l.94 2.06.94-2.06 2.06-.94-2.06-.94-.94-2.06-.94 2.06-2.06.94z\"/><path d=\"M17.41 7.96l-1.37-1.37c-.4-.4-.92-.59-1.43-.59-.52 0-1.04.2-1.43.59L10.3 9.45l-7.72 7.72c-.78.78-.78 2.05 0 2.83L4 21.41c.39.39.9.59 1.41.59.51 0 1.02-.2 1.41-.59l7.78-7.78 2.81-2.81c.8-.78.8-2.07 0-2.86zM5.41 20L4 18.59l7.72-7.72 1.47 1.35L5.41 20z\"/>\n",
              "  </svg>\n",
              "      </button>\n",
              "      \n",
              "  <style>\n",
              "    .colab-df-container {\n",
              "      display:flex;\n",
              "      flex-wrap:wrap;\n",
              "      gap: 12px;\n",
              "    }\n",
              "\n",
              "    .colab-df-convert {\n",
              "      background-color: #E8F0FE;\n",
              "      border: none;\n",
              "      border-radius: 50%;\n",
              "      cursor: pointer;\n",
              "      display: none;\n",
              "      fill: #1967D2;\n",
              "      height: 32px;\n",
              "      padding: 0 0 0 0;\n",
              "      width: 32px;\n",
              "    }\n",
              "\n",
              "    .colab-df-convert:hover {\n",
              "      background-color: #E2EBFA;\n",
              "      box-shadow: 0px 1px 2px rgba(60, 64, 67, 0.3), 0px 1px 3px 1px rgba(60, 64, 67, 0.15);\n",
              "      fill: #174EA6;\n",
              "    }\n",
              "\n",
              "    [theme=dark] .colab-df-convert {\n",
              "      background-color: #3B4455;\n",
              "      fill: #D2E3FC;\n",
              "    }\n",
              "\n",
              "    [theme=dark] .colab-df-convert:hover {\n",
              "      background-color: #434B5C;\n",
              "      box-shadow: 0px 1px 3px 1px rgba(0, 0, 0, 0.15);\n",
              "      filter: drop-shadow(0px 1px 2px rgba(0, 0, 0, 0.3));\n",
              "      fill: #FFFFFF;\n",
              "    }\n",
              "  </style>\n",
              "\n",
              "      <script>\n",
              "        const buttonEl =\n",
              "          document.querySelector('#df-82237b46-9f70-4795-a6ea-0e6b7e42d90d button.colab-df-convert');\n",
              "        buttonEl.style.display =\n",
              "          google.colab.kernel.accessAllowed ? 'block' : 'none';\n",
              "\n",
              "        async function convertToInteractive(key) {\n",
              "          const element = document.querySelector('#df-82237b46-9f70-4795-a6ea-0e6b7e42d90d');\n",
              "          const dataTable =\n",
              "            await google.colab.kernel.invokeFunction('convertToInteractive',\n",
              "                                                     [key], {});\n",
              "          if (!dataTable) return;\n",
              "\n",
              "          const docLinkHtml = 'Like what you see? Visit the ' +\n",
              "            '<a target=\"_blank\" href=https://colab.research.google.com/notebooks/data_table.ipynb>data table notebook</a>'\n",
              "            + ' to learn more about interactive tables.';\n",
              "          element.innerHTML = '';\n",
              "          dataTable['output_type'] = 'display_data';\n",
              "          await google.colab.output.renderOutput(dataTable, element);\n",
              "          const docLink = document.createElement('div');\n",
              "          docLink.innerHTML = docLinkHtml;\n",
              "          element.appendChild(docLink);\n",
              "        }\n",
              "      </script>\n",
              "    </div>\n",
              "  </div>\n",
              "  "
            ]
          },
          "metadata": {},
          "execution_count": 77
        }
      ]
    },
    {
      "cell_type": "code",
      "source": [
        "hof_data.head()"
      ],
      "metadata": {
        "colab": {
          "base_uri": "https://localhost:8080/",
          "height": 0
        },
        "id": "ZIFI-yeTuJOW",
        "outputId": "ce6801b6-c39a-434e-ac9d-bd008b984a12"
      },
      "execution_count": 78,
      "outputs": [
        {
          "output_type": "execute_result",
          "data": {
            "text/plain": [
              "                  Name  All_star_selections  In_Hall_of_fame\n",
              "0  Kareem Abdul-Jabbar                   19                1\n",
              "1          Kobe Bryant                   18                1\n",
              "2         LeBron James                   17                2\n",
              "3           Tim Duncan                   15                1\n",
              "4        Kevin Garnett                   15                1"
            ],
            "text/html": [
              "\n",
              "  <div id=\"df-4f24ed56-6d97-4aef-aae1-b59f7b94e390\">\n",
              "    <div class=\"colab-df-container\">\n",
              "      <div>\n",
              "<style scoped>\n",
              "    .dataframe tbody tr th:only-of-type {\n",
              "        vertical-align: middle;\n",
              "    }\n",
              "\n",
              "    .dataframe tbody tr th {\n",
              "        vertical-align: top;\n",
              "    }\n",
              "\n",
              "    .dataframe thead th {\n",
              "        text-align: right;\n",
              "    }\n",
              "</style>\n",
              "<table border=\"1\" class=\"dataframe\">\n",
              "  <thead>\n",
              "    <tr style=\"text-align: right;\">\n",
              "      <th></th>\n",
              "      <th>Name</th>\n",
              "      <th>All_star_selections</th>\n",
              "      <th>In_Hall_of_fame</th>\n",
              "    </tr>\n",
              "  </thead>\n",
              "  <tbody>\n",
              "    <tr>\n",
              "      <th>0</th>\n",
              "      <td>Kareem Abdul-Jabbar</td>\n",
              "      <td>19</td>\n",
              "      <td>1</td>\n",
              "    </tr>\n",
              "    <tr>\n",
              "      <th>1</th>\n",
              "      <td>Kobe Bryant</td>\n",
              "      <td>18</td>\n",
              "      <td>1</td>\n",
              "    </tr>\n",
              "    <tr>\n",
              "      <th>2</th>\n",
              "      <td>LeBron James</td>\n",
              "      <td>17</td>\n",
              "      <td>2</td>\n",
              "    </tr>\n",
              "    <tr>\n",
              "      <th>3</th>\n",
              "      <td>Tim Duncan</td>\n",
              "      <td>15</td>\n",
              "      <td>1</td>\n",
              "    </tr>\n",
              "    <tr>\n",
              "      <th>4</th>\n",
              "      <td>Kevin Garnett</td>\n",
              "      <td>15</td>\n",
              "      <td>1</td>\n",
              "    </tr>\n",
              "  </tbody>\n",
              "</table>\n",
              "</div>\n",
              "      <button class=\"colab-df-convert\" onclick=\"convertToInteractive('df-4f24ed56-6d97-4aef-aae1-b59f7b94e390')\"\n",
              "              title=\"Convert this dataframe to an interactive table.\"\n",
              "              style=\"display:none;\">\n",
              "        \n",
              "  <svg xmlns=\"http://www.w3.org/2000/svg\" height=\"24px\"viewBox=\"0 0 24 24\"\n",
              "       width=\"24px\">\n",
              "    <path d=\"M0 0h24v24H0V0z\" fill=\"none\"/>\n",
              "    <path d=\"M18.56 5.44l.94 2.06.94-2.06 2.06-.94-2.06-.94-.94-2.06-.94 2.06-2.06.94zm-11 1L8.5 8.5l.94-2.06 2.06-.94-2.06-.94L8.5 2.5l-.94 2.06-2.06.94zm10 10l.94 2.06.94-2.06 2.06-.94-2.06-.94-.94-2.06-.94 2.06-2.06.94z\"/><path d=\"M17.41 7.96l-1.37-1.37c-.4-.4-.92-.59-1.43-.59-.52 0-1.04.2-1.43.59L10.3 9.45l-7.72 7.72c-.78.78-.78 2.05 0 2.83L4 21.41c.39.39.9.59 1.41.59.51 0 1.02-.2 1.41-.59l7.78-7.78 2.81-2.81c.8-.78.8-2.07 0-2.86zM5.41 20L4 18.59l7.72-7.72 1.47 1.35L5.41 20z\"/>\n",
              "  </svg>\n",
              "      </button>\n",
              "      \n",
              "  <style>\n",
              "    .colab-df-container {\n",
              "      display:flex;\n",
              "      flex-wrap:wrap;\n",
              "      gap: 12px;\n",
              "    }\n",
              "\n",
              "    .colab-df-convert {\n",
              "      background-color: #E8F0FE;\n",
              "      border: none;\n",
              "      border-radius: 50%;\n",
              "      cursor: pointer;\n",
              "      display: none;\n",
              "      fill: #1967D2;\n",
              "      height: 32px;\n",
              "      padding: 0 0 0 0;\n",
              "      width: 32px;\n",
              "    }\n",
              "\n",
              "    .colab-df-convert:hover {\n",
              "      background-color: #E2EBFA;\n",
              "      box-shadow: 0px 1px 2px rgba(60, 64, 67, 0.3), 0px 1px 3px 1px rgba(60, 64, 67, 0.15);\n",
              "      fill: #174EA6;\n",
              "    }\n",
              "\n",
              "    [theme=dark] .colab-df-convert {\n",
              "      background-color: #3B4455;\n",
              "      fill: #D2E3FC;\n",
              "    }\n",
              "\n",
              "    [theme=dark] .colab-df-convert:hover {\n",
              "      background-color: #434B5C;\n",
              "      box-shadow: 0px 1px 3px 1px rgba(0, 0, 0, 0.15);\n",
              "      filter: drop-shadow(0px 1px 2px rgba(0, 0, 0, 0.3));\n",
              "      fill: #FFFFFF;\n",
              "    }\n",
              "  </style>\n",
              "\n",
              "      <script>\n",
              "        const buttonEl =\n",
              "          document.querySelector('#df-4f24ed56-6d97-4aef-aae1-b59f7b94e390 button.colab-df-convert');\n",
              "        buttonEl.style.display =\n",
              "          google.colab.kernel.accessAllowed ? 'block' : 'none';\n",
              "\n",
              "        async function convertToInteractive(key) {\n",
              "          const element = document.querySelector('#df-4f24ed56-6d97-4aef-aae1-b59f7b94e390');\n",
              "          const dataTable =\n",
              "            await google.colab.kernel.invokeFunction('convertToInteractive',\n",
              "                                                     [key], {});\n",
              "          if (!dataTable) return;\n",
              "\n",
              "          const docLinkHtml = 'Like what you see? Visit the ' +\n",
              "            '<a target=\"_blank\" href=https://colab.research.google.com/notebooks/data_table.ipynb>data table notebook</a>'\n",
              "            + ' to learn more about interactive tables.';\n",
              "          element.innerHTML = '';\n",
              "          dataTable['output_type'] = 'display_data';\n",
              "          await google.colab.output.renderOutput(dataTable, element);\n",
              "          const docLink = document.createElement('div');\n",
              "          docLink.innerHTML = docLinkHtml;\n",
              "          element.appendChild(docLink);\n",
              "        }\n",
              "      </script>\n",
              "    </div>\n",
              "  </div>\n",
              "  "
            ]
          },
          "metadata": {},
          "execution_count": 78
        }
      ]
    },
    {
      "cell_type": "markdown",
      "source": [
        "## Pre-EDA: Null-value analysis\n",
        "Checking each data set for null values helps determine the correct method to merge them together. In addition, entries with too many null values can be eliminated, and entries with few null values can be filled manually. Luckily, this process revealed that there are no null values in either data set, so the merge was seamless."
      ],
      "metadata": {
        "id": "YJFLFMcb0SYb"
      }
    },
    {
      "cell_type": "code",
      "source": [
        "hof_data.info()"
      ],
      "metadata": {
        "colab": {
          "base_uri": "https://localhost:8080/"
        },
        "id": "U9OMVV-qv3Vf",
        "outputId": "e7d50081-1182-44c7-be7e-9a6d5e9d480b"
      },
      "execution_count": 79,
      "outputs": [
        {
          "output_type": "stream",
          "name": "stdout",
          "text": [
            "<class 'pandas.core.frame.DataFrame'>\n",
            "RangeIndex: 437 entries, 0 to 436\n",
            "Data columns (total 3 columns):\n",
            " #   Column               Non-Null Count  Dtype \n",
            "---  ------               --------------  ----- \n",
            " 0   Name                 437 non-null    object\n",
            " 1   All_star_selections  437 non-null    int64 \n",
            " 2   In_Hall_of_fame      437 non-null    int64 \n",
            "dtypes: int64(2), object(1)\n",
            "memory usage: 10.4+ KB\n"
          ]
        }
      ]
    },
    {
      "cell_type": "code",
      "source": [
        "player_data.info()"
      ],
      "metadata": {
        "colab": {
          "base_uri": "https://localhost:8080/"
        },
        "id": "FBgAUigh0JKZ",
        "outputId": "2d58f0bf-ca21-4b1f-87a1-c5452980aa8d"
      },
      "execution_count": 80,
      "outputs": [
        {
          "output_type": "stream",
          "name": "stdout",
          "text": [
            "<class 'pandas.core.frame.DataFrame'>\n",
            "RangeIndex: 12305 entries, 0 to 12304\n",
            "Data columns (total 16 columns):\n",
            " #   Column             Non-Null Count  Dtype  \n",
            "---  ------             --------------  -----  \n",
            " 0   player_name        12305 non-null  object \n",
            " 1   team_abbreviation  12305 non-null  object \n",
            " 2   college            12305 non-null  object \n",
            " 3   draft_year         12305 non-null  object \n",
            " 4   draft_round        12305 non-null  object \n",
            " 5   draft_number       12305 non-null  object \n",
            " 6   gp                 12305 non-null  int64  \n",
            " 7   pts                12305 non-null  float64\n",
            " 8   reb                12305 non-null  float64\n",
            " 9   ast                12305 non-null  float64\n",
            " 10  net_rating         12305 non-null  float64\n",
            " 11  oreb_pct           12305 non-null  float64\n",
            " 12  dreb_pct           12305 non-null  float64\n",
            " 13  usg_pct            12305 non-null  float64\n",
            " 14  ts_pct             12305 non-null  float64\n",
            " 15  ast_pct            12305 non-null  float64\n",
            "dtypes: float64(9), int64(1), object(6)\n",
            "memory usage: 1.5+ MB\n"
          ]
        }
      ]
    },
    {
      "cell_type": "markdown",
      "source": [
        "## Data pre-processing\n",
        "Group player data by each player and merge with HOF data"
      ],
      "metadata": {
        "id": "FkoqrkXb1IQ-"
      }
    },
    {
      "cell_type": "code",
      "source": [
        "player_data[player_data['player_name'] == 'Dennis Rodman']"
      ],
      "metadata": {
        "colab": {
          "base_uri": "https://localhost:8080/",
          "height": 0
        },
        "id": "1bUZVzEXMohj",
        "outputId": "c5129512-4c32-4bfe-b17b-6d8ea95a3863"
      },
      "execution_count": 81,
      "outputs": [
        {
          "output_type": "execute_result",
          "data": {
            "text/plain": [
              "        player_name team_abbreviation                      college draft_year  \\\n",
              "0     Dennis Rodman               CHI  Southeastern Oklahoma State       1986   \n",
              "728   Dennis Rodman               CHI  Southeastern Oklahoma State       1986   \n",
              "1227  Dennis Rodman               LAL  Southeastern Oklahoma State       1986   \n",
              "1354  Dennis Rodman               DAL  Southeastern Oklahoma State       1986   \n",
              "\n",
              "     draft_round draft_number  gp  pts   reb  ast  net_rating  oreb_pct  \\\n",
              "0              2           27  55  5.7  16.1  3.1        16.1     0.186   \n",
              "728            2           27  80  4.7  15.0  2.9         6.7     0.169   \n",
              "1227           2           27  23  2.1  11.2  1.3        -1.4     0.114   \n",
              "1354           2           27  12  2.8  14.3  1.2        -7.1     0.136   \n",
              "\n",
              "      dreb_pct  usg_pct  ts_pct  ast_pct  \n",
              "0        0.323    0.100   0.479    0.113  \n",
              "728      0.319    0.088   0.459    0.112  \n",
              "1227     0.348    0.065   0.388    0.063  \n",
              "1354     0.351    0.064   0.457    0.046  "
            ],
            "text/html": [
              "\n",
              "  <div id=\"df-9bc239ef-a59b-430b-8ba9-507ccf8b3cbd\">\n",
              "    <div class=\"colab-df-container\">\n",
              "      <div>\n",
              "<style scoped>\n",
              "    .dataframe tbody tr th:only-of-type {\n",
              "        vertical-align: middle;\n",
              "    }\n",
              "\n",
              "    .dataframe tbody tr th {\n",
              "        vertical-align: top;\n",
              "    }\n",
              "\n",
              "    .dataframe thead th {\n",
              "        text-align: right;\n",
              "    }\n",
              "</style>\n",
              "<table border=\"1\" class=\"dataframe\">\n",
              "  <thead>\n",
              "    <tr style=\"text-align: right;\">\n",
              "      <th></th>\n",
              "      <th>player_name</th>\n",
              "      <th>team_abbreviation</th>\n",
              "      <th>college</th>\n",
              "      <th>draft_year</th>\n",
              "      <th>draft_round</th>\n",
              "      <th>draft_number</th>\n",
              "      <th>gp</th>\n",
              "      <th>pts</th>\n",
              "      <th>reb</th>\n",
              "      <th>ast</th>\n",
              "      <th>net_rating</th>\n",
              "      <th>oreb_pct</th>\n",
              "      <th>dreb_pct</th>\n",
              "      <th>usg_pct</th>\n",
              "      <th>ts_pct</th>\n",
              "      <th>ast_pct</th>\n",
              "    </tr>\n",
              "  </thead>\n",
              "  <tbody>\n",
              "    <tr>\n",
              "      <th>0</th>\n",
              "      <td>Dennis Rodman</td>\n",
              "      <td>CHI</td>\n",
              "      <td>Southeastern Oklahoma State</td>\n",
              "      <td>1986</td>\n",
              "      <td>2</td>\n",
              "      <td>27</td>\n",
              "      <td>55</td>\n",
              "      <td>5.7</td>\n",
              "      <td>16.1</td>\n",
              "      <td>3.1</td>\n",
              "      <td>16.1</td>\n",
              "      <td>0.186</td>\n",
              "      <td>0.323</td>\n",
              "      <td>0.100</td>\n",
              "      <td>0.479</td>\n",
              "      <td>0.113</td>\n",
              "    </tr>\n",
              "    <tr>\n",
              "      <th>728</th>\n",
              "      <td>Dennis Rodman</td>\n",
              "      <td>CHI</td>\n",
              "      <td>Southeastern Oklahoma State</td>\n",
              "      <td>1986</td>\n",
              "      <td>2</td>\n",
              "      <td>27</td>\n",
              "      <td>80</td>\n",
              "      <td>4.7</td>\n",
              "      <td>15.0</td>\n",
              "      <td>2.9</td>\n",
              "      <td>6.7</td>\n",
              "      <td>0.169</td>\n",
              "      <td>0.319</td>\n",
              "      <td>0.088</td>\n",
              "      <td>0.459</td>\n",
              "      <td>0.112</td>\n",
              "    </tr>\n",
              "    <tr>\n",
              "      <th>1227</th>\n",
              "      <td>Dennis Rodman</td>\n",
              "      <td>LAL</td>\n",
              "      <td>Southeastern Oklahoma State</td>\n",
              "      <td>1986</td>\n",
              "      <td>2</td>\n",
              "      <td>27</td>\n",
              "      <td>23</td>\n",
              "      <td>2.1</td>\n",
              "      <td>11.2</td>\n",
              "      <td>1.3</td>\n",
              "      <td>-1.4</td>\n",
              "      <td>0.114</td>\n",
              "      <td>0.348</td>\n",
              "      <td>0.065</td>\n",
              "      <td>0.388</td>\n",
              "      <td>0.063</td>\n",
              "    </tr>\n",
              "    <tr>\n",
              "      <th>1354</th>\n",
              "      <td>Dennis Rodman</td>\n",
              "      <td>DAL</td>\n",
              "      <td>Southeastern Oklahoma State</td>\n",
              "      <td>1986</td>\n",
              "      <td>2</td>\n",
              "      <td>27</td>\n",
              "      <td>12</td>\n",
              "      <td>2.8</td>\n",
              "      <td>14.3</td>\n",
              "      <td>1.2</td>\n",
              "      <td>-7.1</td>\n",
              "      <td>0.136</td>\n",
              "      <td>0.351</td>\n",
              "      <td>0.064</td>\n",
              "      <td>0.457</td>\n",
              "      <td>0.046</td>\n",
              "    </tr>\n",
              "  </tbody>\n",
              "</table>\n",
              "</div>\n",
              "      <button class=\"colab-df-convert\" onclick=\"convertToInteractive('df-9bc239ef-a59b-430b-8ba9-507ccf8b3cbd')\"\n",
              "              title=\"Convert this dataframe to an interactive table.\"\n",
              "              style=\"display:none;\">\n",
              "        \n",
              "  <svg xmlns=\"http://www.w3.org/2000/svg\" height=\"24px\"viewBox=\"0 0 24 24\"\n",
              "       width=\"24px\">\n",
              "    <path d=\"M0 0h24v24H0V0z\" fill=\"none\"/>\n",
              "    <path d=\"M18.56 5.44l.94 2.06.94-2.06 2.06-.94-2.06-.94-.94-2.06-.94 2.06-2.06.94zm-11 1L8.5 8.5l.94-2.06 2.06-.94-2.06-.94L8.5 2.5l-.94 2.06-2.06.94zm10 10l.94 2.06.94-2.06 2.06-.94-2.06-.94-.94-2.06-.94 2.06-2.06.94z\"/><path d=\"M17.41 7.96l-1.37-1.37c-.4-.4-.92-.59-1.43-.59-.52 0-1.04.2-1.43.59L10.3 9.45l-7.72 7.72c-.78.78-.78 2.05 0 2.83L4 21.41c.39.39.9.59 1.41.59.51 0 1.02-.2 1.41-.59l7.78-7.78 2.81-2.81c.8-.78.8-2.07 0-2.86zM5.41 20L4 18.59l7.72-7.72 1.47 1.35L5.41 20z\"/>\n",
              "  </svg>\n",
              "      </button>\n",
              "      \n",
              "  <style>\n",
              "    .colab-df-container {\n",
              "      display:flex;\n",
              "      flex-wrap:wrap;\n",
              "      gap: 12px;\n",
              "    }\n",
              "\n",
              "    .colab-df-convert {\n",
              "      background-color: #E8F0FE;\n",
              "      border: none;\n",
              "      border-radius: 50%;\n",
              "      cursor: pointer;\n",
              "      display: none;\n",
              "      fill: #1967D2;\n",
              "      height: 32px;\n",
              "      padding: 0 0 0 0;\n",
              "      width: 32px;\n",
              "    }\n",
              "\n",
              "    .colab-df-convert:hover {\n",
              "      background-color: #E2EBFA;\n",
              "      box-shadow: 0px 1px 2px rgba(60, 64, 67, 0.3), 0px 1px 3px 1px rgba(60, 64, 67, 0.15);\n",
              "      fill: #174EA6;\n",
              "    }\n",
              "\n",
              "    [theme=dark] .colab-df-convert {\n",
              "      background-color: #3B4455;\n",
              "      fill: #D2E3FC;\n",
              "    }\n",
              "\n",
              "    [theme=dark] .colab-df-convert:hover {\n",
              "      background-color: #434B5C;\n",
              "      box-shadow: 0px 1px 3px 1px rgba(0, 0, 0, 0.15);\n",
              "      filter: drop-shadow(0px 1px 2px rgba(0, 0, 0, 0.3));\n",
              "      fill: #FFFFFF;\n",
              "    }\n",
              "  </style>\n",
              "\n",
              "      <script>\n",
              "        const buttonEl =\n",
              "          document.querySelector('#df-9bc239ef-a59b-430b-8ba9-507ccf8b3cbd button.colab-df-convert');\n",
              "        buttonEl.style.display =\n",
              "          google.colab.kernel.accessAllowed ? 'block' : 'none';\n",
              "\n",
              "        async function convertToInteractive(key) {\n",
              "          const element = document.querySelector('#df-9bc239ef-a59b-430b-8ba9-507ccf8b3cbd');\n",
              "          const dataTable =\n",
              "            await google.colab.kernel.invokeFunction('convertToInteractive',\n",
              "                                                     [key], {});\n",
              "          if (!dataTable) return;\n",
              "\n",
              "          const docLinkHtml = 'Like what you see? Visit the ' +\n",
              "            '<a target=\"_blank\" href=https://colab.research.google.com/notebooks/data_table.ipynb>data table notebook</a>'\n",
              "            + ' to learn more about interactive tables.';\n",
              "          element.innerHTML = '';\n",
              "          dataTable['output_type'] = 'display_data';\n",
              "          await google.colab.output.renderOutput(dataTable, element);\n",
              "          const docLink = document.createElement('div');\n",
              "          docLink.innerHTML = docLinkHtml;\n",
              "          element.appendChild(docLink);\n",
              "        }\n",
              "      </script>\n",
              "    </div>\n",
              "  </div>\n",
              "  "
            ]
          },
          "metadata": {},
          "execution_count": 81
        }
      ]
    },
    {
      "cell_type": "code",
      "source": [
        "def column_agg(x):\n",
        "    d = {}\n",
        "    d['team'] = x['team_abbreviation'].mode().iloc[0]\n",
        "    d['college'] = x['college'].iloc[0]\n",
        "    d['draft'] = -1 if x['draft_year'].iloc[0] == 'Undrafted' else x['draft_number'].iloc[0]\n",
        "    games = x['gp'].sum()\n",
        "    d['gp'] = games\n",
        "    convertStat = lambda stat: round((stat * x['gp']).sum() / games, 2)\n",
        "    d['pts'] = convertStat(x['pts'])\n",
        "    d['reb'] = convertStat(x['reb'])\n",
        "    d['ast'] = convertStat(x['ast'])\n",
        "    d['net_rating'] = convertStat(x['net_rating'])\n",
        "    d['oreb_pct'] = convertStat(x['oreb_pct'])\n",
        "    d['dreb_pct'] = convertStat(x['dreb_pct'])\n",
        "    d['usg_pct'] = convertStat(x['usg_pct'])\n",
        "    d['ts_pct'] = convertStat(x['ts_pct'])\n",
        "    d['ast_pct'] = convertStat(x['ast_pct'])\n",
        "    return pd.Series(d, index=['team', 'college', 'draft', 'gp', 'pts', 'reb',\n",
        "                               'ast', 'net_rating', 'oreb_pct', 'dreb_pct',\n",
        "                               'usg_pct', 'ts_pct', 'ast_pct'])"
      ],
      "metadata": {
        "id": "8iPjV2428dvG"
      },
      "execution_count": 82,
      "outputs": []
    },
    {
      "cell_type": "code",
      "source": [
        "player_groups = player_data.groupby('player_name').apply(column_agg)\n",
        "player_groups.head()"
      ],
      "metadata": {
        "colab": {
          "base_uri": "https://localhost:8080/",
          "height": 0
        },
        "id": "QmhOkgpSfUQD",
        "outputId": "2db12eec-9c90-4a23-e48a-19607fc6e9b1"
      },
      "execution_count": 83,
      "outputs": [
        {
          "output_type": "execute_result",
          "data": {
            "text/plain": [
              "              team       college draft   gp   pts   reb   ast  net_rating  \\\n",
              "player_name                                                                 \n",
              "A.C. Green     DAL  Oregon State    23  379  5.86  6.19  0.89       -1.58   \n",
              "A.J. Bramlett  CLE       Arizona    39    8  1.00  2.80  0.00      -32.60   \n",
              "A.J. Guyton    CHI       Indiana    32   80  5.51  1.02  1.82       -7.35   \n",
              "AJ Hammons     DAL        Purdue    46   22  2.20  1.60  0.20       -0.60   \n",
              "AJ Price       IND   Connecticut    52  261  5.83  1.45  2.19       -1.28   \n",
              "\n",
              "               oreb_pct  dreb_pct  usg_pct  ts_pct  ast_pct  \n",
              "player_name                                                  \n",
              "A.C. Green         0.09      0.19     0.13    0.49     0.05  \n",
              "A.J. Bramlett      0.16      0.21     0.15    0.19     0.00  \n",
              "A.J. Guyton        0.02      0.06     0.20    0.47     0.23  \n",
              "AJ Hammons         0.05      0.20     0.17    0.47     0.04  \n",
              "AJ Price           0.02      0.09     0.21    0.48     0.25  "
            ],
            "text/html": [
              "\n",
              "  <div id=\"df-d596aa76-1a03-490e-9604-1be815abaa7a\">\n",
              "    <div class=\"colab-df-container\">\n",
              "      <div>\n",
              "<style scoped>\n",
              "    .dataframe tbody tr th:only-of-type {\n",
              "        vertical-align: middle;\n",
              "    }\n",
              "\n",
              "    .dataframe tbody tr th {\n",
              "        vertical-align: top;\n",
              "    }\n",
              "\n",
              "    .dataframe thead th {\n",
              "        text-align: right;\n",
              "    }\n",
              "</style>\n",
              "<table border=\"1\" class=\"dataframe\">\n",
              "  <thead>\n",
              "    <tr style=\"text-align: right;\">\n",
              "      <th></th>\n",
              "      <th>team</th>\n",
              "      <th>college</th>\n",
              "      <th>draft</th>\n",
              "      <th>gp</th>\n",
              "      <th>pts</th>\n",
              "      <th>reb</th>\n",
              "      <th>ast</th>\n",
              "      <th>net_rating</th>\n",
              "      <th>oreb_pct</th>\n",
              "      <th>dreb_pct</th>\n",
              "      <th>usg_pct</th>\n",
              "      <th>ts_pct</th>\n",
              "      <th>ast_pct</th>\n",
              "    </tr>\n",
              "    <tr>\n",
              "      <th>player_name</th>\n",
              "      <th></th>\n",
              "      <th></th>\n",
              "      <th></th>\n",
              "      <th></th>\n",
              "      <th></th>\n",
              "      <th></th>\n",
              "      <th></th>\n",
              "      <th></th>\n",
              "      <th></th>\n",
              "      <th></th>\n",
              "      <th></th>\n",
              "      <th></th>\n",
              "      <th></th>\n",
              "    </tr>\n",
              "  </thead>\n",
              "  <tbody>\n",
              "    <tr>\n",
              "      <th>A.C. Green</th>\n",
              "      <td>DAL</td>\n",
              "      <td>Oregon State</td>\n",
              "      <td>23</td>\n",
              "      <td>379</td>\n",
              "      <td>5.86</td>\n",
              "      <td>6.19</td>\n",
              "      <td>0.89</td>\n",
              "      <td>-1.58</td>\n",
              "      <td>0.09</td>\n",
              "      <td>0.19</td>\n",
              "      <td>0.13</td>\n",
              "      <td>0.49</td>\n",
              "      <td>0.05</td>\n",
              "    </tr>\n",
              "    <tr>\n",
              "      <th>A.J. Bramlett</th>\n",
              "      <td>CLE</td>\n",
              "      <td>Arizona</td>\n",
              "      <td>39</td>\n",
              "      <td>8</td>\n",
              "      <td>1.00</td>\n",
              "      <td>2.80</td>\n",
              "      <td>0.00</td>\n",
              "      <td>-32.60</td>\n",
              "      <td>0.16</td>\n",
              "      <td>0.21</td>\n",
              "      <td>0.15</td>\n",
              "      <td>0.19</td>\n",
              "      <td>0.00</td>\n",
              "    </tr>\n",
              "    <tr>\n",
              "      <th>A.J. Guyton</th>\n",
              "      <td>CHI</td>\n",
              "      <td>Indiana</td>\n",
              "      <td>32</td>\n",
              "      <td>80</td>\n",
              "      <td>5.51</td>\n",
              "      <td>1.02</td>\n",
              "      <td>1.82</td>\n",
              "      <td>-7.35</td>\n",
              "      <td>0.02</td>\n",
              "      <td>0.06</td>\n",
              "      <td>0.20</td>\n",
              "      <td>0.47</td>\n",
              "      <td>0.23</td>\n",
              "    </tr>\n",
              "    <tr>\n",
              "      <th>AJ Hammons</th>\n",
              "      <td>DAL</td>\n",
              "      <td>Purdue</td>\n",
              "      <td>46</td>\n",
              "      <td>22</td>\n",
              "      <td>2.20</td>\n",
              "      <td>1.60</td>\n",
              "      <td>0.20</td>\n",
              "      <td>-0.60</td>\n",
              "      <td>0.05</td>\n",
              "      <td>0.20</td>\n",
              "      <td>0.17</td>\n",
              "      <td>0.47</td>\n",
              "      <td>0.04</td>\n",
              "    </tr>\n",
              "    <tr>\n",
              "      <th>AJ Price</th>\n",
              "      <td>IND</td>\n",
              "      <td>Connecticut</td>\n",
              "      <td>52</td>\n",
              "      <td>261</td>\n",
              "      <td>5.83</td>\n",
              "      <td>1.45</td>\n",
              "      <td>2.19</td>\n",
              "      <td>-1.28</td>\n",
              "      <td>0.02</td>\n",
              "      <td>0.09</td>\n",
              "      <td>0.21</td>\n",
              "      <td>0.48</td>\n",
              "      <td>0.25</td>\n",
              "    </tr>\n",
              "  </tbody>\n",
              "</table>\n",
              "</div>\n",
              "      <button class=\"colab-df-convert\" onclick=\"convertToInteractive('df-d596aa76-1a03-490e-9604-1be815abaa7a')\"\n",
              "              title=\"Convert this dataframe to an interactive table.\"\n",
              "              style=\"display:none;\">\n",
              "        \n",
              "  <svg xmlns=\"http://www.w3.org/2000/svg\" height=\"24px\"viewBox=\"0 0 24 24\"\n",
              "       width=\"24px\">\n",
              "    <path d=\"M0 0h24v24H0V0z\" fill=\"none\"/>\n",
              "    <path d=\"M18.56 5.44l.94 2.06.94-2.06 2.06-.94-2.06-.94-.94-2.06-.94 2.06-2.06.94zm-11 1L8.5 8.5l.94-2.06 2.06-.94-2.06-.94L8.5 2.5l-.94 2.06-2.06.94zm10 10l.94 2.06.94-2.06 2.06-.94-2.06-.94-.94-2.06-.94 2.06-2.06.94z\"/><path d=\"M17.41 7.96l-1.37-1.37c-.4-.4-.92-.59-1.43-.59-.52 0-1.04.2-1.43.59L10.3 9.45l-7.72 7.72c-.78.78-.78 2.05 0 2.83L4 21.41c.39.39.9.59 1.41.59.51 0 1.02-.2 1.41-.59l7.78-7.78 2.81-2.81c.8-.78.8-2.07 0-2.86zM5.41 20L4 18.59l7.72-7.72 1.47 1.35L5.41 20z\"/>\n",
              "  </svg>\n",
              "      </button>\n",
              "      \n",
              "  <style>\n",
              "    .colab-df-container {\n",
              "      display:flex;\n",
              "      flex-wrap:wrap;\n",
              "      gap: 12px;\n",
              "    }\n",
              "\n",
              "    .colab-df-convert {\n",
              "      background-color: #E8F0FE;\n",
              "      border: none;\n",
              "      border-radius: 50%;\n",
              "      cursor: pointer;\n",
              "      display: none;\n",
              "      fill: #1967D2;\n",
              "      height: 32px;\n",
              "      padding: 0 0 0 0;\n",
              "      width: 32px;\n",
              "    }\n",
              "\n",
              "    .colab-df-convert:hover {\n",
              "      background-color: #E2EBFA;\n",
              "      box-shadow: 0px 1px 2px rgba(60, 64, 67, 0.3), 0px 1px 3px 1px rgba(60, 64, 67, 0.15);\n",
              "      fill: #174EA6;\n",
              "    }\n",
              "\n",
              "    [theme=dark] .colab-df-convert {\n",
              "      background-color: #3B4455;\n",
              "      fill: #D2E3FC;\n",
              "    }\n",
              "\n",
              "    [theme=dark] .colab-df-convert:hover {\n",
              "      background-color: #434B5C;\n",
              "      box-shadow: 0px 1px 3px 1px rgba(0, 0, 0, 0.15);\n",
              "      filter: drop-shadow(0px 1px 2px rgba(0, 0, 0, 0.3));\n",
              "      fill: #FFFFFF;\n",
              "    }\n",
              "  </style>\n",
              "\n",
              "      <script>\n",
              "        const buttonEl =\n",
              "          document.querySelector('#df-d596aa76-1a03-490e-9604-1be815abaa7a button.colab-df-convert');\n",
              "        buttonEl.style.display =\n",
              "          google.colab.kernel.accessAllowed ? 'block' : 'none';\n",
              "\n",
              "        async function convertToInteractive(key) {\n",
              "          const element = document.querySelector('#df-d596aa76-1a03-490e-9604-1be815abaa7a');\n",
              "          const dataTable =\n",
              "            await google.colab.kernel.invokeFunction('convertToInteractive',\n",
              "                                                     [key], {});\n",
              "          if (!dataTable) return;\n",
              "\n",
              "          const docLinkHtml = 'Like what you see? Visit the ' +\n",
              "            '<a target=\"_blank\" href=https://colab.research.google.com/notebooks/data_table.ipynb>data table notebook</a>'\n",
              "            + ' to learn more about interactive tables.';\n",
              "          element.innerHTML = '';\n",
              "          dataTable['output_type'] = 'display_data';\n",
              "          await google.colab.output.renderOutput(dataTable, element);\n",
              "          const docLink = document.createElement('div');\n",
              "          docLink.innerHTML = docLinkHtml;\n",
              "          element.appendChild(docLink);\n",
              "        }\n",
              "      </script>\n",
              "    </div>\n",
              "  </div>\n",
              "  "
            ]
          },
          "metadata": {},
          "execution_count": 83
        }
      ]
    },
    {
      "cell_type": "code",
      "source": [
        "hof_data = hof_data.rename(columns={'Name': 'player_name'})\n",
        "merge_data = player_groups.merge(hof_data, on='player_name', how='inner')\n",
        "merge_data.head()"
      ],
      "metadata": {
        "colab": {
          "base_uri": "https://localhost:8080/",
          "height": 0
        },
        "id": "yCycu-bTO7Np",
        "outputId": "91e9d585-2765-4664-f767-121b27b3c236"
      },
      "execution_count": 84,
      "outputs": [
        {
          "output_type": "execute_result",
          "data": {
            "text/plain": [
              "       player_name team       college draft   gp    pts   reb   ast  \\\n",
              "0       A.C. Green  DAL  Oregon State    23  379   5.86  6.19  0.89   \n",
              "1       Al Horford  ATL       Florida     3  950  13.67  8.18  3.31   \n",
              "2    Allan Houston  NYK     Tennessee    11  602  18.56  3.06  2.45   \n",
              "3    Allen Iverson  PHI    Georgetown     1  914  26.67  3.71  6.15   \n",
              "4  Alonzo Mourning  MIA    Georgetown     2  553  14.68  7.63  0.94   \n",
              "\n",
              "   net_rating  oreb_pct  dreb_pct  usg_pct  ts_pct  ast_pct  \\\n",
              "0       -1.58      0.09      0.19     0.13    0.49     0.05   \n",
              "1        4.03      0.07      0.21     0.19    0.57     0.16   \n",
              "2        0.58      0.01      0.09     0.25    0.54     0.13   \n",
              "3        0.74      0.02      0.08     0.31    0.52     0.28   \n",
              "4        5.40      0.10      0.20     0.24    0.58     0.06   \n",
              "\n",
              "   All_star_selections  In_Hall_of_fame  \n",
              "0                    1                0  \n",
              "1                    5                2  \n",
              "2                    2                0  \n",
              "3                   11                1  \n",
              "4                    7                1  "
            ],
            "text/html": [
              "\n",
              "  <div id=\"df-bf6f62a5-178f-48cc-8e6d-a8b07491ab2b\">\n",
              "    <div class=\"colab-df-container\">\n",
              "      <div>\n",
              "<style scoped>\n",
              "    .dataframe tbody tr th:only-of-type {\n",
              "        vertical-align: middle;\n",
              "    }\n",
              "\n",
              "    .dataframe tbody tr th {\n",
              "        vertical-align: top;\n",
              "    }\n",
              "\n",
              "    .dataframe thead th {\n",
              "        text-align: right;\n",
              "    }\n",
              "</style>\n",
              "<table border=\"1\" class=\"dataframe\">\n",
              "  <thead>\n",
              "    <tr style=\"text-align: right;\">\n",
              "      <th></th>\n",
              "      <th>player_name</th>\n",
              "      <th>team</th>\n",
              "      <th>college</th>\n",
              "      <th>draft</th>\n",
              "      <th>gp</th>\n",
              "      <th>pts</th>\n",
              "      <th>reb</th>\n",
              "      <th>ast</th>\n",
              "      <th>net_rating</th>\n",
              "      <th>oreb_pct</th>\n",
              "      <th>dreb_pct</th>\n",
              "      <th>usg_pct</th>\n",
              "      <th>ts_pct</th>\n",
              "      <th>ast_pct</th>\n",
              "      <th>All_star_selections</th>\n",
              "      <th>In_Hall_of_fame</th>\n",
              "    </tr>\n",
              "  </thead>\n",
              "  <tbody>\n",
              "    <tr>\n",
              "      <th>0</th>\n",
              "      <td>A.C. Green</td>\n",
              "      <td>DAL</td>\n",
              "      <td>Oregon State</td>\n",
              "      <td>23</td>\n",
              "      <td>379</td>\n",
              "      <td>5.86</td>\n",
              "      <td>6.19</td>\n",
              "      <td>0.89</td>\n",
              "      <td>-1.58</td>\n",
              "      <td>0.09</td>\n",
              "      <td>0.19</td>\n",
              "      <td>0.13</td>\n",
              "      <td>0.49</td>\n",
              "      <td>0.05</td>\n",
              "      <td>1</td>\n",
              "      <td>0</td>\n",
              "    </tr>\n",
              "    <tr>\n",
              "      <th>1</th>\n",
              "      <td>Al Horford</td>\n",
              "      <td>ATL</td>\n",
              "      <td>Florida</td>\n",
              "      <td>3</td>\n",
              "      <td>950</td>\n",
              "      <td>13.67</td>\n",
              "      <td>8.18</td>\n",
              "      <td>3.31</td>\n",
              "      <td>4.03</td>\n",
              "      <td>0.07</td>\n",
              "      <td>0.21</td>\n",
              "      <td>0.19</td>\n",
              "      <td>0.57</td>\n",
              "      <td>0.16</td>\n",
              "      <td>5</td>\n",
              "      <td>2</td>\n",
              "    </tr>\n",
              "    <tr>\n",
              "      <th>2</th>\n",
              "      <td>Allan Houston</td>\n",
              "      <td>NYK</td>\n",
              "      <td>Tennessee</td>\n",
              "      <td>11</td>\n",
              "      <td>602</td>\n",
              "      <td>18.56</td>\n",
              "      <td>3.06</td>\n",
              "      <td>2.45</td>\n",
              "      <td>0.58</td>\n",
              "      <td>0.01</td>\n",
              "      <td>0.09</td>\n",
              "      <td>0.25</td>\n",
              "      <td>0.54</td>\n",
              "      <td>0.13</td>\n",
              "      <td>2</td>\n",
              "      <td>0</td>\n",
              "    </tr>\n",
              "    <tr>\n",
              "      <th>3</th>\n",
              "      <td>Allen Iverson</td>\n",
              "      <td>PHI</td>\n",
              "      <td>Georgetown</td>\n",
              "      <td>1</td>\n",
              "      <td>914</td>\n",
              "      <td>26.67</td>\n",
              "      <td>3.71</td>\n",
              "      <td>6.15</td>\n",
              "      <td>0.74</td>\n",
              "      <td>0.02</td>\n",
              "      <td>0.08</td>\n",
              "      <td>0.31</td>\n",
              "      <td>0.52</td>\n",
              "      <td>0.28</td>\n",
              "      <td>11</td>\n",
              "      <td>1</td>\n",
              "    </tr>\n",
              "    <tr>\n",
              "      <th>4</th>\n",
              "      <td>Alonzo Mourning</td>\n",
              "      <td>MIA</td>\n",
              "      <td>Georgetown</td>\n",
              "      <td>2</td>\n",
              "      <td>553</td>\n",
              "      <td>14.68</td>\n",
              "      <td>7.63</td>\n",
              "      <td>0.94</td>\n",
              "      <td>5.40</td>\n",
              "      <td>0.10</td>\n",
              "      <td>0.20</td>\n",
              "      <td>0.24</td>\n",
              "      <td>0.58</td>\n",
              "      <td>0.06</td>\n",
              "      <td>7</td>\n",
              "      <td>1</td>\n",
              "    </tr>\n",
              "  </tbody>\n",
              "</table>\n",
              "</div>\n",
              "      <button class=\"colab-df-convert\" onclick=\"convertToInteractive('df-bf6f62a5-178f-48cc-8e6d-a8b07491ab2b')\"\n",
              "              title=\"Convert this dataframe to an interactive table.\"\n",
              "              style=\"display:none;\">\n",
              "        \n",
              "  <svg xmlns=\"http://www.w3.org/2000/svg\" height=\"24px\"viewBox=\"0 0 24 24\"\n",
              "       width=\"24px\">\n",
              "    <path d=\"M0 0h24v24H0V0z\" fill=\"none\"/>\n",
              "    <path d=\"M18.56 5.44l.94 2.06.94-2.06 2.06-.94-2.06-.94-.94-2.06-.94 2.06-2.06.94zm-11 1L8.5 8.5l.94-2.06 2.06-.94-2.06-.94L8.5 2.5l-.94 2.06-2.06.94zm10 10l.94 2.06.94-2.06 2.06-.94-2.06-.94-.94-2.06-.94 2.06-2.06.94z\"/><path d=\"M17.41 7.96l-1.37-1.37c-.4-.4-.92-.59-1.43-.59-.52 0-1.04.2-1.43.59L10.3 9.45l-7.72 7.72c-.78.78-.78 2.05 0 2.83L4 21.41c.39.39.9.59 1.41.59.51 0 1.02-.2 1.41-.59l7.78-7.78 2.81-2.81c.8-.78.8-2.07 0-2.86zM5.41 20L4 18.59l7.72-7.72 1.47 1.35L5.41 20z\"/>\n",
              "  </svg>\n",
              "      </button>\n",
              "      \n",
              "  <style>\n",
              "    .colab-df-container {\n",
              "      display:flex;\n",
              "      flex-wrap:wrap;\n",
              "      gap: 12px;\n",
              "    }\n",
              "\n",
              "    .colab-df-convert {\n",
              "      background-color: #E8F0FE;\n",
              "      border: none;\n",
              "      border-radius: 50%;\n",
              "      cursor: pointer;\n",
              "      display: none;\n",
              "      fill: #1967D2;\n",
              "      height: 32px;\n",
              "      padding: 0 0 0 0;\n",
              "      width: 32px;\n",
              "    }\n",
              "\n",
              "    .colab-df-convert:hover {\n",
              "      background-color: #E2EBFA;\n",
              "      box-shadow: 0px 1px 2px rgba(60, 64, 67, 0.3), 0px 1px 3px 1px rgba(60, 64, 67, 0.15);\n",
              "      fill: #174EA6;\n",
              "    }\n",
              "\n",
              "    [theme=dark] .colab-df-convert {\n",
              "      background-color: #3B4455;\n",
              "      fill: #D2E3FC;\n",
              "    }\n",
              "\n",
              "    [theme=dark] .colab-df-convert:hover {\n",
              "      background-color: #434B5C;\n",
              "      box-shadow: 0px 1px 3px 1px rgba(0, 0, 0, 0.15);\n",
              "      filter: drop-shadow(0px 1px 2px rgba(0, 0, 0, 0.3));\n",
              "      fill: #FFFFFF;\n",
              "    }\n",
              "  </style>\n",
              "\n",
              "      <script>\n",
              "        const buttonEl =\n",
              "          document.querySelector('#df-bf6f62a5-178f-48cc-8e6d-a8b07491ab2b button.colab-df-convert');\n",
              "        buttonEl.style.display =\n",
              "          google.colab.kernel.accessAllowed ? 'block' : 'none';\n",
              "\n",
              "        async function convertToInteractive(key) {\n",
              "          const element = document.querySelector('#df-bf6f62a5-178f-48cc-8e6d-a8b07491ab2b');\n",
              "          const dataTable =\n",
              "            await google.colab.kernel.invokeFunction('convertToInteractive',\n",
              "                                                     [key], {});\n",
              "          if (!dataTable) return;\n",
              "\n",
              "          const docLinkHtml = 'Like what you see? Visit the ' +\n",
              "            '<a target=\"_blank\" href=https://colab.research.google.com/notebooks/data_table.ipynb>data table notebook</a>'\n",
              "            + ' to learn more about interactive tables.';\n",
              "          element.innerHTML = '';\n",
              "          dataTable['output_type'] = 'display_data';\n",
              "          await google.colab.output.renderOutput(dataTable, element);\n",
              "          const docLink = document.createElement('div');\n",
              "          docLink.innerHTML = docLinkHtml;\n",
              "          element.appendChild(docLink);\n",
              "        }\n",
              "      </script>\n",
              "    </div>\n",
              "  </div>\n",
              "  "
            ]
          },
          "metadata": {},
          "execution_count": 84
        }
      ]
    },
    {
      "cell_type": "code",
      "source": [
        "merge_data.info()"
      ],
      "metadata": {
        "colab": {
          "base_uri": "https://localhost:8080/"
        },
        "id": "3AYe2QFZR3-M",
        "outputId": "6219b563-624d-42f8-c876-2b4f217ed71e"
      },
      "execution_count": 85,
      "outputs": [
        {
          "output_type": "stream",
          "name": "stdout",
          "text": [
            "<class 'pandas.core.frame.DataFrame'>\n",
            "Int64Index: 212 entries, 0 to 211\n",
            "Data columns (total 16 columns):\n",
            " #   Column               Non-Null Count  Dtype  \n",
            "---  ------               --------------  -----  \n",
            " 0   player_name          212 non-null    object \n",
            " 1   team                 212 non-null    object \n",
            " 2   college              212 non-null    object \n",
            " 3   draft                212 non-null    object \n",
            " 4   gp                   212 non-null    int64  \n",
            " 5   pts                  212 non-null    float64\n",
            " 6   reb                  212 non-null    float64\n",
            " 7   ast                  212 non-null    float64\n",
            " 8   net_rating           212 non-null    float64\n",
            " 9   oreb_pct             212 non-null    float64\n",
            " 10  dreb_pct             212 non-null    float64\n",
            " 11  usg_pct              212 non-null    float64\n",
            " 12  ts_pct               212 non-null    float64\n",
            " 13  ast_pct              212 non-null    float64\n",
            " 14  All_star_selections  212 non-null    int64  \n",
            " 15  In_Hall_of_fame      212 non-null    int64  \n",
            "dtypes: float64(9), int64(3), object(4)\n",
            "memory usage: 28.2+ KB\n"
          ]
        }
      ]
    },
    {
      "cell_type": "code",
      "source": [
        "# Only keep inactive players (active players may or may not become HOFs)\n",
        "# Label encoding done to convert categorical features to numbers\n",
        "le = preprocessing.LabelEncoder()\n",
        "\n",
        "final_data = merge_data[merge_data['In_Hall_of_fame'] < 2]\n",
        "\n",
        "final_data['team'] = le.fit_transform(final_data['team'])\n",
        "\n",
        "final_data['draft'] = final_data['draft'].astype(int)\n",
        "max_draft = max(final_data['draft'])\n",
        "final_data['draft'] = final_data['draft'].apply(lambda x: abs(x - max_draft) if x > -1 else -1)\n",
        "\n",
        "final_data.head()"
      ],
      "metadata": {
        "colab": {
          "base_uri": "https://localhost:8080/",
          "height": 0
        },
        "id": "XTE4M0PJUi3q",
        "outputId": "95de83e3-c551-4684-8ac5-bacf2b95b33a"
      },
      "execution_count": 86,
      "outputs": [
        {
          "output_type": "stream",
          "name": "stderr",
          "text": [
            "/usr/local/lib/python3.7/dist-packages/ipykernel_launcher.py:7: SettingWithCopyWarning: \n",
            "A value is trying to be set on a copy of a slice from a DataFrame.\n",
            "Try using .loc[row_indexer,col_indexer] = value instead\n",
            "\n",
            "See the caveats in the documentation: https://pandas.pydata.org/pandas-docs/stable/user_guide/indexing.html#returning-a-view-versus-a-copy\n",
            "  import sys\n",
            "/usr/local/lib/python3.7/dist-packages/ipykernel_launcher.py:9: SettingWithCopyWarning: \n",
            "A value is trying to be set on a copy of a slice from a DataFrame.\n",
            "Try using .loc[row_indexer,col_indexer] = value instead\n",
            "\n",
            "See the caveats in the documentation: https://pandas.pydata.org/pandas-docs/stable/user_guide/indexing.html#returning-a-view-versus-a-copy\n",
            "  if __name__ == '__main__':\n",
            "/usr/local/lib/python3.7/dist-packages/ipykernel_launcher.py:11: SettingWithCopyWarning: \n",
            "A value is trying to be set on a copy of a slice from a DataFrame.\n",
            "Try using .loc[row_indexer,col_indexer] = value instead\n",
            "\n",
            "See the caveats in the documentation: https://pandas.pydata.org/pandas-docs/stable/user_guide/indexing.html#returning-a-view-versus-a-copy\n",
            "  # This is added back by InteractiveShellApp.init_path()\n"
          ]
        },
        {
          "output_type": "execute_result",
          "data": {
            "text/plain": [
              "         player_name  team       college  draft   gp    pts   reb   ast  \\\n",
              "0         A.C. Green     6  Oregon State     34  379   5.86  6.19  0.89   \n",
              "2      Allan Houston    20     Tennessee     46  602  18.56  3.06  2.45   \n",
              "3      Allen Iverson    22    Georgetown     56  914  26.67  3.71  6.15   \n",
              "4    Alonzo Mourning    15    Georgetown     55  553  14.68  7.63  0.94   \n",
              "5  Amar'e Stoudemire    23          None     48  846  18.91  7.84  1.24   \n",
              "\n",
              "   net_rating  oreb_pct  dreb_pct  usg_pct  ts_pct  ast_pct  \\\n",
              "0       -1.58      0.09      0.19     0.13    0.49     0.05   \n",
              "2        0.58      0.01      0.09     0.25    0.54     0.13   \n",
              "3        0.74      0.02      0.08     0.31    0.52     0.28   \n",
              "4        5.40      0.10      0.20     0.24    0.58     0.06   \n",
              "5        2.37      0.09      0.20     0.26    0.60     0.07   \n",
              "\n",
              "   All_star_selections  In_Hall_of_fame  \n",
              "0                    1                0  \n",
              "2                    2                0  \n",
              "3                   11                1  \n",
              "4                    7                1  \n",
              "5                    6                0  "
            ],
            "text/html": [
              "\n",
              "  <div id=\"df-593c1b6f-001a-447c-9b80-a5e91a052d9b\">\n",
              "    <div class=\"colab-df-container\">\n",
              "      <div>\n",
              "<style scoped>\n",
              "    .dataframe tbody tr th:only-of-type {\n",
              "        vertical-align: middle;\n",
              "    }\n",
              "\n",
              "    .dataframe tbody tr th {\n",
              "        vertical-align: top;\n",
              "    }\n",
              "\n",
              "    .dataframe thead th {\n",
              "        text-align: right;\n",
              "    }\n",
              "</style>\n",
              "<table border=\"1\" class=\"dataframe\">\n",
              "  <thead>\n",
              "    <tr style=\"text-align: right;\">\n",
              "      <th></th>\n",
              "      <th>player_name</th>\n",
              "      <th>team</th>\n",
              "      <th>college</th>\n",
              "      <th>draft</th>\n",
              "      <th>gp</th>\n",
              "      <th>pts</th>\n",
              "      <th>reb</th>\n",
              "      <th>ast</th>\n",
              "      <th>net_rating</th>\n",
              "      <th>oreb_pct</th>\n",
              "      <th>dreb_pct</th>\n",
              "      <th>usg_pct</th>\n",
              "      <th>ts_pct</th>\n",
              "      <th>ast_pct</th>\n",
              "      <th>All_star_selections</th>\n",
              "      <th>In_Hall_of_fame</th>\n",
              "    </tr>\n",
              "  </thead>\n",
              "  <tbody>\n",
              "    <tr>\n",
              "      <th>0</th>\n",
              "      <td>A.C. Green</td>\n",
              "      <td>6</td>\n",
              "      <td>Oregon State</td>\n",
              "      <td>34</td>\n",
              "      <td>379</td>\n",
              "      <td>5.86</td>\n",
              "      <td>6.19</td>\n",
              "      <td>0.89</td>\n",
              "      <td>-1.58</td>\n",
              "      <td>0.09</td>\n",
              "      <td>0.19</td>\n",
              "      <td>0.13</td>\n",
              "      <td>0.49</td>\n",
              "      <td>0.05</td>\n",
              "      <td>1</td>\n",
              "      <td>0</td>\n",
              "    </tr>\n",
              "    <tr>\n",
              "      <th>2</th>\n",
              "      <td>Allan Houston</td>\n",
              "      <td>20</td>\n",
              "      <td>Tennessee</td>\n",
              "      <td>46</td>\n",
              "      <td>602</td>\n",
              "      <td>18.56</td>\n",
              "      <td>3.06</td>\n",
              "      <td>2.45</td>\n",
              "      <td>0.58</td>\n",
              "      <td>0.01</td>\n",
              "      <td>0.09</td>\n",
              "      <td>0.25</td>\n",
              "      <td>0.54</td>\n",
              "      <td>0.13</td>\n",
              "      <td>2</td>\n",
              "      <td>0</td>\n",
              "    </tr>\n",
              "    <tr>\n",
              "      <th>3</th>\n",
              "      <td>Allen Iverson</td>\n",
              "      <td>22</td>\n",
              "      <td>Georgetown</td>\n",
              "      <td>56</td>\n",
              "      <td>914</td>\n",
              "      <td>26.67</td>\n",
              "      <td>3.71</td>\n",
              "      <td>6.15</td>\n",
              "      <td>0.74</td>\n",
              "      <td>0.02</td>\n",
              "      <td>0.08</td>\n",
              "      <td>0.31</td>\n",
              "      <td>0.52</td>\n",
              "      <td>0.28</td>\n",
              "      <td>11</td>\n",
              "      <td>1</td>\n",
              "    </tr>\n",
              "    <tr>\n",
              "      <th>4</th>\n",
              "      <td>Alonzo Mourning</td>\n",
              "      <td>15</td>\n",
              "      <td>Georgetown</td>\n",
              "      <td>55</td>\n",
              "      <td>553</td>\n",
              "      <td>14.68</td>\n",
              "      <td>7.63</td>\n",
              "      <td>0.94</td>\n",
              "      <td>5.40</td>\n",
              "      <td>0.10</td>\n",
              "      <td>0.20</td>\n",
              "      <td>0.24</td>\n",
              "      <td>0.58</td>\n",
              "      <td>0.06</td>\n",
              "      <td>7</td>\n",
              "      <td>1</td>\n",
              "    </tr>\n",
              "    <tr>\n",
              "      <th>5</th>\n",
              "      <td>Amar'e Stoudemire</td>\n",
              "      <td>23</td>\n",
              "      <td>None</td>\n",
              "      <td>48</td>\n",
              "      <td>846</td>\n",
              "      <td>18.91</td>\n",
              "      <td>7.84</td>\n",
              "      <td>1.24</td>\n",
              "      <td>2.37</td>\n",
              "      <td>0.09</td>\n",
              "      <td>0.20</td>\n",
              "      <td>0.26</td>\n",
              "      <td>0.60</td>\n",
              "      <td>0.07</td>\n",
              "      <td>6</td>\n",
              "      <td>0</td>\n",
              "    </tr>\n",
              "  </tbody>\n",
              "</table>\n",
              "</div>\n",
              "      <button class=\"colab-df-convert\" onclick=\"convertToInteractive('df-593c1b6f-001a-447c-9b80-a5e91a052d9b')\"\n",
              "              title=\"Convert this dataframe to an interactive table.\"\n",
              "              style=\"display:none;\">\n",
              "        \n",
              "  <svg xmlns=\"http://www.w3.org/2000/svg\" height=\"24px\"viewBox=\"0 0 24 24\"\n",
              "       width=\"24px\">\n",
              "    <path d=\"M0 0h24v24H0V0z\" fill=\"none\"/>\n",
              "    <path d=\"M18.56 5.44l.94 2.06.94-2.06 2.06-.94-2.06-.94-.94-2.06-.94 2.06-2.06.94zm-11 1L8.5 8.5l.94-2.06 2.06-.94-2.06-.94L8.5 2.5l-.94 2.06-2.06.94zm10 10l.94 2.06.94-2.06 2.06-.94-2.06-.94-.94-2.06-.94 2.06-2.06.94z\"/><path d=\"M17.41 7.96l-1.37-1.37c-.4-.4-.92-.59-1.43-.59-.52 0-1.04.2-1.43.59L10.3 9.45l-7.72 7.72c-.78.78-.78 2.05 0 2.83L4 21.41c.39.39.9.59 1.41.59.51 0 1.02-.2 1.41-.59l7.78-7.78 2.81-2.81c.8-.78.8-2.07 0-2.86zM5.41 20L4 18.59l7.72-7.72 1.47 1.35L5.41 20z\"/>\n",
              "  </svg>\n",
              "      </button>\n",
              "      \n",
              "  <style>\n",
              "    .colab-df-container {\n",
              "      display:flex;\n",
              "      flex-wrap:wrap;\n",
              "      gap: 12px;\n",
              "    }\n",
              "\n",
              "    .colab-df-convert {\n",
              "      background-color: #E8F0FE;\n",
              "      border: none;\n",
              "      border-radius: 50%;\n",
              "      cursor: pointer;\n",
              "      display: none;\n",
              "      fill: #1967D2;\n",
              "      height: 32px;\n",
              "      padding: 0 0 0 0;\n",
              "      width: 32px;\n",
              "    }\n",
              "\n",
              "    .colab-df-convert:hover {\n",
              "      background-color: #E2EBFA;\n",
              "      box-shadow: 0px 1px 2px rgba(60, 64, 67, 0.3), 0px 1px 3px 1px rgba(60, 64, 67, 0.15);\n",
              "      fill: #174EA6;\n",
              "    }\n",
              "\n",
              "    [theme=dark] .colab-df-convert {\n",
              "      background-color: #3B4455;\n",
              "      fill: #D2E3FC;\n",
              "    }\n",
              "\n",
              "    [theme=dark] .colab-df-convert:hover {\n",
              "      background-color: #434B5C;\n",
              "      box-shadow: 0px 1px 3px 1px rgba(0, 0, 0, 0.15);\n",
              "      filter: drop-shadow(0px 1px 2px rgba(0, 0, 0, 0.3));\n",
              "      fill: #FFFFFF;\n",
              "    }\n",
              "  </style>\n",
              "\n",
              "      <script>\n",
              "        const buttonEl =\n",
              "          document.querySelector('#df-593c1b6f-001a-447c-9b80-a5e91a052d9b button.colab-df-convert');\n",
              "        buttonEl.style.display =\n",
              "          google.colab.kernel.accessAllowed ? 'block' : 'none';\n",
              "\n",
              "        async function convertToInteractive(key) {\n",
              "          const element = document.querySelector('#df-593c1b6f-001a-447c-9b80-a5e91a052d9b');\n",
              "          const dataTable =\n",
              "            await google.colab.kernel.invokeFunction('convertToInteractive',\n",
              "                                                     [key], {});\n",
              "          if (!dataTable) return;\n",
              "\n",
              "          const docLinkHtml = 'Like what you see? Visit the ' +\n",
              "            '<a target=\"_blank\" href=https://colab.research.google.com/notebooks/data_table.ipynb>data table notebook</a>'\n",
              "            + ' to learn more about interactive tables.';\n",
              "          element.innerHTML = '';\n",
              "          dataTable['output_type'] = 'display_data';\n",
              "          await google.colab.output.renderOutput(dataTable, element);\n",
              "          const docLink = document.createElement('div');\n",
              "          docLink.innerHTML = docLinkHtml;\n",
              "          element.appendChild(docLink);\n",
              "        }\n",
              "      </script>\n",
              "    </div>\n",
              "  </div>\n",
              "  "
            ]
          },
          "metadata": {},
          "execution_count": 86
        }
      ]
    },
    {
      "cell_type": "markdown",
      "source": [
        "## Data preparation for model\n",
        "Split data into train and test X and y data sets"
      ],
      "metadata": {
        "id": "LNL3amY0cY_O"
      }
    },
    {
      "cell_type": "code",
      "source": [
        "# Final data set (player_name is kept for reference to each of the entries)\n",
        "final_data = final_data.drop(columns=['college', 'dreb_pct', 'oreb_pct', 'ast', 'usg_pct'])\n",
        "final_data.head()"
      ],
      "metadata": {
        "colab": {
          "base_uri": "https://localhost:8080/",
          "height": 0
        },
        "id": "F6mYvo55cbvV",
        "outputId": "e6c3a53a-4cca-4278-ff26-54dd045d9faa"
      },
      "execution_count": 87,
      "outputs": [
        {
          "output_type": "execute_result",
          "data": {
            "text/plain": [
              "         player_name  team  draft   gp    pts   reb  net_rating  ts_pct  \\\n",
              "0         A.C. Green     6     34  379   5.86  6.19       -1.58    0.49   \n",
              "2      Allan Houston    20     46  602  18.56  3.06        0.58    0.54   \n",
              "3      Allen Iverson    22     56  914  26.67  3.71        0.74    0.52   \n",
              "4    Alonzo Mourning    15     55  553  14.68  7.63        5.40    0.58   \n",
              "5  Amar'e Stoudemire    23     48  846  18.91  7.84        2.37    0.60   \n",
              "\n",
              "   ast_pct  All_star_selections  In_Hall_of_fame  \n",
              "0     0.05                    1                0  \n",
              "2     0.13                    2                0  \n",
              "3     0.28                   11                1  \n",
              "4     0.06                    7                1  \n",
              "5     0.07                    6                0  "
            ],
            "text/html": [
              "\n",
              "  <div id=\"df-b8dc5235-51f8-4410-805a-5cbb173f0d0d\">\n",
              "    <div class=\"colab-df-container\">\n",
              "      <div>\n",
              "<style scoped>\n",
              "    .dataframe tbody tr th:only-of-type {\n",
              "        vertical-align: middle;\n",
              "    }\n",
              "\n",
              "    .dataframe tbody tr th {\n",
              "        vertical-align: top;\n",
              "    }\n",
              "\n",
              "    .dataframe thead th {\n",
              "        text-align: right;\n",
              "    }\n",
              "</style>\n",
              "<table border=\"1\" class=\"dataframe\">\n",
              "  <thead>\n",
              "    <tr style=\"text-align: right;\">\n",
              "      <th></th>\n",
              "      <th>player_name</th>\n",
              "      <th>team</th>\n",
              "      <th>draft</th>\n",
              "      <th>gp</th>\n",
              "      <th>pts</th>\n",
              "      <th>reb</th>\n",
              "      <th>net_rating</th>\n",
              "      <th>ts_pct</th>\n",
              "      <th>ast_pct</th>\n",
              "      <th>All_star_selections</th>\n",
              "      <th>In_Hall_of_fame</th>\n",
              "    </tr>\n",
              "  </thead>\n",
              "  <tbody>\n",
              "    <tr>\n",
              "      <th>0</th>\n",
              "      <td>A.C. Green</td>\n",
              "      <td>6</td>\n",
              "      <td>34</td>\n",
              "      <td>379</td>\n",
              "      <td>5.86</td>\n",
              "      <td>6.19</td>\n",
              "      <td>-1.58</td>\n",
              "      <td>0.49</td>\n",
              "      <td>0.05</td>\n",
              "      <td>1</td>\n",
              "      <td>0</td>\n",
              "    </tr>\n",
              "    <tr>\n",
              "      <th>2</th>\n",
              "      <td>Allan Houston</td>\n",
              "      <td>20</td>\n",
              "      <td>46</td>\n",
              "      <td>602</td>\n",
              "      <td>18.56</td>\n",
              "      <td>3.06</td>\n",
              "      <td>0.58</td>\n",
              "      <td>0.54</td>\n",
              "      <td>0.13</td>\n",
              "      <td>2</td>\n",
              "      <td>0</td>\n",
              "    </tr>\n",
              "    <tr>\n",
              "      <th>3</th>\n",
              "      <td>Allen Iverson</td>\n",
              "      <td>22</td>\n",
              "      <td>56</td>\n",
              "      <td>914</td>\n",
              "      <td>26.67</td>\n",
              "      <td>3.71</td>\n",
              "      <td>0.74</td>\n",
              "      <td>0.52</td>\n",
              "      <td>0.28</td>\n",
              "      <td>11</td>\n",
              "      <td>1</td>\n",
              "    </tr>\n",
              "    <tr>\n",
              "      <th>4</th>\n",
              "      <td>Alonzo Mourning</td>\n",
              "      <td>15</td>\n",
              "      <td>55</td>\n",
              "      <td>553</td>\n",
              "      <td>14.68</td>\n",
              "      <td>7.63</td>\n",
              "      <td>5.40</td>\n",
              "      <td>0.58</td>\n",
              "      <td>0.06</td>\n",
              "      <td>7</td>\n",
              "      <td>1</td>\n",
              "    </tr>\n",
              "    <tr>\n",
              "      <th>5</th>\n",
              "      <td>Amar'e Stoudemire</td>\n",
              "      <td>23</td>\n",
              "      <td>48</td>\n",
              "      <td>846</td>\n",
              "      <td>18.91</td>\n",
              "      <td>7.84</td>\n",
              "      <td>2.37</td>\n",
              "      <td>0.60</td>\n",
              "      <td>0.07</td>\n",
              "      <td>6</td>\n",
              "      <td>0</td>\n",
              "    </tr>\n",
              "  </tbody>\n",
              "</table>\n",
              "</div>\n",
              "      <button class=\"colab-df-convert\" onclick=\"convertToInteractive('df-b8dc5235-51f8-4410-805a-5cbb173f0d0d')\"\n",
              "              title=\"Convert this dataframe to an interactive table.\"\n",
              "              style=\"display:none;\">\n",
              "        \n",
              "  <svg xmlns=\"http://www.w3.org/2000/svg\" height=\"24px\"viewBox=\"0 0 24 24\"\n",
              "       width=\"24px\">\n",
              "    <path d=\"M0 0h24v24H0V0z\" fill=\"none\"/>\n",
              "    <path d=\"M18.56 5.44l.94 2.06.94-2.06 2.06-.94-2.06-.94-.94-2.06-.94 2.06-2.06.94zm-11 1L8.5 8.5l.94-2.06 2.06-.94-2.06-.94L8.5 2.5l-.94 2.06-2.06.94zm10 10l.94 2.06.94-2.06 2.06-.94-2.06-.94-.94-2.06-.94 2.06-2.06.94z\"/><path d=\"M17.41 7.96l-1.37-1.37c-.4-.4-.92-.59-1.43-.59-.52 0-1.04.2-1.43.59L10.3 9.45l-7.72 7.72c-.78.78-.78 2.05 0 2.83L4 21.41c.39.39.9.59 1.41.59.51 0 1.02-.2 1.41-.59l7.78-7.78 2.81-2.81c.8-.78.8-2.07 0-2.86zM5.41 20L4 18.59l7.72-7.72 1.47 1.35L5.41 20z\"/>\n",
              "  </svg>\n",
              "      </button>\n",
              "      \n",
              "  <style>\n",
              "    .colab-df-container {\n",
              "      display:flex;\n",
              "      flex-wrap:wrap;\n",
              "      gap: 12px;\n",
              "    }\n",
              "\n",
              "    .colab-df-convert {\n",
              "      background-color: #E8F0FE;\n",
              "      border: none;\n",
              "      border-radius: 50%;\n",
              "      cursor: pointer;\n",
              "      display: none;\n",
              "      fill: #1967D2;\n",
              "      height: 32px;\n",
              "      padding: 0 0 0 0;\n",
              "      width: 32px;\n",
              "    }\n",
              "\n",
              "    .colab-df-convert:hover {\n",
              "      background-color: #E2EBFA;\n",
              "      box-shadow: 0px 1px 2px rgba(60, 64, 67, 0.3), 0px 1px 3px 1px rgba(60, 64, 67, 0.15);\n",
              "      fill: #174EA6;\n",
              "    }\n",
              "\n",
              "    [theme=dark] .colab-df-convert {\n",
              "      background-color: #3B4455;\n",
              "      fill: #D2E3FC;\n",
              "    }\n",
              "\n",
              "    [theme=dark] .colab-df-convert:hover {\n",
              "      background-color: #434B5C;\n",
              "      box-shadow: 0px 1px 3px 1px rgba(0, 0, 0, 0.15);\n",
              "      filter: drop-shadow(0px 1px 2px rgba(0, 0, 0, 0.3));\n",
              "      fill: #FFFFFF;\n",
              "    }\n",
              "  </style>\n",
              "\n",
              "      <script>\n",
              "        const buttonEl =\n",
              "          document.querySelector('#df-b8dc5235-51f8-4410-805a-5cbb173f0d0d button.colab-df-convert');\n",
              "        buttonEl.style.display =\n",
              "          google.colab.kernel.accessAllowed ? 'block' : 'none';\n",
              "\n",
              "        async function convertToInteractive(key) {\n",
              "          const element = document.querySelector('#df-b8dc5235-51f8-4410-805a-5cbb173f0d0d');\n",
              "          const dataTable =\n",
              "            await google.colab.kernel.invokeFunction('convertToInteractive',\n",
              "                                                     [key], {});\n",
              "          if (!dataTable) return;\n",
              "\n",
              "          const docLinkHtml = 'Like what you see? Visit the ' +\n",
              "            '<a target=\"_blank\" href=https://colab.research.google.com/notebooks/data_table.ipynb>data table notebook</a>'\n",
              "            + ' to learn more about interactive tables.';\n",
              "          element.innerHTML = '';\n",
              "          dataTable['output_type'] = 'display_data';\n",
              "          await google.colab.output.renderOutput(dataTable, element);\n",
              "          const docLink = document.createElement('div');\n",
              "          docLink.innerHTML = docLinkHtml;\n",
              "          element.appendChild(docLink);\n",
              "        }\n",
              "      </script>\n",
              "    </div>\n",
              "  </div>\n",
              "  "
            ]
          },
          "metadata": {},
          "execution_count": 87
        }
      ]
    },
    {
      "cell_type": "code",
      "source": [
        "use_data = final_data.drop(columns=['player_name'])\n",
        "\n",
        "X_final, y_final = use_data.drop(columns=[predict_label]), use_data[predict_label]\n",
        "\n",
        "min_max = preprocessing.MinMaxScaler()\n",
        "temp = X_final.values\n",
        "temp_cols = X_final.columns\n",
        "temp_scaled = min_max.fit_transform(temp)\n",
        "X_final = pd.DataFrame(temp_scaled, columns=temp_cols)"
      ],
      "metadata": {
        "id": "mlDWGv0lxQHz"
      },
      "execution_count": 88,
      "outputs": []
    },
    {
      "cell_type": "code",
      "source": [
        "X_train, X_test, y_train, y_test = train_test_split(X_final, y_final, test_size=0.1, random_state=42)"
      ],
      "metadata": {
        "id": "-08V48-sb7P4"
      },
      "execution_count": 89,
      "outputs": []
    },
    {
      "cell_type": "code",
      "source": [
        "X_train.head()"
      ],
      "metadata": {
        "colab": {
          "base_uri": "https://localhost:8080/",
          "height": 0
        },
        "id": "rUAS_1Zrg24A",
        "outputId": "55ec24bc-7d2d-4c3c-ad62-b0438e1d578f"
      },
      "execution_count": 90,
      "outputs": [
        {
          "output_type": "execute_result",
          "data": {
            "text/plain": [
              "         team     draft        gp       pts       reb  net_rating    ts_pct  \\\n",
              "66   0.677419  0.666667  0.566099  0.379701  0.127581    0.711506  0.642857   \n",
              "18   0.774194  0.912281  0.204843  0.682572  0.223451    0.742386  0.678571   \n",
              "69   0.935484  0.210526  0.179319  0.466235  0.128319    0.909687  0.857143   \n",
              "124  0.741935  0.859649  0.752618  0.536595  0.548673    0.749154  0.678571   \n",
              "30   0.806452  1.000000  0.440445  0.771128  0.640118    0.742597  0.571429   \n",
              "\n",
              "      ast_pct  All_star_selections  \n",
              "66   0.609756             0.000000  \n",
              "18   0.463415             0.117647  \n",
              "69   0.390244             0.000000  \n",
              "124  0.121951             0.176471  \n",
              "30   0.390244             0.235294  "
            ],
            "text/html": [
              "\n",
              "  <div id=\"df-89ac0334-286e-403d-a088-bce84b726c60\">\n",
              "    <div class=\"colab-df-container\">\n",
              "      <div>\n",
              "<style scoped>\n",
              "    .dataframe tbody tr th:only-of-type {\n",
              "        vertical-align: middle;\n",
              "    }\n",
              "\n",
              "    .dataframe tbody tr th {\n",
              "        vertical-align: top;\n",
              "    }\n",
              "\n",
              "    .dataframe thead th {\n",
              "        text-align: right;\n",
              "    }\n",
              "</style>\n",
              "<table border=\"1\" class=\"dataframe\">\n",
              "  <thead>\n",
              "    <tr style=\"text-align: right;\">\n",
              "      <th></th>\n",
              "      <th>team</th>\n",
              "      <th>draft</th>\n",
              "      <th>gp</th>\n",
              "      <th>pts</th>\n",
              "      <th>reb</th>\n",
              "      <th>net_rating</th>\n",
              "      <th>ts_pct</th>\n",
              "      <th>ast_pct</th>\n",
              "      <th>All_star_selections</th>\n",
              "    </tr>\n",
              "  </thead>\n",
              "  <tbody>\n",
              "    <tr>\n",
              "      <th>66</th>\n",
              "      <td>0.677419</td>\n",
              "      <td>0.666667</td>\n",
              "      <td>0.566099</td>\n",
              "      <td>0.379701</td>\n",
              "      <td>0.127581</td>\n",
              "      <td>0.711506</td>\n",
              "      <td>0.642857</td>\n",
              "      <td>0.609756</td>\n",
              "      <td>0.000000</td>\n",
              "    </tr>\n",
              "    <tr>\n",
              "      <th>18</th>\n",
              "      <td>0.774194</td>\n",
              "      <td>0.912281</td>\n",
              "      <td>0.204843</td>\n",
              "      <td>0.682572</td>\n",
              "      <td>0.223451</td>\n",
              "      <td>0.742386</td>\n",
              "      <td>0.678571</td>\n",
              "      <td>0.463415</td>\n",
              "      <td>0.117647</td>\n",
              "    </tr>\n",
              "    <tr>\n",
              "      <th>69</th>\n",
              "      <td>0.935484</td>\n",
              "      <td>0.210526</td>\n",
              "      <td>0.179319</td>\n",
              "      <td>0.466235</td>\n",
              "      <td>0.128319</td>\n",
              "      <td>0.909687</td>\n",
              "      <td>0.857143</td>\n",
              "      <td>0.390244</td>\n",
              "      <td>0.000000</td>\n",
              "    </tr>\n",
              "    <tr>\n",
              "      <th>124</th>\n",
              "      <td>0.741935</td>\n",
              "      <td>0.859649</td>\n",
              "      <td>0.752618</td>\n",
              "      <td>0.536595</td>\n",
              "      <td>0.548673</td>\n",
              "      <td>0.749154</td>\n",
              "      <td>0.678571</td>\n",
              "      <td>0.121951</td>\n",
              "      <td>0.176471</td>\n",
              "    </tr>\n",
              "    <tr>\n",
              "      <th>30</th>\n",
              "      <td>0.806452</td>\n",
              "      <td>1.000000</td>\n",
              "      <td>0.440445</td>\n",
              "      <td>0.771128</td>\n",
              "      <td>0.640118</td>\n",
              "      <td>0.742597</td>\n",
              "      <td>0.571429</td>\n",
              "      <td>0.390244</td>\n",
              "      <td>0.235294</td>\n",
              "    </tr>\n",
              "  </tbody>\n",
              "</table>\n",
              "</div>\n",
              "      <button class=\"colab-df-convert\" onclick=\"convertToInteractive('df-89ac0334-286e-403d-a088-bce84b726c60')\"\n",
              "              title=\"Convert this dataframe to an interactive table.\"\n",
              "              style=\"display:none;\">\n",
              "        \n",
              "  <svg xmlns=\"http://www.w3.org/2000/svg\" height=\"24px\"viewBox=\"0 0 24 24\"\n",
              "       width=\"24px\">\n",
              "    <path d=\"M0 0h24v24H0V0z\" fill=\"none\"/>\n",
              "    <path d=\"M18.56 5.44l.94 2.06.94-2.06 2.06-.94-2.06-.94-.94-2.06-.94 2.06-2.06.94zm-11 1L8.5 8.5l.94-2.06 2.06-.94-2.06-.94L8.5 2.5l-.94 2.06-2.06.94zm10 10l.94 2.06.94-2.06 2.06-.94-2.06-.94-.94-2.06-.94 2.06-2.06.94z\"/><path d=\"M17.41 7.96l-1.37-1.37c-.4-.4-.92-.59-1.43-.59-.52 0-1.04.2-1.43.59L10.3 9.45l-7.72 7.72c-.78.78-.78 2.05 0 2.83L4 21.41c.39.39.9.59 1.41.59.51 0 1.02-.2 1.41-.59l7.78-7.78 2.81-2.81c.8-.78.8-2.07 0-2.86zM5.41 20L4 18.59l7.72-7.72 1.47 1.35L5.41 20z\"/>\n",
              "  </svg>\n",
              "      </button>\n",
              "      \n",
              "  <style>\n",
              "    .colab-df-container {\n",
              "      display:flex;\n",
              "      flex-wrap:wrap;\n",
              "      gap: 12px;\n",
              "    }\n",
              "\n",
              "    .colab-df-convert {\n",
              "      background-color: #E8F0FE;\n",
              "      border: none;\n",
              "      border-radius: 50%;\n",
              "      cursor: pointer;\n",
              "      display: none;\n",
              "      fill: #1967D2;\n",
              "      height: 32px;\n",
              "      padding: 0 0 0 0;\n",
              "      width: 32px;\n",
              "    }\n",
              "\n",
              "    .colab-df-convert:hover {\n",
              "      background-color: #E2EBFA;\n",
              "      box-shadow: 0px 1px 2px rgba(60, 64, 67, 0.3), 0px 1px 3px 1px rgba(60, 64, 67, 0.15);\n",
              "      fill: #174EA6;\n",
              "    }\n",
              "\n",
              "    [theme=dark] .colab-df-convert {\n",
              "      background-color: #3B4455;\n",
              "      fill: #D2E3FC;\n",
              "    }\n",
              "\n",
              "    [theme=dark] .colab-df-convert:hover {\n",
              "      background-color: #434B5C;\n",
              "      box-shadow: 0px 1px 3px 1px rgba(0, 0, 0, 0.15);\n",
              "      filter: drop-shadow(0px 1px 2px rgba(0, 0, 0, 0.3));\n",
              "      fill: #FFFFFF;\n",
              "    }\n",
              "  </style>\n",
              "\n",
              "      <script>\n",
              "        const buttonEl =\n",
              "          document.querySelector('#df-89ac0334-286e-403d-a088-bce84b726c60 button.colab-df-convert');\n",
              "        buttonEl.style.display =\n",
              "          google.colab.kernel.accessAllowed ? 'block' : 'none';\n",
              "\n",
              "        async function convertToInteractive(key) {\n",
              "          const element = document.querySelector('#df-89ac0334-286e-403d-a088-bce84b726c60');\n",
              "          const dataTable =\n",
              "            await google.colab.kernel.invokeFunction('convertToInteractive',\n",
              "                                                     [key], {});\n",
              "          if (!dataTable) return;\n",
              "\n",
              "          const docLinkHtml = 'Like what you see? Visit the ' +\n",
              "            '<a target=\"_blank\" href=https://colab.research.google.com/notebooks/data_table.ipynb>data table notebook</a>'\n",
              "            + ' to learn more about interactive tables.';\n",
              "          element.innerHTML = '';\n",
              "          dataTable['output_type'] = 'display_data';\n",
              "          await google.colab.output.renderOutput(dataTable, element);\n",
              "          const docLink = document.createElement('div');\n",
              "          docLink.innerHTML = docLinkHtml;\n",
              "          element.appendChild(docLink);\n",
              "        }\n",
              "      </script>\n",
              "    </div>\n",
              "  </div>\n",
              "  "
            ]
          },
          "metadata": {},
          "execution_count": 90
        }
      ]
    },
    {
      "cell_type": "code",
      "source": [
        "y_train.head()"
      ],
      "metadata": {
        "id": "zo_F6kqQxGhP",
        "colab": {
          "base_uri": "https://localhost:8080/"
        },
        "outputId": "7f9e172a-d73c-4f0e-f6cd-403a6a6b902b"
      },
      "execution_count": 91,
      "outputs": [
        {
          "output_type": "execute_result",
          "data": {
            "text/plain": [
              "93     0\n",
              "27     0\n",
              "99     0\n",
              "183    0\n",
              "42     1\n",
              "Name: In_Hall_of_fame, dtype: int64"
            ]
          },
          "metadata": {},
          "execution_count": 91
        }
      ]
    },
    {
      "cell_type": "code",
      "source": [
        "X_train = X_train.to_numpy()\n",
        "Y_train = np.reshape(y_train.to_numpy(), (len(y_train), 1))\n",
        "\n",
        "X_test = X_test.to_numpy()\n",
        "Y_test = np.reshape(y_test.to_numpy(), (len(y_test), 1))\n",
        "\n",
        "print(X_train.shape, Y_train.shape)"
      ],
      "metadata": {
        "colab": {
          "base_uri": "https://localhost:8080/"
        },
        "id": "AnBfLH_HhmIh",
        "outputId": "3c51b2aa-0802-414d-cb4c-f3a20b47c3a6"
      },
      "execution_count": 92,
      "outputs": [
        {
          "output_type": "stream",
          "name": "stdout",
          "text": [
            "(133, 9) (133, 1)\n"
          ]
        }
      ]
    },
    {
      "cell_type": "markdown",
      "source": [
        "# Exploratory Data Analysis (EDA)\n",
        "Skip for HW 2"
      ],
      "metadata": {
        "id": "ATQgTaqG03N2"
      }
    },
    {
      "cell_type": "code",
      "source": [
        "# Possible EDA methods (from class example):\n",
        "# info(), describe(), pairplot, scatter plot, pie chart, bar chart, histogram,\n",
        "# grouping, PCA (not from class)"
      ],
      "metadata": {
        "id": "g7n9NY5V2P_n"
      },
      "execution_count": null,
      "outputs": []
    },
    {
      "cell_type": "markdown",
      "source": [
        "### Description of Data\n",
        "This provides general statistics for each column in the data, which gives further insights on the number of values and the distributions of the features."
      ],
      "metadata": {
        "id": "gQ6JNg__had0"
      }
    },
    {
      "cell_type": "code",
      "source": [
        "final_data.describe()"
      ],
      "metadata": {
        "colab": {
          "base_uri": "https://localhost:8080/"
        },
        "id": "T1CYkiLZv_OL",
        "outputId": "27ddd437-457e-4acb-cf90-12d9a67a291d"
      },
      "execution_count": null,
      "outputs": [
        {
          "output_type": "execute_result",
          "data": {
            "text/plain": [
              "             team       draft           gp         pts         reb  \\\n",
              "count  148.000000  148.000000   148.000000  148.000000  148.000000   \n",
              "mean    15.648649   42.804054   651.236486   13.579122    5.563851   \n",
              "std      9.011606   14.089924   361.940863    4.758926    2.592176   \n",
              "min      0.000000   -1.000000    13.000000    1.940000    1.230000   \n",
              "25%      8.000000   38.000000   371.000000   10.580000    3.485000   \n",
              "50%     15.000000   48.000000   621.500000   13.565000    5.490000   \n",
              "75%     23.000000   53.000000   894.250000   16.735000    7.522500   \n",
              "max     31.000000   56.000000  1541.000000   26.670000   14.790000   \n",
              "\n",
              "              ast  net_rating    oreb_pct    dreb_pct     usg_pct      ts_pct  \\\n",
              "count  148.000000  148.000000  148.000000  148.000000  148.000000  148.000000   \n",
              "mean     2.972770    1.562703    0.060473    0.155676    0.215676    0.534122   \n",
              "std      1.975245    4.868963    0.036818    0.056715    0.043002    0.037178   \n",
              "min      0.280000  -32.380000    0.010000    0.060000    0.090000    0.350000   \n",
              "25%      1.547500   -0.310000    0.030000    0.100000    0.190000    0.510000   \n",
              "50%      2.395000    1.720000    0.050000    0.150000    0.215000    0.530000   \n",
              "75%      3.922500    3.897500    0.090000    0.200000    0.250000    0.552500   \n",
              "max      8.710000   14.900000    0.180000    0.330000    0.330000    0.630000   \n",
              "\n",
              "          ast_pct  All_star_selections  In_Hall_of_fame  \n",
              "count  148.000000           148.000000       148.000000  \n",
              "mean     0.161216             3.932432         0.243243  \n",
              "std      0.092287             3.909977         0.430498  \n",
              "min      0.040000             1.000000         0.000000  \n",
              "25%      0.090000             1.000000         0.000000  \n",
              "50%      0.130000             2.000000         0.000000  \n",
              "75%      0.202500             6.000000         0.000000  \n",
              "max      0.450000            18.000000         1.000000  "
            ],
            "text/html": [
              "\n",
              "  <div id=\"df-47edfecf-648f-4cc9-985e-b02d7e295c2e\">\n",
              "    <div class=\"colab-df-container\">\n",
              "      <div>\n",
              "<style scoped>\n",
              "    .dataframe tbody tr th:only-of-type {\n",
              "        vertical-align: middle;\n",
              "    }\n",
              "\n",
              "    .dataframe tbody tr th {\n",
              "        vertical-align: top;\n",
              "    }\n",
              "\n",
              "    .dataframe thead th {\n",
              "        text-align: right;\n",
              "    }\n",
              "</style>\n",
              "<table border=\"1\" class=\"dataframe\">\n",
              "  <thead>\n",
              "    <tr style=\"text-align: right;\">\n",
              "      <th></th>\n",
              "      <th>team</th>\n",
              "      <th>draft</th>\n",
              "      <th>gp</th>\n",
              "      <th>pts</th>\n",
              "      <th>reb</th>\n",
              "      <th>ast</th>\n",
              "      <th>net_rating</th>\n",
              "      <th>oreb_pct</th>\n",
              "      <th>dreb_pct</th>\n",
              "      <th>usg_pct</th>\n",
              "      <th>ts_pct</th>\n",
              "      <th>ast_pct</th>\n",
              "      <th>All_star_selections</th>\n",
              "      <th>In_Hall_of_fame</th>\n",
              "    </tr>\n",
              "  </thead>\n",
              "  <tbody>\n",
              "    <tr>\n",
              "      <th>count</th>\n",
              "      <td>148.000000</td>\n",
              "      <td>148.000000</td>\n",
              "      <td>148.000000</td>\n",
              "      <td>148.000000</td>\n",
              "      <td>148.000000</td>\n",
              "      <td>148.000000</td>\n",
              "      <td>148.000000</td>\n",
              "      <td>148.000000</td>\n",
              "      <td>148.000000</td>\n",
              "      <td>148.000000</td>\n",
              "      <td>148.000000</td>\n",
              "      <td>148.000000</td>\n",
              "      <td>148.000000</td>\n",
              "      <td>148.000000</td>\n",
              "    </tr>\n",
              "    <tr>\n",
              "      <th>mean</th>\n",
              "      <td>15.648649</td>\n",
              "      <td>42.804054</td>\n",
              "      <td>651.236486</td>\n",
              "      <td>13.579122</td>\n",
              "      <td>5.563851</td>\n",
              "      <td>2.972770</td>\n",
              "      <td>1.562703</td>\n",
              "      <td>0.060473</td>\n",
              "      <td>0.155676</td>\n",
              "      <td>0.215676</td>\n",
              "      <td>0.534122</td>\n",
              "      <td>0.161216</td>\n",
              "      <td>3.932432</td>\n",
              "      <td>0.243243</td>\n",
              "    </tr>\n",
              "    <tr>\n",
              "      <th>std</th>\n",
              "      <td>9.011606</td>\n",
              "      <td>14.089924</td>\n",
              "      <td>361.940863</td>\n",
              "      <td>4.758926</td>\n",
              "      <td>2.592176</td>\n",
              "      <td>1.975245</td>\n",
              "      <td>4.868963</td>\n",
              "      <td>0.036818</td>\n",
              "      <td>0.056715</td>\n",
              "      <td>0.043002</td>\n",
              "      <td>0.037178</td>\n",
              "      <td>0.092287</td>\n",
              "      <td>3.909977</td>\n",
              "      <td>0.430498</td>\n",
              "    </tr>\n",
              "    <tr>\n",
              "      <th>min</th>\n",
              "      <td>0.000000</td>\n",
              "      <td>-1.000000</td>\n",
              "      <td>13.000000</td>\n",
              "      <td>1.940000</td>\n",
              "      <td>1.230000</td>\n",
              "      <td>0.280000</td>\n",
              "      <td>-32.380000</td>\n",
              "      <td>0.010000</td>\n",
              "      <td>0.060000</td>\n",
              "      <td>0.090000</td>\n",
              "      <td>0.350000</td>\n",
              "      <td>0.040000</td>\n",
              "      <td>1.000000</td>\n",
              "      <td>0.000000</td>\n",
              "    </tr>\n",
              "    <tr>\n",
              "      <th>25%</th>\n",
              "      <td>8.000000</td>\n",
              "      <td>38.000000</td>\n",
              "      <td>371.000000</td>\n",
              "      <td>10.580000</td>\n",
              "      <td>3.485000</td>\n",
              "      <td>1.547500</td>\n",
              "      <td>-0.310000</td>\n",
              "      <td>0.030000</td>\n",
              "      <td>0.100000</td>\n",
              "      <td>0.190000</td>\n",
              "      <td>0.510000</td>\n",
              "      <td>0.090000</td>\n",
              "      <td>1.000000</td>\n",
              "      <td>0.000000</td>\n",
              "    </tr>\n",
              "    <tr>\n",
              "      <th>50%</th>\n",
              "      <td>15.000000</td>\n",
              "      <td>48.000000</td>\n",
              "      <td>621.500000</td>\n",
              "      <td>13.565000</td>\n",
              "      <td>5.490000</td>\n",
              "      <td>2.395000</td>\n",
              "      <td>1.720000</td>\n",
              "      <td>0.050000</td>\n",
              "      <td>0.150000</td>\n",
              "      <td>0.215000</td>\n",
              "      <td>0.530000</td>\n",
              "      <td>0.130000</td>\n",
              "      <td>2.000000</td>\n",
              "      <td>0.000000</td>\n",
              "    </tr>\n",
              "    <tr>\n",
              "      <th>75%</th>\n",
              "      <td>23.000000</td>\n",
              "      <td>53.000000</td>\n",
              "      <td>894.250000</td>\n",
              "      <td>16.735000</td>\n",
              "      <td>7.522500</td>\n",
              "      <td>3.922500</td>\n",
              "      <td>3.897500</td>\n",
              "      <td>0.090000</td>\n",
              "      <td>0.200000</td>\n",
              "      <td>0.250000</td>\n",
              "      <td>0.552500</td>\n",
              "      <td>0.202500</td>\n",
              "      <td>6.000000</td>\n",
              "      <td>0.000000</td>\n",
              "    </tr>\n",
              "    <tr>\n",
              "      <th>max</th>\n",
              "      <td>31.000000</td>\n",
              "      <td>56.000000</td>\n",
              "      <td>1541.000000</td>\n",
              "      <td>26.670000</td>\n",
              "      <td>14.790000</td>\n",
              "      <td>8.710000</td>\n",
              "      <td>14.900000</td>\n",
              "      <td>0.180000</td>\n",
              "      <td>0.330000</td>\n",
              "      <td>0.330000</td>\n",
              "      <td>0.630000</td>\n",
              "      <td>0.450000</td>\n",
              "      <td>18.000000</td>\n",
              "      <td>1.000000</td>\n",
              "    </tr>\n",
              "  </tbody>\n",
              "</table>\n",
              "</div>\n",
              "      <button class=\"colab-df-convert\" onclick=\"convertToInteractive('df-47edfecf-648f-4cc9-985e-b02d7e295c2e')\"\n",
              "              title=\"Convert this dataframe to an interactive table.\"\n",
              "              style=\"display:none;\">\n",
              "        \n",
              "  <svg xmlns=\"http://www.w3.org/2000/svg\" height=\"24px\"viewBox=\"0 0 24 24\"\n",
              "       width=\"24px\">\n",
              "    <path d=\"M0 0h24v24H0V0z\" fill=\"none\"/>\n",
              "    <path d=\"M18.56 5.44l.94 2.06.94-2.06 2.06-.94-2.06-.94-.94-2.06-.94 2.06-2.06.94zm-11 1L8.5 8.5l.94-2.06 2.06-.94-2.06-.94L8.5 2.5l-.94 2.06-2.06.94zm10 10l.94 2.06.94-2.06 2.06-.94-2.06-.94-.94-2.06-.94 2.06-2.06.94z\"/><path d=\"M17.41 7.96l-1.37-1.37c-.4-.4-.92-.59-1.43-.59-.52 0-1.04.2-1.43.59L10.3 9.45l-7.72 7.72c-.78.78-.78 2.05 0 2.83L4 21.41c.39.39.9.59 1.41.59.51 0 1.02-.2 1.41-.59l7.78-7.78 2.81-2.81c.8-.78.8-2.07 0-2.86zM5.41 20L4 18.59l7.72-7.72 1.47 1.35L5.41 20z\"/>\n",
              "  </svg>\n",
              "      </button>\n",
              "      \n",
              "  <style>\n",
              "    .colab-df-container {\n",
              "      display:flex;\n",
              "      flex-wrap:wrap;\n",
              "      gap: 12px;\n",
              "    }\n",
              "\n",
              "    .colab-df-convert {\n",
              "      background-color: #E8F0FE;\n",
              "      border: none;\n",
              "      border-radius: 50%;\n",
              "      cursor: pointer;\n",
              "      display: none;\n",
              "      fill: #1967D2;\n",
              "      height: 32px;\n",
              "      padding: 0 0 0 0;\n",
              "      width: 32px;\n",
              "    }\n",
              "\n",
              "    .colab-df-convert:hover {\n",
              "      background-color: #E2EBFA;\n",
              "      box-shadow: 0px 1px 2px rgba(60, 64, 67, 0.3), 0px 1px 3px 1px rgba(60, 64, 67, 0.15);\n",
              "      fill: #174EA6;\n",
              "    }\n",
              "\n",
              "    [theme=dark] .colab-df-convert {\n",
              "      background-color: #3B4455;\n",
              "      fill: #D2E3FC;\n",
              "    }\n",
              "\n",
              "    [theme=dark] .colab-df-convert:hover {\n",
              "      background-color: #434B5C;\n",
              "      box-shadow: 0px 1px 3px 1px rgba(0, 0, 0, 0.15);\n",
              "      filter: drop-shadow(0px 1px 2px rgba(0, 0, 0, 0.3));\n",
              "      fill: #FFFFFF;\n",
              "    }\n",
              "  </style>\n",
              "\n",
              "      <script>\n",
              "        const buttonEl =\n",
              "          document.querySelector('#df-47edfecf-648f-4cc9-985e-b02d7e295c2e button.colab-df-convert');\n",
              "        buttonEl.style.display =\n",
              "          google.colab.kernel.accessAllowed ? 'block' : 'none';\n",
              "\n",
              "        async function convertToInteractive(key) {\n",
              "          const element = document.querySelector('#df-47edfecf-648f-4cc9-985e-b02d7e295c2e');\n",
              "          const dataTable =\n",
              "            await google.colab.kernel.invokeFunction('convertToInteractive',\n",
              "                                                     [key], {});\n",
              "          if (!dataTable) return;\n",
              "\n",
              "          const docLinkHtml = 'Like what you see? Visit the ' +\n",
              "            '<a target=\"_blank\" href=https://colab.research.google.com/notebooks/data_table.ipynb>data table notebook</a>'\n",
              "            + ' to learn more about interactive tables.';\n",
              "          element.innerHTML = '';\n",
              "          dataTable['output_type'] = 'display_data';\n",
              "          await google.colab.output.renderOutput(dataTable, element);\n",
              "          const docLink = document.createElement('div');\n",
              "          docLink.innerHTML = docLinkHtml;\n",
              "          element.appendChild(docLink);\n",
              "        }\n",
              "      </script>\n",
              "    </div>\n",
              "  </div>\n",
              "  "
            ]
          },
          "metadata": {},
          "execution_count": 16
        }
      ]
    },
    {
      "cell_type": "markdown",
      "source": [
        "### Pairplot\n",
        "This shows one-to-one correlations between each of the features, along with the distribution of the prediction label (Hall of Famer) for each correlation. Detecting direct correlations between features is especially important when using Logistic Regression, since the algorithm is less accurate when significant correlations exist."
      ],
      "metadata": {
        "id": "gx9jRVwrirPa"
      }
    },
    {
      "cell_type": "code",
      "source": [
        "sns.pairplot(final_data, hue=predict_label)"
      ],
      "metadata": {
        "colab": {
          "base_uri": "https://localhost:8080/",
          "height": 797
        },
        "id": "pOgpv-VzwAyi",
        "outputId": "d5b96cbb-1278-4d16-ed82-ad23c153befb"
      },
      "execution_count": null,
      "outputs": [
        {
          "output_type": "error",
          "ename": "KeyboardInterrupt",
          "evalue": "ignored",
          "traceback": [
            "\u001b[0;31m---------------------------------------------------------------------------\u001b[0m",
            "\u001b[0;31mKeyboardInterrupt\u001b[0m                         Traceback (most recent call last)",
            "\u001b[0;32m<ipython-input-17-f2fcdb6d7f52>\u001b[0m in \u001b[0;36m<module>\u001b[0;34m\u001b[0m\n\u001b[0;32m----> 1\u001b[0;31m \u001b[0msns\u001b[0m\u001b[0;34m.\u001b[0m\u001b[0mpairplot\u001b[0m\u001b[0;34m(\u001b[0m\u001b[0mfinal_data\u001b[0m\u001b[0;34m,\u001b[0m \u001b[0mhue\u001b[0m\u001b[0;34m=\u001b[0m\u001b[0mpredict_label\u001b[0m\u001b[0;34m)\u001b[0m\u001b[0;34m\u001b[0m\u001b[0;34m\u001b[0m\u001b[0m\n\u001b[0m",
            "\u001b[0;32m/usr/local/lib/python3.7/dist-packages/seaborn/_decorators.py\u001b[0m in \u001b[0;36minner_f\u001b[0;34m(*args, **kwargs)\u001b[0m\n\u001b[1;32m     44\u001b[0m             )\n\u001b[1;32m     45\u001b[0m         \u001b[0mkwargs\u001b[0m\u001b[0;34m.\u001b[0m\u001b[0mupdate\u001b[0m\u001b[0;34m(\u001b[0m\u001b[0;34m{\u001b[0m\u001b[0mk\u001b[0m\u001b[0;34m:\u001b[0m \u001b[0marg\u001b[0m \u001b[0;32mfor\u001b[0m \u001b[0mk\u001b[0m\u001b[0;34m,\u001b[0m \u001b[0marg\u001b[0m \u001b[0;32min\u001b[0m \u001b[0mzip\u001b[0m\u001b[0;34m(\u001b[0m\u001b[0msig\u001b[0m\u001b[0;34m.\u001b[0m\u001b[0mparameters\u001b[0m\u001b[0;34m,\u001b[0m \u001b[0margs\u001b[0m\u001b[0;34m)\u001b[0m\u001b[0;34m}\u001b[0m\u001b[0;34m)\u001b[0m\u001b[0;34m\u001b[0m\u001b[0;34m\u001b[0m\u001b[0m\n\u001b[0;32m---> 46\u001b[0;31m         \u001b[0;32mreturn\u001b[0m \u001b[0mf\u001b[0m\u001b[0;34m(\u001b[0m\u001b[0;34m**\u001b[0m\u001b[0mkwargs\u001b[0m\u001b[0;34m)\u001b[0m\u001b[0;34m\u001b[0m\u001b[0;34m\u001b[0m\u001b[0m\n\u001b[0m\u001b[1;32m     47\u001b[0m     \u001b[0;32mreturn\u001b[0m \u001b[0minner_f\u001b[0m\u001b[0;34m\u001b[0m\u001b[0;34m\u001b[0m\u001b[0m\n\u001b[1;32m     48\u001b[0m \u001b[0;34m\u001b[0m\u001b[0m\n",
            "\u001b[0;32m/usr/local/lib/python3.7/dist-packages/seaborn/axisgrid.py\u001b[0m in \u001b[0;36mpairplot\u001b[0;34m(data, hue, hue_order, palette, vars, x_vars, y_vars, kind, diag_kind, markers, height, aspect, corner, dropna, plot_kws, diag_kws, grid_kws, size)\u001b[0m\n\u001b[1;32m   2138\u001b[0m     \u001b[0;32mif\u001b[0m \u001b[0mkind\u001b[0m \u001b[0;34m==\u001b[0m \u001b[0;34m\"scatter\"\u001b[0m\u001b[0;34m:\u001b[0m\u001b[0;34m\u001b[0m\u001b[0;34m\u001b[0m\u001b[0m\n\u001b[1;32m   2139\u001b[0m         \u001b[0;32mfrom\u001b[0m \u001b[0;34m.\u001b[0m\u001b[0mrelational\u001b[0m \u001b[0;32mimport\u001b[0m \u001b[0mscatterplot\u001b[0m  \u001b[0;31m# Avoid circular import\u001b[0m\u001b[0;34m\u001b[0m\u001b[0;34m\u001b[0m\u001b[0m\n\u001b[0;32m-> 2140\u001b[0;31m         \u001b[0mplotter\u001b[0m\u001b[0;34m(\u001b[0m\u001b[0mscatterplot\u001b[0m\u001b[0;34m,\u001b[0m \u001b[0;34m**\u001b[0m\u001b[0mplot_kws\u001b[0m\u001b[0;34m)\u001b[0m\u001b[0;34m\u001b[0m\u001b[0;34m\u001b[0m\u001b[0m\n\u001b[0m\u001b[1;32m   2141\u001b[0m     \u001b[0;32melif\u001b[0m \u001b[0mkind\u001b[0m \u001b[0;34m==\u001b[0m \u001b[0;34m\"reg\"\u001b[0m\u001b[0;34m:\u001b[0m\u001b[0;34m\u001b[0m\u001b[0;34m\u001b[0m\u001b[0m\n\u001b[1;32m   2142\u001b[0m         \u001b[0;32mfrom\u001b[0m \u001b[0;34m.\u001b[0m\u001b[0mregression\u001b[0m \u001b[0;32mimport\u001b[0m \u001b[0mregplot\u001b[0m  \u001b[0;31m# Avoid circular import\u001b[0m\u001b[0;34m\u001b[0m\u001b[0;34m\u001b[0m\u001b[0m\n",
            "\u001b[0;32m/usr/local/lib/python3.7/dist-packages/seaborn/axisgrid.py\u001b[0m in \u001b[0;36mmap_offdiag\u001b[0;34m(self, func, **kwargs)\u001b[0m\n\u001b[1;32m   1387\u001b[0m             \u001b[0mself\u001b[0m\u001b[0;34m.\u001b[0m\u001b[0mmap_lower\u001b[0m\u001b[0;34m(\u001b[0m\u001b[0mfunc\u001b[0m\u001b[0;34m,\u001b[0m \u001b[0;34m**\u001b[0m\u001b[0mkwargs\u001b[0m\u001b[0;34m)\u001b[0m\u001b[0;34m\u001b[0m\u001b[0;34m\u001b[0m\u001b[0m\n\u001b[1;32m   1388\u001b[0m             \u001b[0;32mif\u001b[0m \u001b[0;32mnot\u001b[0m \u001b[0mself\u001b[0m\u001b[0;34m.\u001b[0m\u001b[0m_corner\u001b[0m\u001b[0;34m:\u001b[0m\u001b[0;34m\u001b[0m\u001b[0;34m\u001b[0m\u001b[0m\n\u001b[0;32m-> 1389\u001b[0;31m                 \u001b[0mself\u001b[0m\u001b[0;34m.\u001b[0m\u001b[0mmap_upper\u001b[0m\u001b[0;34m(\u001b[0m\u001b[0mfunc\u001b[0m\u001b[0;34m,\u001b[0m \u001b[0;34m**\u001b[0m\u001b[0mkwargs\u001b[0m\u001b[0;34m)\u001b[0m\u001b[0;34m\u001b[0m\u001b[0;34m\u001b[0m\u001b[0m\n\u001b[0m\u001b[1;32m   1390\u001b[0m         \u001b[0;32melse\u001b[0m\u001b[0;34m:\u001b[0m\u001b[0;34m\u001b[0m\u001b[0;34m\u001b[0m\u001b[0m\n\u001b[1;32m   1391\u001b[0m             \u001b[0mindices\u001b[0m \u001b[0;34m=\u001b[0m \u001b[0;34m[\u001b[0m\u001b[0;34m]\u001b[0m\u001b[0;34m\u001b[0m\u001b[0;34m\u001b[0m\u001b[0m\n",
            "\u001b[0;32m/usr/local/lib/python3.7/dist-packages/seaborn/axisgrid.py\u001b[0m in \u001b[0;36mmap_upper\u001b[0;34m(self, func, **kwargs)\u001b[0m\n\u001b[1;32m   1370\u001b[0m         \"\"\"\n\u001b[1;32m   1371\u001b[0m         \u001b[0mindices\u001b[0m \u001b[0;34m=\u001b[0m \u001b[0mzip\u001b[0m\u001b[0;34m(\u001b[0m\u001b[0;34m*\u001b[0m\u001b[0mnp\u001b[0m\u001b[0;34m.\u001b[0m\u001b[0mtriu_indices_from\u001b[0m\u001b[0;34m(\u001b[0m\u001b[0mself\u001b[0m\u001b[0;34m.\u001b[0m\u001b[0maxes\u001b[0m\u001b[0;34m,\u001b[0m \u001b[0;36m1\u001b[0m\u001b[0;34m)\u001b[0m\u001b[0;34m)\u001b[0m\u001b[0;34m\u001b[0m\u001b[0;34m\u001b[0m\u001b[0m\n\u001b[0;32m-> 1372\u001b[0;31m         \u001b[0mself\u001b[0m\u001b[0;34m.\u001b[0m\u001b[0m_map_bivariate\u001b[0m\u001b[0;34m(\u001b[0m\u001b[0mfunc\u001b[0m\u001b[0;34m,\u001b[0m \u001b[0mindices\u001b[0m\u001b[0;34m,\u001b[0m \u001b[0;34m**\u001b[0m\u001b[0mkwargs\u001b[0m\u001b[0;34m)\u001b[0m\u001b[0;34m\u001b[0m\u001b[0;34m\u001b[0m\u001b[0m\n\u001b[0m\u001b[1;32m   1373\u001b[0m         \u001b[0;32mreturn\u001b[0m \u001b[0mself\u001b[0m\u001b[0;34m\u001b[0m\u001b[0;34m\u001b[0m\u001b[0m\n\u001b[1;32m   1374\u001b[0m \u001b[0;34m\u001b[0m\u001b[0m\n",
            "\u001b[0;32m/usr/local/lib/python3.7/dist-packages/seaborn/axisgrid.py\u001b[0m in \u001b[0;36m_map_bivariate\u001b[0;34m(self, func, indices, **kwargs)\u001b[0m\n\u001b[1;32m   1537\u001b[0m             \u001b[0;32mif\u001b[0m \u001b[0max\u001b[0m \u001b[0;32mis\u001b[0m \u001b[0;32mNone\u001b[0m\u001b[0;34m:\u001b[0m  \u001b[0;31m# i.e. we are in corner mode\u001b[0m\u001b[0;34m\u001b[0m\u001b[0;34m\u001b[0m\u001b[0m\n\u001b[1;32m   1538\u001b[0m                 \u001b[0;32mcontinue\u001b[0m\u001b[0;34m\u001b[0m\u001b[0;34m\u001b[0m\u001b[0m\n\u001b[0;32m-> 1539\u001b[0;31m             \u001b[0mself\u001b[0m\u001b[0;34m.\u001b[0m\u001b[0m_plot_bivariate\u001b[0m\u001b[0;34m(\u001b[0m\u001b[0mx_var\u001b[0m\u001b[0;34m,\u001b[0m \u001b[0my_var\u001b[0m\u001b[0;34m,\u001b[0m \u001b[0max\u001b[0m\u001b[0;34m,\u001b[0m \u001b[0mfunc\u001b[0m\u001b[0;34m,\u001b[0m \u001b[0;34m**\u001b[0m\u001b[0mkws\u001b[0m\u001b[0;34m)\u001b[0m\u001b[0;34m\u001b[0m\u001b[0;34m\u001b[0m\u001b[0m\n\u001b[0m\u001b[1;32m   1540\u001b[0m         \u001b[0mself\u001b[0m\u001b[0;34m.\u001b[0m\u001b[0m_add_axis_labels\u001b[0m\u001b[0;34m(\u001b[0m\u001b[0;34m)\u001b[0m\u001b[0;34m\u001b[0m\u001b[0;34m\u001b[0m\u001b[0m\n\u001b[1;32m   1541\u001b[0m \u001b[0;34m\u001b[0m\u001b[0m\n",
            "\u001b[0;32m/usr/local/lib/python3.7/dist-packages/seaborn/axisgrid.py\u001b[0m in \u001b[0;36m_plot_bivariate\u001b[0;34m(self, x_var, y_var, ax, func, **kwargs)\u001b[0m\n\u001b[1;32m   1563\u001b[0m             \u001b[0maxes_vars\u001b[0m\u001b[0;34m.\u001b[0m\u001b[0mappend\u001b[0m\u001b[0;34m(\u001b[0m\u001b[0mself\u001b[0m\u001b[0;34m.\u001b[0m\u001b[0m_hue_var\u001b[0m\u001b[0;34m)\u001b[0m\u001b[0;34m\u001b[0m\u001b[0;34m\u001b[0m\u001b[0m\n\u001b[1;32m   1564\u001b[0m \u001b[0;34m\u001b[0m\u001b[0m\n\u001b[0;32m-> 1565\u001b[0;31m         \u001b[0mdata\u001b[0m \u001b[0;34m=\u001b[0m \u001b[0mself\u001b[0m\u001b[0;34m.\u001b[0m\u001b[0mdata\u001b[0m\u001b[0;34m[\u001b[0m\u001b[0maxes_vars\u001b[0m\u001b[0;34m]\u001b[0m\u001b[0;34m\u001b[0m\u001b[0;34m\u001b[0m\u001b[0m\n\u001b[0m\u001b[1;32m   1566\u001b[0m         \u001b[0;32mif\u001b[0m \u001b[0mself\u001b[0m\u001b[0;34m.\u001b[0m\u001b[0m_dropna\u001b[0m\u001b[0;34m:\u001b[0m\u001b[0;34m\u001b[0m\u001b[0;34m\u001b[0m\u001b[0m\n\u001b[1;32m   1567\u001b[0m             \u001b[0mdata\u001b[0m \u001b[0;34m=\u001b[0m \u001b[0mdata\u001b[0m\u001b[0;34m.\u001b[0m\u001b[0mdropna\u001b[0m\u001b[0;34m(\u001b[0m\u001b[0;34m)\u001b[0m\u001b[0;34m\u001b[0m\u001b[0;34m\u001b[0m\u001b[0m\n",
            "\u001b[0;32m/usr/local/lib/python3.7/dist-packages/pandas/core/frame.py\u001b[0m in \u001b[0;36m__getitem__\u001b[0;34m(self, key)\u001b[0m\n\u001b[1;32m   3468\u001b[0m             \u001b[0mindexer\u001b[0m \u001b[0;34m=\u001b[0m \u001b[0mnp\u001b[0m\u001b[0;34m.\u001b[0m\u001b[0mwhere\u001b[0m\u001b[0;34m(\u001b[0m\u001b[0mindexer\u001b[0m\u001b[0;34m)\u001b[0m\u001b[0;34m[\u001b[0m\u001b[0;36m0\u001b[0m\u001b[0;34m]\u001b[0m\u001b[0;34m\u001b[0m\u001b[0;34m\u001b[0m\u001b[0m\n\u001b[1;32m   3469\u001b[0m \u001b[0;34m\u001b[0m\u001b[0m\n\u001b[0;32m-> 3470\u001b[0;31m         \u001b[0mdata\u001b[0m \u001b[0;34m=\u001b[0m \u001b[0mself\u001b[0m\u001b[0;34m.\u001b[0m\u001b[0m_take_with_is_copy\u001b[0m\u001b[0;34m(\u001b[0m\u001b[0mindexer\u001b[0m\u001b[0;34m,\u001b[0m \u001b[0maxis\u001b[0m\u001b[0;34m=\u001b[0m\u001b[0;36m1\u001b[0m\u001b[0;34m)\u001b[0m\u001b[0;34m\u001b[0m\u001b[0;34m\u001b[0m\u001b[0m\n\u001b[0m\u001b[1;32m   3471\u001b[0m \u001b[0;34m\u001b[0m\u001b[0m\n\u001b[1;32m   3472\u001b[0m         \u001b[0;32mif\u001b[0m \u001b[0mis_single_key\u001b[0m\u001b[0;34m:\u001b[0m\u001b[0;34m\u001b[0m\u001b[0;34m\u001b[0m\u001b[0m\n",
            "\u001b[0;32m/usr/local/lib/python3.7/dist-packages/pandas/core/generic.py\u001b[0m in \u001b[0;36m_take_with_is_copy\u001b[0;34m(self, indices, axis)\u001b[0m\n\u001b[1;32m   3626\u001b[0m         \u001b[0mSee\u001b[0m \u001b[0mthe\u001b[0m \u001b[0mdocstring\u001b[0m \u001b[0mof\u001b[0m\u001b[0;31m \u001b[0m\u001b[0;31m`\u001b[0m\u001b[0mtake\u001b[0m\u001b[0;31m`\u001b[0m \u001b[0;32mfor\u001b[0m \u001b[0mfull\u001b[0m \u001b[0mexplanation\u001b[0m \u001b[0mof\u001b[0m \u001b[0mthe\u001b[0m \u001b[0mparameters\u001b[0m\u001b[0;34m.\u001b[0m\u001b[0;34m\u001b[0m\u001b[0;34m\u001b[0m\u001b[0m\n\u001b[1;32m   3627\u001b[0m         \"\"\"\n\u001b[0;32m-> 3628\u001b[0;31m         \u001b[0mresult\u001b[0m \u001b[0;34m=\u001b[0m \u001b[0mself\u001b[0m\u001b[0;34m.\u001b[0m\u001b[0mtake\u001b[0m\u001b[0;34m(\u001b[0m\u001b[0mindices\u001b[0m\u001b[0;34m=\u001b[0m\u001b[0mindices\u001b[0m\u001b[0;34m,\u001b[0m \u001b[0maxis\u001b[0m\u001b[0;34m=\u001b[0m\u001b[0maxis\u001b[0m\u001b[0;34m)\u001b[0m\u001b[0;34m\u001b[0m\u001b[0;34m\u001b[0m\u001b[0m\n\u001b[0m\u001b[1;32m   3629\u001b[0m         \u001b[0;31m# Maybe set copy if we didn't actually change the index.\u001b[0m\u001b[0;34m\u001b[0m\u001b[0;34m\u001b[0m\u001b[0;34m\u001b[0m\u001b[0m\n\u001b[1;32m   3630\u001b[0m         \u001b[0;32mif\u001b[0m \u001b[0;32mnot\u001b[0m \u001b[0mresult\u001b[0m\u001b[0;34m.\u001b[0m\u001b[0m_get_axis\u001b[0m\u001b[0;34m(\u001b[0m\u001b[0maxis\u001b[0m\u001b[0;34m)\u001b[0m\u001b[0;34m.\u001b[0m\u001b[0mequals\u001b[0m\u001b[0;34m(\u001b[0m\u001b[0mself\u001b[0m\u001b[0;34m.\u001b[0m\u001b[0m_get_axis\u001b[0m\u001b[0;34m(\u001b[0m\u001b[0maxis\u001b[0m\u001b[0;34m)\u001b[0m\u001b[0;34m)\u001b[0m\u001b[0;34m:\u001b[0m\u001b[0;34m\u001b[0m\u001b[0;34m\u001b[0m\u001b[0m\n",
            "\u001b[0;32m/usr/local/lib/python3.7/dist-packages/pandas/core/generic.py\u001b[0m in \u001b[0;36mtake\u001b[0;34m(self, indices, axis, is_copy, **kwargs)\u001b[0m\n\u001b[1;32m   3614\u001b[0m \u001b[0;34m\u001b[0m\u001b[0m\n\u001b[1;32m   3615\u001b[0m         new_data = self._mgr.take(\n\u001b[0;32m-> 3616\u001b[0;31m             \u001b[0mindices\u001b[0m\u001b[0;34m,\u001b[0m \u001b[0maxis\u001b[0m\u001b[0;34m=\u001b[0m\u001b[0mself\u001b[0m\u001b[0;34m.\u001b[0m\u001b[0m_get_block_manager_axis\u001b[0m\u001b[0;34m(\u001b[0m\u001b[0maxis\u001b[0m\u001b[0;34m)\u001b[0m\u001b[0;34m,\u001b[0m \u001b[0mverify\u001b[0m\u001b[0;34m=\u001b[0m\u001b[0;32mTrue\u001b[0m\u001b[0;34m\u001b[0m\u001b[0;34m\u001b[0m\u001b[0m\n\u001b[0m\u001b[1;32m   3617\u001b[0m         )\n\u001b[1;32m   3618\u001b[0m         \u001b[0;32mreturn\u001b[0m \u001b[0mself\u001b[0m\u001b[0;34m.\u001b[0m\u001b[0m_constructor\u001b[0m\u001b[0;34m(\u001b[0m\u001b[0mnew_data\u001b[0m\u001b[0;34m)\u001b[0m\u001b[0;34m.\u001b[0m\u001b[0m__finalize__\u001b[0m\u001b[0;34m(\u001b[0m\u001b[0mself\u001b[0m\u001b[0;34m,\u001b[0m \u001b[0mmethod\u001b[0m\u001b[0;34m=\u001b[0m\u001b[0;34m\"take\"\u001b[0m\u001b[0;34m)\u001b[0m\u001b[0;34m\u001b[0m\u001b[0;34m\u001b[0m\u001b[0m\n",
            "\u001b[0;32m/usr/local/lib/python3.7/dist-packages/pandas/core/internals/managers.py\u001b[0m in \u001b[0;36mtake\u001b[0;34m(self, indexer, axis, verify)\u001b[0m\n\u001b[1;32m    868\u001b[0m             \u001b[0maxis\u001b[0m\u001b[0;34m=\u001b[0m\u001b[0maxis\u001b[0m\u001b[0;34m,\u001b[0m\u001b[0;34m\u001b[0m\u001b[0;34m\u001b[0m\u001b[0m\n\u001b[1;32m    869\u001b[0m             \u001b[0mallow_dups\u001b[0m\u001b[0;34m=\u001b[0m\u001b[0;32mTrue\u001b[0m\u001b[0;34m,\u001b[0m\u001b[0;34m\u001b[0m\u001b[0;34m\u001b[0m\u001b[0m\n\u001b[0;32m--> 870\u001b[0;31m             \u001b[0mconsolidate\u001b[0m\u001b[0;34m=\u001b[0m\u001b[0;32mFalse\u001b[0m\u001b[0;34m,\u001b[0m\u001b[0;34m\u001b[0m\u001b[0;34m\u001b[0m\u001b[0m\n\u001b[0m\u001b[1;32m    871\u001b[0m         )\n\u001b[1;32m    872\u001b[0m \u001b[0;34m\u001b[0m\u001b[0m\n",
            "\u001b[0;32m/usr/local/lib/python3.7/dist-packages/pandas/core/internals/managers.py\u001b[0m in \u001b[0;36mreindex_indexer\u001b[0;34m(self, new_axis, indexer, axis, fill_value, allow_dups, copy, consolidate, only_slice)\u001b[0m\n\u001b[1;32m    675\u001b[0m         \u001b[0;32mif\u001b[0m \u001b[0maxis\u001b[0m \u001b[0;34m==\u001b[0m \u001b[0;36m0\u001b[0m\u001b[0;34m:\u001b[0m\u001b[0;34m\u001b[0m\u001b[0;34m\u001b[0m\u001b[0m\n\u001b[1;32m    676\u001b[0m             new_blocks = self._slice_take_blocks_ax0(\n\u001b[0;32m--> 677\u001b[0;31m                 \u001b[0mindexer\u001b[0m\u001b[0;34m,\u001b[0m \u001b[0mfill_value\u001b[0m\u001b[0;34m=\u001b[0m\u001b[0mfill_value\u001b[0m\u001b[0;34m,\u001b[0m \u001b[0monly_slice\u001b[0m\u001b[0;34m=\u001b[0m\u001b[0monly_slice\u001b[0m\u001b[0;34m\u001b[0m\u001b[0;34m\u001b[0m\u001b[0m\n\u001b[0m\u001b[1;32m    678\u001b[0m             )\n\u001b[1;32m    679\u001b[0m         \u001b[0;32melse\u001b[0m\u001b[0;34m:\u001b[0m\u001b[0;34m\u001b[0m\u001b[0;34m\u001b[0m\u001b[0m\n",
            "\u001b[0;32m/usr/local/lib/python3.7/dist-packages/pandas/core/internals/managers.py\u001b[0m in \u001b[0;36m_slice_take_blocks_ax0\u001b[0;34m(self, slice_or_indexer, fill_value, only_slice)\u001b[0m\n\u001b[1;32m    775\u001b[0m         \u001b[0mblocks\u001b[0m \u001b[0;34m=\u001b[0m \u001b[0;34m[\u001b[0m\u001b[0;34m]\u001b[0m\u001b[0;34m\u001b[0m\u001b[0;34m\u001b[0m\u001b[0m\n\u001b[1;32m    776\u001b[0m         \u001b[0mgroup\u001b[0m \u001b[0;34m=\u001b[0m \u001b[0;32mnot\u001b[0m \u001b[0monly_slice\u001b[0m\u001b[0;34m\u001b[0m\u001b[0;34m\u001b[0m\u001b[0m\n\u001b[0;32m--> 777\u001b[0;31m         \u001b[0;32mfor\u001b[0m \u001b[0mblkno\u001b[0m\u001b[0;34m,\u001b[0m \u001b[0mmgr_locs\u001b[0m \u001b[0;32min\u001b[0m \u001b[0mlibinternals\u001b[0m\u001b[0;34m.\u001b[0m\u001b[0mget_blkno_placements\u001b[0m\u001b[0;34m(\u001b[0m\u001b[0mblknos\u001b[0m\u001b[0;34m,\u001b[0m \u001b[0mgroup\u001b[0m\u001b[0;34m=\u001b[0m\u001b[0mgroup\u001b[0m\u001b[0;34m)\u001b[0m\u001b[0;34m:\u001b[0m\u001b[0;34m\u001b[0m\u001b[0;34m\u001b[0m\u001b[0m\n\u001b[0m\u001b[1;32m    778\u001b[0m             \u001b[0;32mif\u001b[0m \u001b[0mblkno\u001b[0m \u001b[0;34m==\u001b[0m \u001b[0;34m-\u001b[0m\u001b[0;36m1\u001b[0m\u001b[0;34m:\u001b[0m\u001b[0;34m\u001b[0m\u001b[0;34m\u001b[0m\u001b[0m\n\u001b[1;32m    779\u001b[0m                 \u001b[0;31m# If we've got here, fill_value was not lib.no_default\u001b[0m\u001b[0;34m\u001b[0m\u001b[0;34m\u001b[0m\u001b[0;34m\u001b[0m\u001b[0m\n",
            "\u001b[0;31mKeyboardInterrupt\u001b[0m: "
          ]
        },
        {
          "output_type": "stream",
          "name": "stdout",
          "text": [
            "Error in callback <function flush_figures at 0x7fc31bd65320> (for post_execute):\n"
          ]
        },
        {
          "output_type": "error",
          "ename": "KeyboardInterrupt",
          "evalue": "ignored",
          "traceback": [
            "\u001b[0;31m---------------------------------------------------------------------------\u001b[0m",
            "\u001b[0;31mKeyboardInterrupt\u001b[0m                         Traceback (most recent call last)",
            "\u001b[0;32m/usr/local/lib/python3.7/dist-packages/ipykernel/pylab/backend_inline.py\u001b[0m in \u001b[0;36mflush_figures\u001b[0;34m()\u001b[0m\n\u001b[1;32m    119\u001b[0m         \u001b[0;31m# ignore the tracking, just draw and close all figures\u001b[0m\u001b[0;34m\u001b[0m\u001b[0;34m\u001b[0m\u001b[0;34m\u001b[0m\u001b[0m\n\u001b[1;32m    120\u001b[0m         \u001b[0;32mtry\u001b[0m\u001b[0;34m:\u001b[0m\u001b[0;34m\u001b[0m\u001b[0;34m\u001b[0m\u001b[0m\n\u001b[0;32m--> 121\u001b[0;31m             \u001b[0;32mreturn\u001b[0m \u001b[0mshow\u001b[0m\u001b[0;34m(\u001b[0m\u001b[0;32mTrue\u001b[0m\u001b[0;34m)\u001b[0m\u001b[0;34m\u001b[0m\u001b[0;34m\u001b[0m\u001b[0m\n\u001b[0m\u001b[1;32m    122\u001b[0m         \u001b[0;32mexcept\u001b[0m \u001b[0mException\u001b[0m \u001b[0;32mas\u001b[0m \u001b[0me\u001b[0m\u001b[0;34m:\u001b[0m\u001b[0;34m\u001b[0m\u001b[0;34m\u001b[0m\u001b[0m\n\u001b[1;32m    123\u001b[0m             \u001b[0;31m# safely show traceback if in IPython, else raise\u001b[0m\u001b[0;34m\u001b[0m\u001b[0;34m\u001b[0m\u001b[0;34m\u001b[0m\u001b[0m\n",
            "\u001b[0;32m/usr/local/lib/python3.7/dist-packages/ipykernel/pylab/backend_inline.py\u001b[0m in \u001b[0;36mshow\u001b[0;34m(close, block)\u001b[0m\n\u001b[1;32m     41\u001b[0m             display(\n\u001b[1;32m     42\u001b[0m                 \u001b[0mfigure_manager\u001b[0m\u001b[0;34m.\u001b[0m\u001b[0mcanvas\u001b[0m\u001b[0;34m.\u001b[0m\u001b[0mfigure\u001b[0m\u001b[0;34m,\u001b[0m\u001b[0;34m\u001b[0m\u001b[0;34m\u001b[0m\u001b[0m\n\u001b[0;32m---> 43\u001b[0;31m                 \u001b[0mmetadata\u001b[0m\u001b[0;34m=\u001b[0m\u001b[0m_fetch_figure_metadata\u001b[0m\u001b[0;34m(\u001b[0m\u001b[0mfigure_manager\u001b[0m\u001b[0;34m.\u001b[0m\u001b[0mcanvas\u001b[0m\u001b[0;34m.\u001b[0m\u001b[0mfigure\u001b[0m\u001b[0;34m)\u001b[0m\u001b[0;34m\u001b[0m\u001b[0;34m\u001b[0m\u001b[0m\n\u001b[0m\u001b[1;32m     44\u001b[0m             )\n\u001b[1;32m     45\u001b[0m     \u001b[0;32mfinally\u001b[0m\u001b[0;34m:\u001b[0m\u001b[0;34m\u001b[0m\u001b[0;34m\u001b[0m\u001b[0m\n",
            "\u001b[0;32m/usr/local/lib/python3.7/dist-packages/IPython/core/display.py\u001b[0m in \u001b[0;36mdisplay\u001b[0;34m(include, exclude, metadata, transient, display_id, *objs, **kwargs)\u001b[0m\n\u001b[1;32m    311\u001b[0m             \u001b[0mpublish_display_data\u001b[0m\u001b[0;34m(\u001b[0m\u001b[0mdata\u001b[0m\u001b[0;34m=\u001b[0m\u001b[0mobj\u001b[0m\u001b[0;34m,\u001b[0m \u001b[0mmetadata\u001b[0m\u001b[0;34m=\u001b[0m\u001b[0mmetadata\u001b[0m\u001b[0;34m,\u001b[0m \u001b[0;34m**\u001b[0m\u001b[0mkwargs\u001b[0m\u001b[0;34m)\u001b[0m\u001b[0;34m\u001b[0m\u001b[0;34m\u001b[0m\u001b[0m\n\u001b[1;32m    312\u001b[0m         \u001b[0;32melse\u001b[0m\u001b[0;34m:\u001b[0m\u001b[0;34m\u001b[0m\u001b[0;34m\u001b[0m\u001b[0m\n\u001b[0;32m--> 313\u001b[0;31m             \u001b[0mformat_dict\u001b[0m\u001b[0;34m,\u001b[0m \u001b[0mmd_dict\u001b[0m \u001b[0;34m=\u001b[0m \u001b[0mformat\u001b[0m\u001b[0;34m(\u001b[0m\u001b[0mobj\u001b[0m\u001b[0;34m,\u001b[0m \u001b[0minclude\u001b[0m\u001b[0;34m=\u001b[0m\u001b[0minclude\u001b[0m\u001b[0;34m,\u001b[0m \u001b[0mexclude\u001b[0m\u001b[0;34m=\u001b[0m\u001b[0mexclude\u001b[0m\u001b[0;34m)\u001b[0m\u001b[0;34m\u001b[0m\u001b[0;34m\u001b[0m\u001b[0m\n\u001b[0m\u001b[1;32m    314\u001b[0m             \u001b[0;32mif\u001b[0m \u001b[0;32mnot\u001b[0m \u001b[0mformat_dict\u001b[0m\u001b[0;34m:\u001b[0m\u001b[0;34m\u001b[0m\u001b[0;34m\u001b[0m\u001b[0m\n\u001b[1;32m    315\u001b[0m                 \u001b[0;31m# nothing to display (e.g. _ipython_display_ took over)\u001b[0m\u001b[0;34m\u001b[0m\u001b[0;34m\u001b[0m\u001b[0;34m\u001b[0m\u001b[0m\n",
            "\u001b[0;32m/usr/local/lib/python3.7/dist-packages/IPython/core/formatters.py\u001b[0m in \u001b[0;36mformat\u001b[0;34m(self, obj, include, exclude)\u001b[0m\n\u001b[1;32m    178\u001b[0m             \u001b[0mmd\u001b[0m \u001b[0;34m=\u001b[0m \u001b[0;32mNone\u001b[0m\u001b[0;34m\u001b[0m\u001b[0;34m\u001b[0m\u001b[0m\n\u001b[1;32m    179\u001b[0m             \u001b[0;32mtry\u001b[0m\u001b[0;34m:\u001b[0m\u001b[0;34m\u001b[0m\u001b[0;34m\u001b[0m\u001b[0m\n\u001b[0;32m--> 180\u001b[0;31m                 \u001b[0mdata\u001b[0m \u001b[0;34m=\u001b[0m \u001b[0mformatter\u001b[0m\u001b[0;34m(\u001b[0m\u001b[0mobj\u001b[0m\u001b[0;34m)\u001b[0m\u001b[0;34m\u001b[0m\u001b[0;34m\u001b[0m\u001b[0m\n\u001b[0m\u001b[1;32m    181\u001b[0m             \u001b[0;32mexcept\u001b[0m\u001b[0;34m:\u001b[0m\u001b[0;34m\u001b[0m\u001b[0;34m\u001b[0m\u001b[0m\n\u001b[1;32m    182\u001b[0m                 \u001b[0;31m# FIXME: log the exception\u001b[0m\u001b[0;34m\u001b[0m\u001b[0;34m\u001b[0m\u001b[0;34m\u001b[0m\u001b[0m\n",
            "\u001b[0;32m<decorator-gen-2>\u001b[0m in \u001b[0;36m__call__\u001b[0;34m(self, obj)\u001b[0m\n",
            "\u001b[0;32m/usr/local/lib/python3.7/dist-packages/IPython/core/formatters.py\u001b[0m in \u001b[0;36mcatch_format_error\u001b[0;34m(method, self, *args, **kwargs)\u001b[0m\n\u001b[1;32m    222\u001b[0m     \u001b[0;34m\"\"\"show traceback on failed format call\"\"\"\u001b[0m\u001b[0;34m\u001b[0m\u001b[0;34m\u001b[0m\u001b[0m\n\u001b[1;32m    223\u001b[0m     \u001b[0;32mtry\u001b[0m\u001b[0;34m:\u001b[0m\u001b[0;34m\u001b[0m\u001b[0;34m\u001b[0m\u001b[0m\n\u001b[0;32m--> 224\u001b[0;31m         \u001b[0mr\u001b[0m \u001b[0;34m=\u001b[0m \u001b[0mmethod\u001b[0m\u001b[0;34m(\u001b[0m\u001b[0mself\u001b[0m\u001b[0;34m,\u001b[0m \u001b[0;34m*\u001b[0m\u001b[0margs\u001b[0m\u001b[0;34m,\u001b[0m \u001b[0;34m**\u001b[0m\u001b[0mkwargs\u001b[0m\u001b[0;34m)\u001b[0m\u001b[0;34m\u001b[0m\u001b[0;34m\u001b[0m\u001b[0m\n\u001b[0m\u001b[1;32m    225\u001b[0m     \u001b[0;32mexcept\u001b[0m \u001b[0mNotImplementedError\u001b[0m\u001b[0;34m:\u001b[0m\u001b[0;34m\u001b[0m\u001b[0;34m\u001b[0m\u001b[0m\n\u001b[1;32m    226\u001b[0m         \u001b[0;31m# don't warn on NotImplementedErrors\u001b[0m\u001b[0;34m\u001b[0m\u001b[0;34m\u001b[0m\u001b[0;34m\u001b[0m\u001b[0m\n",
            "\u001b[0;32m/usr/local/lib/python3.7/dist-packages/IPython/core/formatters.py\u001b[0m in \u001b[0;36m__call__\u001b[0;34m(self, obj)\u001b[0m\n\u001b[1;32m    339\u001b[0m                 \u001b[0;32mpass\u001b[0m\u001b[0;34m\u001b[0m\u001b[0;34m\u001b[0m\u001b[0m\n\u001b[1;32m    340\u001b[0m             \u001b[0;32melse\u001b[0m\u001b[0;34m:\u001b[0m\u001b[0;34m\u001b[0m\u001b[0;34m\u001b[0m\u001b[0m\n\u001b[0;32m--> 341\u001b[0;31m                 \u001b[0;32mreturn\u001b[0m \u001b[0mprinter\u001b[0m\u001b[0;34m(\u001b[0m\u001b[0mobj\u001b[0m\u001b[0;34m)\u001b[0m\u001b[0;34m\u001b[0m\u001b[0;34m\u001b[0m\u001b[0m\n\u001b[0m\u001b[1;32m    342\u001b[0m             \u001b[0;31m# Finally look for special method names\u001b[0m\u001b[0;34m\u001b[0m\u001b[0;34m\u001b[0m\u001b[0;34m\u001b[0m\u001b[0m\n\u001b[1;32m    343\u001b[0m             \u001b[0mmethod\u001b[0m \u001b[0;34m=\u001b[0m \u001b[0mget_real_method\u001b[0m\u001b[0;34m(\u001b[0m\u001b[0mobj\u001b[0m\u001b[0;34m,\u001b[0m \u001b[0mself\u001b[0m\u001b[0;34m.\u001b[0m\u001b[0mprint_method\u001b[0m\u001b[0;34m)\u001b[0m\u001b[0;34m\u001b[0m\u001b[0;34m\u001b[0m\u001b[0m\n",
            "\u001b[0;32m/usr/local/lib/python3.7/dist-packages/IPython/core/pylabtools.py\u001b[0m in \u001b[0;36m<lambda>\u001b[0;34m(fig)\u001b[0m\n\u001b[1;32m    242\u001b[0m \u001b[0;34m\u001b[0m\u001b[0m\n\u001b[1;32m    243\u001b[0m     \u001b[0;32mif\u001b[0m \u001b[0;34m'png'\u001b[0m \u001b[0;32min\u001b[0m \u001b[0mformats\u001b[0m\u001b[0;34m:\u001b[0m\u001b[0;34m\u001b[0m\u001b[0;34m\u001b[0m\u001b[0m\n\u001b[0;32m--> 244\u001b[0;31m         \u001b[0mpng_formatter\u001b[0m\u001b[0;34m.\u001b[0m\u001b[0mfor_type\u001b[0m\u001b[0;34m(\u001b[0m\u001b[0mFigure\u001b[0m\u001b[0;34m,\u001b[0m \u001b[0;32mlambda\u001b[0m \u001b[0mfig\u001b[0m\u001b[0;34m:\u001b[0m \u001b[0mprint_figure\u001b[0m\u001b[0;34m(\u001b[0m\u001b[0mfig\u001b[0m\u001b[0;34m,\u001b[0m \u001b[0;34m'png'\u001b[0m\u001b[0;34m,\u001b[0m \u001b[0;34m**\u001b[0m\u001b[0mkwargs\u001b[0m\u001b[0;34m)\u001b[0m\u001b[0;34m)\u001b[0m\u001b[0;34m\u001b[0m\u001b[0;34m\u001b[0m\u001b[0m\n\u001b[0m\u001b[1;32m    245\u001b[0m     \u001b[0;32mif\u001b[0m \u001b[0;34m'retina'\u001b[0m \u001b[0;32min\u001b[0m \u001b[0mformats\u001b[0m \u001b[0;32mor\u001b[0m \u001b[0;34m'png2x'\u001b[0m \u001b[0;32min\u001b[0m \u001b[0mformats\u001b[0m\u001b[0;34m:\u001b[0m\u001b[0;34m\u001b[0m\u001b[0;34m\u001b[0m\u001b[0m\n\u001b[1;32m    246\u001b[0m         \u001b[0mpng_formatter\u001b[0m\u001b[0;34m.\u001b[0m\u001b[0mfor_type\u001b[0m\u001b[0;34m(\u001b[0m\u001b[0mFigure\u001b[0m\u001b[0;34m,\u001b[0m \u001b[0;32mlambda\u001b[0m \u001b[0mfig\u001b[0m\u001b[0;34m:\u001b[0m \u001b[0mretina_figure\u001b[0m\u001b[0;34m(\u001b[0m\u001b[0mfig\u001b[0m\u001b[0;34m,\u001b[0m \u001b[0;34m**\u001b[0m\u001b[0mkwargs\u001b[0m\u001b[0;34m)\u001b[0m\u001b[0;34m)\u001b[0m\u001b[0;34m\u001b[0m\u001b[0;34m\u001b[0m\u001b[0m\n",
            "\u001b[0;32m/usr/local/lib/python3.7/dist-packages/IPython/core/pylabtools.py\u001b[0m in \u001b[0;36mprint_figure\u001b[0;34m(fig, fmt, bbox_inches, **kwargs)\u001b[0m\n\u001b[1;32m    126\u001b[0m \u001b[0;34m\u001b[0m\u001b[0m\n\u001b[1;32m    127\u001b[0m     \u001b[0mbytes_io\u001b[0m \u001b[0;34m=\u001b[0m \u001b[0mBytesIO\u001b[0m\u001b[0;34m(\u001b[0m\u001b[0;34m)\u001b[0m\u001b[0;34m\u001b[0m\u001b[0;34m\u001b[0m\u001b[0m\n\u001b[0;32m--> 128\u001b[0;31m     \u001b[0mfig\u001b[0m\u001b[0;34m.\u001b[0m\u001b[0mcanvas\u001b[0m\u001b[0;34m.\u001b[0m\u001b[0mprint_figure\u001b[0m\u001b[0;34m(\u001b[0m\u001b[0mbytes_io\u001b[0m\u001b[0;34m,\u001b[0m \u001b[0;34m**\u001b[0m\u001b[0mkw\u001b[0m\u001b[0;34m)\u001b[0m\u001b[0;34m\u001b[0m\u001b[0;34m\u001b[0m\u001b[0m\n\u001b[0m\u001b[1;32m    129\u001b[0m     \u001b[0mdata\u001b[0m \u001b[0;34m=\u001b[0m \u001b[0mbytes_io\u001b[0m\u001b[0;34m.\u001b[0m\u001b[0mgetvalue\u001b[0m\u001b[0;34m(\u001b[0m\u001b[0;34m)\u001b[0m\u001b[0;34m\u001b[0m\u001b[0;34m\u001b[0m\u001b[0m\n\u001b[1;32m    130\u001b[0m     \u001b[0;32mif\u001b[0m \u001b[0mfmt\u001b[0m \u001b[0;34m==\u001b[0m \u001b[0;34m'svg'\u001b[0m\u001b[0;34m:\u001b[0m\u001b[0;34m\u001b[0m\u001b[0;34m\u001b[0m\u001b[0m\n",
            "\u001b[0;32m/usr/local/lib/python3.7/dist-packages/matplotlib/backend_bases.py\u001b[0m in \u001b[0;36mprint_figure\u001b[0;34m(self, filename, dpi, facecolor, edgecolor, orientation, format, bbox_inches, **kwargs)\u001b[0m\n\u001b[1;32m   2098\u001b[0m                            else suppress())\n\u001b[1;32m   2099\u001b[0m                     \u001b[0;32mwith\u001b[0m \u001b[0mctx\u001b[0m\u001b[0;34m:\u001b[0m\u001b[0;34m\u001b[0m\u001b[0;34m\u001b[0m\u001b[0m\n\u001b[0;32m-> 2100\u001b[0;31m                         \u001b[0mself\u001b[0m\u001b[0;34m.\u001b[0m\u001b[0mfigure\u001b[0m\u001b[0;34m.\u001b[0m\u001b[0mdraw\u001b[0m\u001b[0;34m(\u001b[0m\u001b[0mrenderer\u001b[0m\u001b[0;34m)\u001b[0m\u001b[0;34m\u001b[0m\u001b[0;34m\u001b[0m\u001b[0m\n\u001b[0m\u001b[1;32m   2101\u001b[0m                     \u001b[0mbbox_artists\u001b[0m \u001b[0;34m=\u001b[0m \u001b[0mkwargs\u001b[0m\u001b[0;34m.\u001b[0m\u001b[0mpop\u001b[0m\u001b[0;34m(\u001b[0m\u001b[0;34m\"bbox_extra_artists\"\u001b[0m\u001b[0;34m,\u001b[0m \u001b[0;32mNone\u001b[0m\u001b[0;34m)\u001b[0m\u001b[0;34m\u001b[0m\u001b[0;34m\u001b[0m\u001b[0m\n\u001b[1;32m   2102\u001b[0m                     bbox_inches = self.figure.get_tightbbox(renderer,\n",
            "\u001b[0;32m/usr/local/lib/python3.7/dist-packages/matplotlib/artist.py\u001b[0m in \u001b[0;36mdraw_wrapper\u001b[0;34m(artist, renderer, *args, **kwargs)\u001b[0m\n\u001b[1;32m     36\u001b[0m                 \u001b[0mrenderer\u001b[0m\u001b[0;34m.\u001b[0m\u001b[0mstart_filter\u001b[0m\u001b[0;34m(\u001b[0m\u001b[0;34m)\u001b[0m\u001b[0;34m\u001b[0m\u001b[0;34m\u001b[0m\u001b[0m\n\u001b[1;32m     37\u001b[0m \u001b[0;34m\u001b[0m\u001b[0m\n\u001b[0;32m---> 38\u001b[0;31m             \u001b[0;32mreturn\u001b[0m \u001b[0mdraw\u001b[0m\u001b[0;34m(\u001b[0m\u001b[0martist\u001b[0m\u001b[0;34m,\u001b[0m \u001b[0mrenderer\u001b[0m\u001b[0;34m,\u001b[0m \u001b[0;34m*\u001b[0m\u001b[0margs\u001b[0m\u001b[0;34m,\u001b[0m \u001b[0;34m**\u001b[0m\u001b[0mkwargs\u001b[0m\u001b[0;34m)\u001b[0m\u001b[0;34m\u001b[0m\u001b[0;34m\u001b[0m\u001b[0m\n\u001b[0m\u001b[1;32m     39\u001b[0m         \u001b[0;32mfinally\u001b[0m\u001b[0;34m:\u001b[0m\u001b[0;34m\u001b[0m\u001b[0;34m\u001b[0m\u001b[0m\n\u001b[1;32m     40\u001b[0m             \u001b[0;32mif\u001b[0m \u001b[0martist\u001b[0m\u001b[0;34m.\u001b[0m\u001b[0mget_agg_filter\u001b[0m\u001b[0;34m(\u001b[0m\u001b[0;34m)\u001b[0m \u001b[0;32mis\u001b[0m \u001b[0;32mnot\u001b[0m \u001b[0;32mNone\u001b[0m\u001b[0;34m:\u001b[0m\u001b[0;34m\u001b[0m\u001b[0;34m\u001b[0m\u001b[0m\n",
            "\u001b[0;32m/usr/local/lib/python3.7/dist-packages/matplotlib/figure.py\u001b[0m in \u001b[0;36mdraw\u001b[0;34m(self, renderer)\u001b[0m\n\u001b[1;32m   1734\u001b[0m             \u001b[0mself\u001b[0m\u001b[0;34m.\u001b[0m\u001b[0mpatch\u001b[0m\u001b[0;34m.\u001b[0m\u001b[0mdraw\u001b[0m\u001b[0;34m(\u001b[0m\u001b[0mrenderer\u001b[0m\u001b[0;34m)\u001b[0m\u001b[0;34m\u001b[0m\u001b[0;34m\u001b[0m\u001b[0m\n\u001b[1;32m   1735\u001b[0m             mimage._draw_list_compositing_images(\n\u001b[0;32m-> 1736\u001b[0;31m                 renderer, self, artists, self.suppressComposite)\n\u001b[0m\u001b[1;32m   1737\u001b[0m \u001b[0;34m\u001b[0m\u001b[0m\n\u001b[1;32m   1738\u001b[0m             \u001b[0mrenderer\u001b[0m\u001b[0;34m.\u001b[0m\u001b[0mclose_group\u001b[0m\u001b[0;34m(\u001b[0m\u001b[0;34m'figure'\u001b[0m\u001b[0;34m)\u001b[0m\u001b[0;34m\u001b[0m\u001b[0;34m\u001b[0m\u001b[0m\n",
            "\u001b[0;32m/usr/local/lib/python3.7/dist-packages/matplotlib/image.py\u001b[0m in \u001b[0;36m_draw_list_compositing_images\u001b[0;34m(renderer, parent, artists, suppress_composite)\u001b[0m\n\u001b[1;32m    135\u001b[0m     \u001b[0;32mif\u001b[0m \u001b[0mnot_composite\u001b[0m \u001b[0;32mor\u001b[0m \u001b[0;32mnot\u001b[0m \u001b[0mhas_images\u001b[0m\u001b[0;34m:\u001b[0m\u001b[0;34m\u001b[0m\u001b[0;34m\u001b[0m\u001b[0m\n\u001b[1;32m    136\u001b[0m         \u001b[0;32mfor\u001b[0m \u001b[0ma\u001b[0m \u001b[0;32min\u001b[0m \u001b[0martists\u001b[0m\u001b[0;34m:\u001b[0m\u001b[0;34m\u001b[0m\u001b[0;34m\u001b[0m\u001b[0m\n\u001b[0;32m--> 137\u001b[0;31m             \u001b[0ma\u001b[0m\u001b[0;34m.\u001b[0m\u001b[0mdraw\u001b[0m\u001b[0;34m(\u001b[0m\u001b[0mrenderer\u001b[0m\u001b[0;34m)\u001b[0m\u001b[0;34m\u001b[0m\u001b[0;34m\u001b[0m\u001b[0m\n\u001b[0m\u001b[1;32m    138\u001b[0m     \u001b[0;32melse\u001b[0m\u001b[0;34m:\u001b[0m\u001b[0;34m\u001b[0m\u001b[0;34m\u001b[0m\u001b[0m\n\u001b[1;32m    139\u001b[0m         \u001b[0;31m# Composite any adjacent images together\u001b[0m\u001b[0;34m\u001b[0m\u001b[0;34m\u001b[0m\u001b[0;34m\u001b[0m\u001b[0m\n",
            "\u001b[0;32m/usr/local/lib/python3.7/dist-packages/matplotlib/artist.py\u001b[0m in \u001b[0;36mdraw_wrapper\u001b[0;34m(artist, renderer, *args, **kwargs)\u001b[0m\n\u001b[1;32m     36\u001b[0m                 \u001b[0mrenderer\u001b[0m\u001b[0;34m.\u001b[0m\u001b[0mstart_filter\u001b[0m\u001b[0;34m(\u001b[0m\u001b[0;34m)\u001b[0m\u001b[0;34m\u001b[0m\u001b[0;34m\u001b[0m\u001b[0m\n\u001b[1;32m     37\u001b[0m \u001b[0;34m\u001b[0m\u001b[0m\n\u001b[0;32m---> 38\u001b[0;31m             \u001b[0;32mreturn\u001b[0m \u001b[0mdraw\u001b[0m\u001b[0;34m(\u001b[0m\u001b[0martist\u001b[0m\u001b[0;34m,\u001b[0m \u001b[0mrenderer\u001b[0m\u001b[0;34m,\u001b[0m \u001b[0;34m*\u001b[0m\u001b[0margs\u001b[0m\u001b[0;34m,\u001b[0m \u001b[0;34m**\u001b[0m\u001b[0mkwargs\u001b[0m\u001b[0;34m)\u001b[0m\u001b[0;34m\u001b[0m\u001b[0;34m\u001b[0m\u001b[0m\n\u001b[0m\u001b[1;32m     39\u001b[0m         \u001b[0;32mfinally\u001b[0m\u001b[0;34m:\u001b[0m\u001b[0;34m\u001b[0m\u001b[0;34m\u001b[0m\u001b[0m\n\u001b[1;32m     40\u001b[0m             \u001b[0;32mif\u001b[0m \u001b[0martist\u001b[0m\u001b[0;34m.\u001b[0m\u001b[0mget_agg_filter\u001b[0m\u001b[0;34m(\u001b[0m\u001b[0;34m)\u001b[0m \u001b[0;32mis\u001b[0m \u001b[0;32mnot\u001b[0m \u001b[0;32mNone\u001b[0m\u001b[0;34m:\u001b[0m\u001b[0;34m\u001b[0m\u001b[0;34m\u001b[0m\u001b[0m\n",
            "\u001b[0;32m/usr/local/lib/python3.7/dist-packages/matplotlib/axes/_base.py\u001b[0m in \u001b[0;36mdraw\u001b[0;34m(self, renderer, inframe)\u001b[0m\n\u001b[1;32m   2588\u001b[0m                 \u001b[0martists\u001b[0m\u001b[0;34m.\u001b[0m\u001b[0mremove\u001b[0m\u001b[0;34m(\u001b[0m\u001b[0mspine\u001b[0m\u001b[0;34m)\u001b[0m\u001b[0;34m\u001b[0m\u001b[0;34m\u001b[0m\u001b[0m\n\u001b[1;32m   2589\u001b[0m \u001b[0;34m\u001b[0m\u001b[0m\n\u001b[0;32m-> 2590\u001b[0;31m         \u001b[0mself\u001b[0m\u001b[0;34m.\u001b[0m\u001b[0m_update_title_position\u001b[0m\u001b[0;34m(\u001b[0m\u001b[0mrenderer\u001b[0m\u001b[0;34m)\u001b[0m\u001b[0;34m\u001b[0m\u001b[0;34m\u001b[0m\u001b[0m\n\u001b[0m\u001b[1;32m   2591\u001b[0m \u001b[0;34m\u001b[0m\u001b[0m\n\u001b[1;32m   2592\u001b[0m         \u001b[0;32mif\u001b[0m \u001b[0;32mnot\u001b[0m \u001b[0mself\u001b[0m\u001b[0;34m.\u001b[0m\u001b[0maxison\u001b[0m \u001b[0;32mor\u001b[0m \u001b[0minframe\u001b[0m\u001b[0;34m:\u001b[0m\u001b[0;34m\u001b[0m\u001b[0;34m\u001b[0m\u001b[0m\n",
            "\u001b[0;32m/usr/local/lib/python3.7/dist-packages/matplotlib/axes/_base.py\u001b[0m in \u001b[0;36m_update_title_position\u001b[0;34m(self, renderer)\u001b[0m\n\u001b[1;32m   2531\u001b[0m                 if (ax.xaxis.get_ticks_position() in ['top', 'unknown']\n\u001b[1;32m   2532\u001b[0m                         or ax.xaxis.get_label_position() == 'top'):\n\u001b[0;32m-> 2533\u001b[0;31m                     \u001b[0mbb\u001b[0m \u001b[0;34m=\u001b[0m \u001b[0max\u001b[0m\u001b[0;34m.\u001b[0m\u001b[0mxaxis\u001b[0m\u001b[0;34m.\u001b[0m\u001b[0mget_tightbbox\u001b[0m\u001b[0;34m(\u001b[0m\u001b[0mrenderer\u001b[0m\u001b[0;34m)\u001b[0m\u001b[0;34m\u001b[0m\u001b[0;34m\u001b[0m\u001b[0m\n\u001b[0m\u001b[1;32m   2534\u001b[0m                 \u001b[0;32melse\u001b[0m\u001b[0;34m:\u001b[0m\u001b[0;34m\u001b[0m\u001b[0;34m\u001b[0m\u001b[0m\n\u001b[1;32m   2535\u001b[0m                     \u001b[0mbb\u001b[0m \u001b[0;34m=\u001b[0m \u001b[0max\u001b[0m\u001b[0;34m.\u001b[0m\u001b[0mget_window_extent\u001b[0m\u001b[0;34m(\u001b[0m\u001b[0mrenderer\u001b[0m\u001b[0;34m)\u001b[0m\u001b[0;34m\u001b[0m\u001b[0;34m\u001b[0m\u001b[0m\n",
            "\u001b[0;32m/usr/local/lib/python3.7/dist-packages/matplotlib/axis.py\u001b[0m in \u001b[0;36mget_tightbbox\u001b[0;34m(self, renderer)\u001b[0m\n\u001b[1;32m   1186\u001b[0m         \u001b[0mticks_to_draw\u001b[0m \u001b[0;34m=\u001b[0m \u001b[0mself\u001b[0m\u001b[0;34m.\u001b[0m\u001b[0m_update_ticks\u001b[0m\u001b[0;34m(\u001b[0m\u001b[0;34m)\u001b[0m\u001b[0;34m\u001b[0m\u001b[0;34m\u001b[0m\u001b[0m\n\u001b[1;32m   1187\u001b[0m \u001b[0;34m\u001b[0m\u001b[0m\n\u001b[0;32m-> 1188\u001b[0;31m         \u001b[0mself\u001b[0m\u001b[0;34m.\u001b[0m\u001b[0m_update_label_position\u001b[0m\u001b[0;34m(\u001b[0m\u001b[0mrenderer\u001b[0m\u001b[0;34m)\u001b[0m\u001b[0;34m\u001b[0m\u001b[0;34m\u001b[0m\u001b[0m\n\u001b[0m\u001b[1;32m   1189\u001b[0m \u001b[0;34m\u001b[0m\u001b[0m\n\u001b[1;32m   1190\u001b[0m         \u001b[0;31m# go back to just this axis's tick labels\u001b[0m\u001b[0;34m\u001b[0m\u001b[0;34m\u001b[0m\u001b[0;34m\u001b[0m\u001b[0m\n",
            "\u001b[0;32m/usr/local/lib/python3.7/dist-packages/matplotlib/axis.py\u001b[0m in \u001b[0;36m_update_label_position\u001b[0;34m(self, renderer)\u001b[0m\n\u001b[1;32m   2019\u001b[0m         \u001b[0;31m# get bounding boxes for this axis and any siblings\u001b[0m\u001b[0;34m\u001b[0m\u001b[0;34m\u001b[0m\u001b[0;34m\u001b[0m\u001b[0m\n\u001b[1;32m   2020\u001b[0m         \u001b[0;31m# that have been set by `fig.align_xlabels()`\u001b[0m\u001b[0;34m\u001b[0m\u001b[0;34m\u001b[0m\u001b[0;34m\u001b[0m\u001b[0m\n\u001b[0;32m-> 2021\u001b[0;31m         \u001b[0mbboxes\u001b[0m\u001b[0;34m,\u001b[0m \u001b[0mbboxes2\u001b[0m \u001b[0;34m=\u001b[0m \u001b[0mself\u001b[0m\u001b[0;34m.\u001b[0m\u001b[0m_get_tick_boxes_siblings\u001b[0m\u001b[0;34m(\u001b[0m\u001b[0mrenderer\u001b[0m\u001b[0;34m=\u001b[0m\u001b[0mrenderer\u001b[0m\u001b[0;34m)\u001b[0m\u001b[0;34m\u001b[0m\u001b[0;34m\u001b[0m\u001b[0m\n\u001b[0m\u001b[1;32m   2022\u001b[0m \u001b[0;34m\u001b[0m\u001b[0m\n\u001b[1;32m   2023\u001b[0m         \u001b[0mx\u001b[0m\u001b[0;34m,\u001b[0m \u001b[0my\u001b[0m \u001b[0;34m=\u001b[0m \u001b[0mself\u001b[0m\u001b[0;34m.\u001b[0m\u001b[0mlabel\u001b[0m\u001b[0;34m.\u001b[0m\u001b[0mget_position\u001b[0m\u001b[0;34m(\u001b[0m\u001b[0;34m)\u001b[0m\u001b[0;34m\u001b[0m\u001b[0;34m\u001b[0m\u001b[0m\n",
            "\u001b[0;32m/usr/local/lib/python3.7/dist-packages/matplotlib/axis.py\u001b[0m in \u001b[0;36m_get_tick_boxes_siblings\u001b[0;34m(self, renderer)\u001b[0m\n\u001b[1;32m   2003\u001b[0m         \u001b[0;31m# if we want to align labels from other axes:\u001b[0m\u001b[0;34m\u001b[0m\u001b[0;34m\u001b[0m\u001b[0;34m\u001b[0m\u001b[0m\n\u001b[1;32m   2004\u001b[0m         \u001b[0;32mfor\u001b[0m \u001b[0mnn\u001b[0m\u001b[0;34m,\u001b[0m \u001b[0maxx\u001b[0m \u001b[0;32min\u001b[0m \u001b[0menumerate\u001b[0m\u001b[0;34m(\u001b[0m\u001b[0mgrp\u001b[0m\u001b[0;34m.\u001b[0m\u001b[0mget_siblings\u001b[0m\u001b[0;34m(\u001b[0m\u001b[0mself\u001b[0m\u001b[0;34m.\u001b[0m\u001b[0maxes\u001b[0m\u001b[0;34m)\u001b[0m\u001b[0;34m)\u001b[0m\u001b[0;34m:\u001b[0m\u001b[0;34m\u001b[0m\u001b[0;34m\u001b[0m\u001b[0m\n\u001b[0;32m-> 2005\u001b[0;31m             \u001b[0mticks_to_draw\u001b[0m \u001b[0;34m=\u001b[0m \u001b[0maxx\u001b[0m\u001b[0;34m.\u001b[0m\u001b[0mxaxis\u001b[0m\u001b[0;34m.\u001b[0m\u001b[0m_update_ticks\u001b[0m\u001b[0;34m(\u001b[0m\u001b[0;34m)\u001b[0m\u001b[0;34m\u001b[0m\u001b[0;34m\u001b[0m\u001b[0m\n\u001b[0m\u001b[1;32m   2006\u001b[0m             \u001b[0mtlb\u001b[0m\u001b[0;34m,\u001b[0m \u001b[0mtlb2\u001b[0m \u001b[0;34m=\u001b[0m \u001b[0maxx\u001b[0m\u001b[0;34m.\u001b[0m\u001b[0mxaxis\u001b[0m\u001b[0;34m.\u001b[0m\u001b[0m_get_tick_bboxes\u001b[0m\u001b[0;34m(\u001b[0m\u001b[0mticks_to_draw\u001b[0m\u001b[0;34m,\u001b[0m \u001b[0mrenderer\u001b[0m\u001b[0;34m)\u001b[0m\u001b[0;34m\u001b[0m\u001b[0;34m\u001b[0m\u001b[0m\n\u001b[1;32m   2007\u001b[0m             \u001b[0mbboxes\u001b[0m\u001b[0;34m.\u001b[0m\u001b[0mextend\u001b[0m\u001b[0;34m(\u001b[0m\u001b[0mtlb\u001b[0m\u001b[0;34m)\u001b[0m\u001b[0;34m\u001b[0m\u001b[0;34m\u001b[0m\u001b[0m\n",
            "\u001b[0;32m/usr/local/lib/python3.7/dist-packages/matplotlib/axis.py\u001b[0m in \u001b[0;36m_update_ticks\u001b[0;34m(self)\u001b[0m\n\u001b[1;32m   1101\u001b[0m         \u001b[0mthe\u001b[0m \u001b[0maxes\u001b[0m\u001b[0;34m.\u001b[0m  \u001b[0mReturn\u001b[0m \u001b[0mthe\u001b[0m \u001b[0mlist\u001b[0m \u001b[0mof\u001b[0m \u001b[0mticks\u001b[0m \u001b[0mthat\u001b[0m \u001b[0mwill\u001b[0m \u001b[0mbe\u001b[0m \u001b[0mdrawn\u001b[0m\u001b[0;34m.\u001b[0m\u001b[0;34m\u001b[0m\u001b[0;34m\u001b[0m\u001b[0m\n\u001b[1;32m   1102\u001b[0m         \"\"\"\n\u001b[0;32m-> 1103\u001b[0;31m         \u001b[0mmajor_locs\u001b[0m \u001b[0;34m=\u001b[0m \u001b[0mself\u001b[0m\u001b[0;34m.\u001b[0m\u001b[0mget_majorticklocs\u001b[0m\u001b[0;34m(\u001b[0m\u001b[0;34m)\u001b[0m\u001b[0;34m\u001b[0m\u001b[0;34m\u001b[0m\u001b[0m\n\u001b[0m\u001b[1;32m   1104\u001b[0m         \u001b[0mmajor_labels\u001b[0m \u001b[0;34m=\u001b[0m \u001b[0mself\u001b[0m\u001b[0;34m.\u001b[0m\u001b[0mmajor\u001b[0m\u001b[0;34m.\u001b[0m\u001b[0mformatter\u001b[0m\u001b[0;34m.\u001b[0m\u001b[0mformat_ticks\u001b[0m\u001b[0;34m(\u001b[0m\u001b[0mmajor_locs\u001b[0m\u001b[0;34m)\u001b[0m\u001b[0;34m\u001b[0m\u001b[0;34m\u001b[0m\u001b[0m\n\u001b[1;32m   1105\u001b[0m         \u001b[0mmajor_ticks\u001b[0m \u001b[0;34m=\u001b[0m \u001b[0mself\u001b[0m\u001b[0;34m.\u001b[0m\u001b[0mget_major_ticks\u001b[0m\u001b[0;34m(\u001b[0m\u001b[0mlen\u001b[0m\u001b[0;34m(\u001b[0m\u001b[0mmajor_locs\u001b[0m\u001b[0;34m)\u001b[0m\u001b[0;34m)\u001b[0m\u001b[0;34m\u001b[0m\u001b[0;34m\u001b[0m\u001b[0m\n",
            "\u001b[0;32m/usr/local/lib/python3.7/dist-packages/matplotlib/axis.py\u001b[0m in \u001b[0;36mget_majorticklocs\u001b[0;34m(self)\u001b[0m\n\u001b[1;32m   1346\u001b[0m     \u001b[0;32mdef\u001b[0m \u001b[0mget_majorticklocs\u001b[0m\u001b[0;34m(\u001b[0m\u001b[0mself\u001b[0m\u001b[0;34m)\u001b[0m\u001b[0;34m:\u001b[0m\u001b[0;34m\u001b[0m\u001b[0;34m\u001b[0m\u001b[0m\n\u001b[1;32m   1347\u001b[0m         \u001b[0;34m\"\"\"Get the array of major tick locations in data coordinates.\"\"\"\u001b[0m\u001b[0;34m\u001b[0m\u001b[0;34m\u001b[0m\u001b[0m\n\u001b[0;32m-> 1348\u001b[0;31m         \u001b[0;32mreturn\u001b[0m \u001b[0mself\u001b[0m\u001b[0;34m.\u001b[0m\u001b[0mmajor\u001b[0m\u001b[0;34m.\u001b[0m\u001b[0mlocator\u001b[0m\u001b[0;34m(\u001b[0m\u001b[0;34m)\u001b[0m\u001b[0;34m\u001b[0m\u001b[0;34m\u001b[0m\u001b[0m\n\u001b[0m\u001b[1;32m   1349\u001b[0m \u001b[0;34m\u001b[0m\u001b[0m\n\u001b[1;32m   1350\u001b[0m     \u001b[0;32mdef\u001b[0m \u001b[0mget_minorticklocs\u001b[0m\u001b[0;34m(\u001b[0m\u001b[0mself\u001b[0m\u001b[0;34m)\u001b[0m\u001b[0;34m:\u001b[0m\u001b[0;34m\u001b[0m\u001b[0;34m\u001b[0m\u001b[0m\n",
            "\u001b[0;32m/usr/local/lib/python3.7/dist-packages/matplotlib/ticker.py\u001b[0m in \u001b[0;36m__call__\u001b[0;34m(self)\u001b[0m\n\u001b[1;32m   2201\u001b[0m     \u001b[0;32mdef\u001b[0m \u001b[0m__call__\u001b[0m\u001b[0;34m(\u001b[0m\u001b[0mself\u001b[0m\u001b[0;34m)\u001b[0m\u001b[0;34m:\u001b[0m\u001b[0;34m\u001b[0m\u001b[0;34m\u001b[0m\u001b[0m\n\u001b[1;32m   2202\u001b[0m         \u001b[0mvmin\u001b[0m\u001b[0;34m,\u001b[0m \u001b[0mvmax\u001b[0m \u001b[0;34m=\u001b[0m \u001b[0mself\u001b[0m\u001b[0;34m.\u001b[0m\u001b[0maxis\u001b[0m\u001b[0;34m.\u001b[0m\u001b[0mget_view_interval\u001b[0m\u001b[0;34m(\u001b[0m\u001b[0;34m)\u001b[0m\u001b[0;34m\u001b[0m\u001b[0;34m\u001b[0m\u001b[0m\n\u001b[0;32m-> 2203\u001b[0;31m         \u001b[0;32mreturn\u001b[0m \u001b[0mself\u001b[0m\u001b[0;34m.\u001b[0m\u001b[0mtick_values\u001b[0m\u001b[0;34m(\u001b[0m\u001b[0mvmin\u001b[0m\u001b[0;34m,\u001b[0m \u001b[0mvmax\u001b[0m\u001b[0;34m)\u001b[0m\u001b[0;34m\u001b[0m\u001b[0;34m\u001b[0m\u001b[0m\n\u001b[0m\u001b[1;32m   2204\u001b[0m \u001b[0;34m\u001b[0m\u001b[0m\n\u001b[1;32m   2205\u001b[0m     \u001b[0;32mdef\u001b[0m \u001b[0mtick_values\u001b[0m\u001b[0;34m(\u001b[0m\u001b[0mself\u001b[0m\u001b[0;34m,\u001b[0m \u001b[0mvmin\u001b[0m\u001b[0;34m,\u001b[0m \u001b[0mvmax\u001b[0m\u001b[0;34m)\u001b[0m\u001b[0;34m:\u001b[0m\u001b[0;34m\u001b[0m\u001b[0;34m\u001b[0m\u001b[0m\n",
            "\u001b[0;32m/usr/local/lib/python3.7/dist-packages/matplotlib/ticker.py\u001b[0m in \u001b[0;36mtick_values\u001b[0;34m(self, vmin, vmax)\u001b[0m\n\u001b[1;32m   2209\u001b[0m         vmin, vmax = mtransforms.nonsingular(\n\u001b[1;32m   2210\u001b[0m             vmin, vmax, expander=1e-13, tiny=1e-14)\n\u001b[0;32m-> 2211\u001b[0;31m         \u001b[0mlocs\u001b[0m \u001b[0;34m=\u001b[0m \u001b[0mself\u001b[0m\u001b[0;34m.\u001b[0m\u001b[0m_raw_ticks\u001b[0m\u001b[0;34m(\u001b[0m\u001b[0mvmin\u001b[0m\u001b[0;34m,\u001b[0m \u001b[0mvmax\u001b[0m\u001b[0;34m)\u001b[0m\u001b[0;34m\u001b[0m\u001b[0;34m\u001b[0m\u001b[0m\n\u001b[0m\u001b[1;32m   2212\u001b[0m \u001b[0;34m\u001b[0m\u001b[0m\n\u001b[1;32m   2213\u001b[0m         \u001b[0mprune\u001b[0m \u001b[0;34m=\u001b[0m \u001b[0mself\u001b[0m\u001b[0;34m.\u001b[0m\u001b[0m_prune\u001b[0m\u001b[0;34m\u001b[0m\u001b[0;34m\u001b[0m\u001b[0m\n",
            "\u001b[0;32m/usr/local/lib/python3.7/dist-packages/matplotlib/ticker.py\u001b[0m in \u001b[0;36m_raw_ticks\u001b[0;34m(self, vmin, vmax)\u001b[0m\n\u001b[1;32m   2149\u001b[0m             \u001b[0;32mif\u001b[0m \u001b[0mself\u001b[0m\u001b[0;34m.\u001b[0m\u001b[0maxis\u001b[0m \u001b[0;32mis\u001b[0m \u001b[0;32mnot\u001b[0m \u001b[0;32mNone\u001b[0m\u001b[0;34m:\u001b[0m\u001b[0;34m\u001b[0m\u001b[0;34m\u001b[0m\u001b[0m\n\u001b[1;32m   2150\u001b[0m                 nbins = np.clip(self.axis.get_tick_space(),\n\u001b[0;32m-> 2151\u001b[0;31m                                 max(1, self._min_n_ticks - 1), 9)\n\u001b[0m\u001b[1;32m   2152\u001b[0m             \u001b[0;32melse\u001b[0m\u001b[0;34m:\u001b[0m\u001b[0;34m\u001b[0m\u001b[0;34m\u001b[0m\u001b[0m\n\u001b[1;32m   2153\u001b[0m                 \u001b[0mnbins\u001b[0m \u001b[0;34m=\u001b[0m \u001b[0;36m9\u001b[0m\u001b[0;34m\u001b[0m\u001b[0;34m\u001b[0m\u001b[0m\n",
            "\u001b[0;32m<__array_function__ internals>\u001b[0m in \u001b[0;36mclip\u001b[0;34m(*args, **kwargs)\u001b[0m\n",
            "\u001b[0;31mKeyboardInterrupt\u001b[0m: "
          ]
        }
      ]
    },
    {
      "cell_type": "markdown",
      "source": [
        "### Correlation heatmaps\n",
        "Due to the detection of significant correlations between features in the pairplot above, further analysis was required to eliminate these correlations. The heatmaps provide a cleaner visualization along with discrete values representing the level of correlation between features. These values allow for a clear threshhold to determine which correlations need to be eliminated. <br>\n",
        "The second heatmap shows the best results in terms of limited correlation, so the features to remove from the data are\n",
        "- dreb_pct\n",
        "- oreb_pct\n",
        "- ast\n",
        "- usg_pct"
      ],
      "metadata": {
        "id": "j3orV4F0j_gM"
      }
    },
    {
      "cell_type": "code",
      "source": [
        "# Source: https://towardsdatascience.com/why-feature-correlation-matters-a-lot-847e8ba439c4\n",
        "\n",
        "fig, ax = plt.subplots(figsize=(10,10))\n",
        "sns.heatmap(final_data.corr(), vmax=1.0, center=0, fmt='.2f',\n",
        "                square=True, linewidths=.5, annot=True, cbar_kws={\"shrink\": .70})\n",
        "plt.show()"
      ],
      "metadata": {
        "id": "r3mFuvvF0s8I"
      },
      "execution_count": null,
      "outputs": []
    },
    {
      "cell_type": "code",
      "source": [
        "# Source: https://towardsdatascience.com/why-feature-correlation-matters-a-lot-847e8ba439c4\n",
        "\n",
        "fig, ax = plt.subplots(figsize=(10,10))\n",
        "sns.heatmap(final_data.drop(columns=['dreb_pct', 'oreb_pct', 'ast', 'usg_pct']).corr(), vmax=1.0, center=0, fmt='.2f',\n",
        "                square=True, linewidths=.5, annot=True, cbar_kws={\"shrink\": .70})\n",
        "plt.show()"
      ],
      "metadata": {
        "id": "_s5C1ykqxDL4"
      },
      "execution_count": null,
      "outputs": []
    },
    {
      "cell_type": "code",
      "source": [
        "# Source: https://towardsdatascience.com/why-feature-correlation-matters-a-lot-847e8ba439c4\n",
        "\n",
        "fig, ax = plt.subplots(figsize=(10,10))\n",
        "sns.heatmap(final_data.drop(columns=['reb', 'ast', 'usg_pct']).corr(), vmax=1.0, center=0, fmt='.2f',\n",
        "                square=True, linewidths=.5, annot=True, cbar_kws={\"shrink\": .70})\n",
        "plt.show()"
      ],
      "metadata": {
        "id": "xv_o2B2qzj10"
      },
      "execution_count": null,
      "outputs": []
    },
    {
      "cell_type": "markdown",
      "source": [
        "### Histogram\n",
        "This provides further insight on the distribution of individual features against the different values of the prediction label (Hall of Famer). This was done because the data description above showed an odd distribution for the net rating feature at first glance, so a more detailed look at the distribution seemed appropriate. However, in the end, the outliers in the feature didn't seem like they would cause much harm to the model as enough of the expected distribution was present in both possible labels, so those data points were kept in the data set."
      ],
      "metadata": {
        "id": "uF8stYiQmVQY"
      }
    },
    {
      "cell_type": "code",
      "source": [
        "# Histogram for net_rating\n",
        "\n",
        "g = sns.FacetGrid(final_data, col=predict_label, height=5)\n",
        "g.map(plt.hist, 'net_rating', bins=20)"
      ],
      "metadata": {
        "id": "pnPTKVVfCEX6"
      },
      "execution_count": null,
      "outputs": []
    },
    {
      "cell_type": "markdown",
      "source": [
        "### Pie charts\n",
        "These show the distribution of values in categorical features. The prediction label was treated as categorical because although the 0 and 1 are numerical, they represent possible classes, not continuous values. The cardinality of the College feature led to its removal from the dataset, as the feature didn't feel important enough to keep at the expense of high dimensionality."
      ],
      "metadata": {
        "id": "aI-_13kPnW7G"
      }
    },
    {
      "cell_type": "code",
      "source": [
        "# Source: https://matplotlib.org/3.1.1/gallery/pie_and_polar_charts/pie_and_donut_labels.html#sphx-glr-gallery-pie-and-polar-charts-pie-and-donut-labels-py\n",
        "\n",
        "fig, ax = plt.subplots(figsize=(5,5))\n",
        "ax.pie(x=final_data[predict_label].value_counts(), \n",
        "       labels=final_data[predict_label].value_counts().index,\n",
        "       autopct=lambda pct: '{:.1f}%\\n({:d})'.format(pct, int(len(final_data)*pct/100.)),\n",
        "       textprops=dict(color=\"black\"))\n",
        "\n",
        "ax.set_title(predict_label)\n",
        "\n",
        "plt.show()"
      ],
      "metadata": {
        "id": "Qr9NA9MyDkbr"
      },
      "execution_count": null,
      "outputs": []
    },
    {
      "cell_type": "code",
      "source": [
        "# Pie charts for college\n",
        "fig, ax = plt.subplots(figsize=(5,5))\n",
        "ax.pie(x=final_data['college'].value_counts(), \n",
        "       labels=final_data['college'].value_counts().index,\n",
        "       autopct='%1.1f%%', textprops=dict(color=\"black\"))\n",
        "\n",
        "ax.set_title('College')\n",
        "\n",
        "plt.show()"
      ],
      "metadata": {
        "id": "mdJvmTQjNL6c"
      },
      "execution_count": null,
      "outputs": []
    },
    {
      "cell_type": "markdown",
      "source": [
        "### PCA"
      ],
      "metadata": {
        "id": "X8MR-heroDCk"
      }
    },
    {
      "cell_type": "code",
      "source": [
        "# PCA (Not used due to limited applicability)\n",
        "# pca = PCA()\n",
        "# pca.fit(final_data.drop(columns=['player_name', 'college', predict_label]))\n",
        "# print(pca.explained_variance_ratio_)"
      ],
      "metadata": {
        "id": "rH7FI97n-wQB"
      },
      "execution_count": null,
      "outputs": []
    },
    {
      "cell_type": "markdown",
      "source": [
        "# Task 1.3: Logistic Regression Model"
      ],
      "metadata": {
        "id": "QnSjFuNZE8hS"
      }
    },
    {
      "cell_type": "code",
      "source": [
        "get_acc = lambda y, y_hat: (len(y) - np.count_nonzero(np.round(y_hat, decimals=0) - y)) / len(y)"
      ],
      "metadata": {
        "id": "h_swdmabTP8s"
      },
      "execution_count": 62,
      "outputs": []
    },
    {
      "cell_type": "code",
      "source": [
        "# Task 3: logistic regression\n",
        "# Use this cell to reset the weights for each version of the model\n",
        "\n",
        "n = 133\n",
        "w = np.random.normal(scale=0.1, size=(9, 1))\n",
        "b = np.zeros((1, 1))\n",
        "sigmoid = lambda x: 1 / (1 + math.exp(-x))"
      ],
      "metadata": {
        "id": "ozcoh_S8kGqY"
      },
      "execution_count": null,
      "outputs": []
    },
    {
      "cell_type": "markdown",
      "source": [
        "## Batch Gradient Descent"
      ],
      "metadata": {
        "id": "D4rWajYfGiqA"
      }
    },
    {
      "cell_type": "code",
      "source": [
        "learning_rate = 0.1\n",
        "\n",
        "# Converges after 10 iterations\n",
        "for _ in range(10):\n",
        "    A = np.vectorize(sigmoid)(np.dot(X_train, w) + b)\n",
        "    cost = -1/n * np.sum(Y_train * np.log(A) + (1-Y_train) * (np.log(1-A)))\n",
        "    dw = np.dot(X_train.T, (A-Y_train))/n\n",
        "    db = np.sum(A-Y_train)/n\n",
        "\n",
        "    w = w - learning_rate*dw\n",
        "    b = b - learning_rate*db"
      ],
      "metadata": {
        "id": "RxVEIRAjFWrM"
      },
      "execution_count": null,
      "outputs": []
    },
    {
      "cell_type": "code",
      "source": [
        "# Accuracy measure\n",
        "\n",
        "Y_hat = np.vectorize(sigmoid)(np.dot(X_train, w) + b)\n",
        "print(get_acc(Y_train, Y_hat))\n",
        "\n",
        "Y_hat = np.vectorize(sigmoid)(np.dot(X_test, w) + b)\n",
        "print(get_acc(Y_test, Y_hat))"
      ],
      "metadata": {
        "id": "cJ76YuVatqz2"
      },
      "execution_count": null,
      "outputs": []
    },
    {
      "cell_type": "markdown",
      "source": [
        "## Stochastic Gradient Descent"
      ],
      "metadata": {
        "id": "7EdHZk7I2jXX"
      }
    },
    {
      "cell_type": "code",
      "source": [
        "learning_rate = 0.1\n",
        "\n",
        "# Converges after 10 iterations\n",
        "for _ in range(10):\n",
        "    X_train, Y_train = utils.shuffle(X_train, Y_train)\n",
        "    for i in range(n):\n",
        "        a = np.vectorize(sigmoid)(np.dot(X_train[i], w) + b)\n",
        "        cost = -1/n * np.sum(Y_train[i] * np.log(a) + (1-Y_train[i]) * (np.log(1-a)))\n",
        "        dw = np.dot(np.reshape(X_train[i].T, (9, 1)), np.reshape(a-Y_train[i], (1, 1)))/n\n",
        "        db = (a-Y_train[i])/n\n",
        "\n",
        "        w = w - learning_rate*dw\n",
        "        b = b - learning_rate*db"
      ],
      "metadata": {
        "id": "WWNfDy9h2mNq"
      },
      "execution_count": null,
      "outputs": []
    },
    {
      "cell_type": "code",
      "source": [
        "Y_hat = np.vectorize(sigmoid)(np.dot(X_train, w) + b)\n",
        "print(get_acc(Y_train, Y_hat))\n",
        "\n",
        "Y_hat = np.vectorize(sigmoid)(np.dot(X_test, w) + b)\n",
        "print(get_acc(Y_test, Y_hat))"
      ],
      "metadata": {
        "colab": {
          "base_uri": "https://localhost:8080/"
        },
        "id": "zPUeZGAE5Bex",
        "outputId": "6ae11343-2aa0-4eba-ca68-62a26940f2a8"
      },
      "execution_count": null,
      "outputs": [
        {
          "output_type": "stream",
          "name": "stdout",
          "text": [
            "0.7518796992481203\n",
            "0.8\n"
          ]
        }
      ]
    },
    {
      "cell_type": "markdown",
      "source": [
        "# Task 1.4: Optimization Algorithms\n",
        "Chosen algorithms are Adam and Adamax"
      ],
      "metadata": {
        "id": "rs_--hzKGtEQ"
      }
    },
    {
      "cell_type": "code",
      "source": [
        "# Only used in this task\n",
        "import tensorflow as tf"
      ],
      "metadata": {
        "id": "Fi2v9ZShII1s"
      },
      "execution_count": null,
      "outputs": []
    },
    {
      "cell_type": "markdown",
      "source": [
        "## Adam optimizer"
      ],
      "metadata": {
        "id": "RiCXu8SxQGus"
      }
    },
    {
      "cell_type": "code",
      "source": [
        "# Task 4: optimizers\n",
        "# Adam optimizer, adamax optimizer\n",
        "# Using tensorflow sigmoid function because custom sigmoid function isn't\n",
        "# compatible with Tensors\n",
        "\n",
        "adam_opt = tf.keras.optimizers.Adam(learning_rate=0.1)\n",
        "\n",
        "w = tf.Variable(w)\n",
        "b = tf.Variable(b)\n",
        "print(b)\n",
        "Y_train = tf.cast(tf.convert_to_tensor(Y_train), dtype=tf.float64)\n",
        "X_train = tf.cast(tf.convert_to_tensor(X_train), dtype=tf.float64)\n",
        "loss = lambda: (-1/n) * tf.math.reduce_sum(\n",
        "    Y_train * tf.math.log(tf.math.sigmoid(tf.tensordot(X_train, w, 1) + b)) + \n",
        "    (1-Y_train) * (tf.math.log(1-tf.math.sigmoid(tf.tensordot(X_train, w, 1) + b))))\n",
        "\n",
        "adam_opt.minimize(loss, var_list=[w, b]).numpy()\n",
        "\n",
        "print(b)"
      ],
      "metadata": {
        "id": "LuVQJN1Tsicn",
        "colab": {
          "base_uri": "https://localhost:8080/"
        },
        "outputId": "05dfa183-7819-40c2-af89-44be95660cc9"
      },
      "execution_count": null,
      "outputs": [
        {
          "output_type": "stream",
          "name": "stdout",
          "text": [
            "<tf.Variable 'Variable:0' shape=(1, 1) dtype=float64, numpy=array([[0.]])>\n",
            "<tf.Variable 'Variable:0' shape=(1, 1) dtype=float64, numpy=array([[-0.09999881]])>\n"
          ]
        }
      ]
    },
    {
      "cell_type": "code",
      "source": [
        "Y_hat = tf.math.sigmoid(tf.tensordot(X_train, w, 1) + b)\n",
        "print(get_acc(Y_train, Y_hat))\n",
        "\n",
        "Y_hat = tf.math.sigmoid(tf.tensordot(X_test, w, 1) + b)\n",
        "print(get_acc(Y_test, Y_hat))"
      ],
      "metadata": {
        "colab": {
          "base_uri": "https://localhost:8080/"
        },
        "id": "cSPn50meICrV",
        "outputId": "3933166a-96e7-4a38-83d9-22dba73bd8ee"
      },
      "execution_count": null,
      "outputs": [
        {
          "output_type": "stream",
          "name": "stdout",
          "text": [
            "0.7518796992481203\n",
            "0.8\n"
          ]
        }
      ]
    },
    {
      "cell_type": "markdown",
      "source": [
        "## Adamax optimizer"
      ],
      "metadata": {
        "id": "wmsxNTJRQI4q"
      }
    },
    {
      "cell_type": "code",
      "source": [
        "adamax_opt = tf.keras.optimizers.Adamax(learning_rate=0.1)\n",
        "\n",
        "w = tf.Variable(w)\n",
        "b = tf.Variable(b)\n",
        "print(b)\n",
        "Y_train = tf.cast(tf.convert_to_tensor(Y_train), dtype=tf.float64)\n",
        "X_train = tf.cast(tf.convert_to_tensor(X_train), dtype=tf.float64)\n",
        "loss = lambda: (-1/n) * tf.math.reduce_sum(\n",
        "    Y_train * tf.math.log(tf.math.sigmoid(tf.tensordot(X_train, w, 1) + b)) + \n",
        "    (1-Y_train) * (tf.math.log(1-tf.math.sigmoid(tf.tensordot(X_train, w, 1) + b))))\n",
        "\n",
        "adamax_opt.minimize(loss, var_list=[w, b]).numpy()\n",
        "\n",
        "print(b)"
      ],
      "metadata": {
        "colab": {
          "base_uri": "https://localhost:8080/"
        },
        "id": "TCvl1sRSPcRw",
        "outputId": "1993c2f2-d8dc-4c13-c258-b0fa2e1840e4"
      },
      "execution_count": null,
      "outputs": [
        {
          "output_type": "stream",
          "name": "stdout",
          "text": [
            "<tf.Variable 'Variable:0' shape=(1, 1) dtype=float64, numpy=array([[0.]])>\n",
            "<tf.Variable 'Variable:0' shape=(1, 1) dtype=float64, numpy=array([[-0.09999997]])>\n"
          ]
        }
      ]
    },
    {
      "cell_type": "code",
      "source": [
        "Y_hat = tf.math.sigmoid(tf.tensordot(X_train, w, 1) + b)\n",
        "print(get_acc(Y_train, Y_hat))\n",
        "\n",
        "Y_hat = tf.math.sigmoid(tf.tensordot(X_test, w, 1) + b)\n",
        "print(get_acc(Y_test, Y_hat))"
      ],
      "metadata": {
        "colab": {
          "base_uri": "https://localhost:8080/"
        },
        "id": "uaY0xlzzQTaw",
        "outputId": "d20f6d6b-09c4-43e0-d4d9-26e01dc636b0"
      },
      "execution_count": null,
      "outputs": [
        {
          "output_type": "stream",
          "name": "stdout",
          "text": [
            "0.7518796992481203\n",
            "0.8\n"
          ]
        }
      ]
    },
    {
      "cell_type": "markdown",
      "source": [
        "## Conclusion + Result Analysis\n",
        "\n"
      ],
      "metadata": {
        "id": "SlPxK2IUXej-"
      }
    },
    {
      "cell_type": "markdown",
      "source": [
        "Logistic regression was run with Batch Gradient Descent, Stochastic Gradient Descent, Batch Gradient Descent using the Adam optimizer, and Batch Gradient Descent using the Adamax optimizer. All of the different versions of the model converged with a training accuracy of ~75% and a testing accuracy of 80%. Due to the relatively small size of the data set, the testing set (which only consists of 15 elements) may not be entirely valid in testing the model's generalizability. <br>\n",
        "Based on these results, there is no difference between using an optimization algorithm or not. However, this is most likely because every run was able to converge to the best possible results. Optimization algorithms are likely very helpful when applied to a model that is underperforming or converging incorrectly. With a model that is already converging correctly though, optimizers may not add much value."
      ],
      "metadata": {
        "id": "5ytTx8nOX-rt"
      }
    },
    {
      "cell_type": "markdown",
      "source": [
        "# Task 2.1: Decision Tree Classifier"
      ],
      "metadata": {
        "id": "izjr3ltKOt_E"
      }
    },
    {
      "cell_type": "code",
      "source": [
        "# Imports used for HW2\n",
        "from sklearn.tree import DecisionTreeClassifier\n",
        "from sklearn.ensemble import RandomForestClassifier\n",
        "from sklearn.ensemble import GradientBoostingClassifier\n",
        "from sklearn.model_selection import KFold"
      ],
      "metadata": {
        "id": "Xk3zJRdePhx_"
      },
      "execution_count": 63,
      "outputs": []
    },
    {
      "cell_type": "code",
      "source": [
        "# Run import cell, task 1.2, and first cell of task 1.3 to load data properly for HW2\n",
        "# Test that the data was loaded properly\n",
        "print(X_train)\n",
        "print(y_train)\n",
        "print(X_test)\n",
        "print(Y_test)"
      ],
      "metadata": {
        "id": "OYsvol78Os3g"
      },
      "execution_count": null,
      "outputs": []
    },
    {
      "cell_type": "code",
      "source": [
        "clf = DecisionTreeClassifier(random_state=42)\n",
        "clf = clf.fit(X_train, y_train)"
      ],
      "metadata": {
        "id": "y7Y5z9u8PO1O"
      },
      "execution_count": 64,
      "outputs": []
    },
    {
      "cell_type": "code",
      "source": [
        "y_pred = clf.predict(X_test)\n",
        "print(get_acc(Y_test, np.reshape(y_pred, (15, 1))))"
      ],
      "metadata": {
        "colab": {
          "base_uri": "https://localhost:8080/"
        },
        "id": "AZj3ThkhS3gj",
        "outputId": "178adaf6-2e60-41c6-e1e0-966bd27e103f"
      },
      "execution_count": 65,
      "outputs": [
        {
          "output_type": "stream",
          "name": "stdout",
          "text": [
            "0.9333333333333333\n"
          ]
        }
      ]
    },
    {
      "cell_type": "code",
      "source": [
        "# Try different parameters on the model\n",
        "# Parameters to test: random_state, max_depth(int), max_leaf_nodes(int), min_impurity_decrease(float)\n",
        "possible_vals = [5, 10, 20]\n",
        "for val in possible_vals:\n",
        "    clf1 = DecisionTreeClassifier(random_state=42, max_depth=val)\n",
        "    clf1 = clf1.fit(X_train, y_train)\n",
        "    y_pred = clf1.predict(X_test)\n",
        "    print(get_acc(Y_test, np.reshape(y_pred, (15, 1))))\n",
        "print(\"------------------\")\n",
        "\n",
        "possible_vals = [5, 10, 15]\n",
        "for val in possible_vals:\n",
        "    clf2 = DecisionTreeClassifier(random_state=42, max_leaf_nodes=val)\n",
        "    clf2 = clf2.fit(X_train, y_train)\n",
        "    y_pred = clf2.predict(X_test)\n",
        "    print(get_acc(Y_test, np.reshape(y_pred, (15, 1))))\n",
        "print(\"------------------\")\n",
        "\n",
        "possible_vals = [0.2, 0.4, 0.8]\n",
        "for val in possible_vals:\n",
        "    clf3 = DecisionTreeClassifier(random_state=42, min_impurity_decrease=val)\n",
        "    clf3 = clf3.fit(X_train, y_train)\n",
        "    y_pred = clf3.predict(X_test)\n",
        "    print(get_acc(Y_test, np.reshape(y_pred, (15, 1))))\n",
        "print(\"------------------\")"
      ],
      "metadata": {
        "id": "D3pFjsgeTntr",
        "colab": {
          "base_uri": "https://localhost:8080/"
        },
        "outputId": "78eb0e33-2791-489f-c1d0-f7f61e9d3533"
      },
      "execution_count": 66,
      "outputs": [
        {
          "output_type": "stream",
          "name": "stdout",
          "text": [
            "0.9333333333333333\n",
            "0.9333333333333333\n",
            "0.9333333333333333\n",
            "------------------\n",
            "0.9333333333333333\n",
            "0.9333333333333333\n",
            "0.9333333333333333\n",
            "------------------\n",
            "0.9333333333333333\n",
            "0.8\n",
            "0.8\n",
            "------------------\n"
          ]
        }
      ]
    },
    {
      "cell_type": "markdown",
      "source": [
        "## Discussion\n",
        "I chose to alter 3 parameters: the max depth, max leaf nodes, and min impurity decrease of the tree. The max depth indicates the maximum depth of the tree. The max leaf nodes indicates the number of leaf nodes to end up with, which constraints the number of splits. The min impurity decrease indicates a constraint on the condition of a split, where the decrease of an impurity after a split has a minimum threshold. <br>\n",
        "None of these features had an impact on my final accuracy, except for the min impurity decrease reducing the accuracy for values higher than 0.2 (default is 0.0). This is most likely due to the small sample size of my test dataset and the simplicity of my data in general. Even though some final weights may be different with different parameters, the problem is easy enough to solve that the slight differences aren't seen in the results of the model."
      ],
      "metadata": {
        "id": "fIVF1YFkUzmH"
      }
    },
    {
      "cell_type": "markdown",
      "source": [
        "# Task 2.2: Bagging and Boosting"
      ],
      "metadata": {
        "id": "IPAdh2KvU9O3"
      }
    },
    {
      "cell_type": "code",
      "source": [
        "# Bagging model: Random Forest Classifier\n",
        "rfc = RandomForestClassifier(random_state=42)\n",
        "rfc = rfc.fit(X_train, y_train)"
      ],
      "metadata": {
        "id": "ruaCxKSmU4n5"
      },
      "execution_count": 93,
      "outputs": []
    },
    {
      "cell_type": "code",
      "source": [
        "y_pred = rfc.predict(X_test)\n",
        "print(get_acc(Y_test, np.reshape(y_pred, (15, 1))))"
      ],
      "metadata": {
        "colab": {
          "base_uri": "https://localhost:8080/"
        },
        "id": "CtaSjJ_COdug",
        "outputId": "a7c729ad-955d-4dd4-fba3-fb9d422587e6"
      },
      "execution_count": 94,
      "outputs": [
        {
          "output_type": "stream",
          "name": "stdout",
          "text": [
            "0.9333333333333333\n"
          ]
        }
      ]
    },
    {
      "cell_type": "code",
      "source": [
        "# Boosting model: Gradient Boosting Classifier\n",
        "gbc = GradientBoostingClassifier(random_state=42)\n",
        "gbc = gbc.fit(X_train, y_train)"
      ],
      "metadata": {
        "id": "nGHYAjumOot0"
      },
      "execution_count": 95,
      "outputs": []
    },
    {
      "cell_type": "code",
      "source": [
        "y_pred = gbc.predict(X_test)\n",
        "print(get_acc(Y_test, np.reshape(y_pred, (15, 1))))"
      ],
      "metadata": {
        "colab": {
          "base_uri": "https://localhost:8080/"
        },
        "id": "DxHM6tpjPAPQ",
        "outputId": "a0f51260-d3e4-40e0-8afc-bf218c5ef7b8"
      },
      "execution_count": 96,
      "outputs": [
        {
          "output_type": "stream",
          "name": "stdout",
          "text": [
            "0.9333333333333333\n"
          ]
        }
      ]
    },
    {
      "cell_type": "code",
      "source": [
        "# k-folds cross validation on both models\n",
        "X = X_final.to_numpy()\n",
        "y = y_final.to_numpy()\n",
        "\n",
        "kf = KFold(n_splits=10)#shuffle=True, random_state=42)\n",
        "kf.get_n_splits(X)\n",
        "i = 1\n",
        "for train_index, test_index in kf.split(X):\n",
        "    print(\"Split #\" + str(i))\n",
        "    x_train, x_test = X[train_index], X[test_index]\n",
        "    y_train, y_test = y[train_index], y[test_index]\n",
        "\n",
        "    rfc = RandomForestClassifier(random_state=42)\n",
        "    rfc = rfc.fit(x_train, y_train)\n",
        "    y_pred = rfc.predict(x_test)\n",
        "    print(get_acc(np.reshape(y_test, (len(y_test), 1)), np.reshape(y_pred, (len(y_pred), 1))))\n",
        "\n",
        "    gbc = GradientBoostingClassifier(random_state=42)\n",
        "    gbc = gbc.fit(x_train, y_train)\n",
        "    y_pred = gbc.predict(x_test)\n",
        "    print(get_acc(np.reshape(y_test, (len(y_test), 1)), np.reshape(y_pred, (len(y_pred), 1))))\n",
        "\n",
        "    i += 1"
      ],
      "metadata": {
        "id": "1wEjP9ajPFb7",
        "colab": {
          "base_uri": "https://localhost:8080/"
        },
        "outputId": "b77926a7-b666-41ef-e03e-6b58bf40ed9a"
      },
      "execution_count": 71,
      "outputs": [
        {
          "output_type": "stream",
          "name": "stdout",
          "text": [
            "Split #1\n",
            "1.0\n",
            "0.9333333333333333\n",
            "Split #2\n",
            "0.8\n",
            "0.8666666666666667\n",
            "Split #3\n",
            "1.0\n",
            "0.9333333333333333\n",
            "Split #4\n",
            "0.8666666666666667\n",
            "0.8666666666666667\n",
            "Split #5\n",
            "0.8666666666666667\n",
            "0.8\n",
            "Split #6\n",
            "1.0\n",
            "0.9333333333333333\n",
            "Split #7\n",
            "0.9333333333333333\n",
            "0.9333333333333333\n",
            "Split #8\n",
            "0.9333333333333333\n",
            "0.8666666666666667\n",
            "Split #9\n",
            "0.9285714285714286\n",
            "0.7857142857142857\n",
            "Split #10\n",
            "0.7857142857142857\n",
            "0.9285714285714286\n"
          ]
        }
      ]
    },
    {
      "cell_type": "markdown",
      "source": [
        "## Discussion\n",
        "K-folds cross validation was used with 10 splits. The resulting accuracies from the splits don't vary too much from the original results of the bagging and boosting models, but a couple of the splits have 100% testing accuracy, most likely due to the small size of the test data set. The little variance is also likely due to the small test size and simplicity of the data in general since the bagging and boosting models themselves didn't provide an improvement on the regular decision tree classifier."
      ],
      "metadata": {
        "id": "dNCV189rIvIi"
      }
    },
    {
      "cell_type": "markdown",
      "source": [
        "# Task 2.3: Results Comparison"
      ],
      "metadata": {
        "id": "DcoDRSx0PP_y"
      }
    },
    {
      "cell_type": "markdown",
      "source": [
        "The effectiveness of the three models is extremely similar in terms of the results comparison, most likely due to the simplicity of the problem and the limited data set, as mentioned in the previous discussion. The metric used was the accuracy metric (*get_acc* function), which divides the number of mismatched predictions by the number of total predictions. The accuracy metric is justified because both a player being incorrectly classified as a Hall of Famer and a player being incorrectly left out of the Hall of Fame can be punished the same, which the accuracy metric accomplishes. A different metric would place higher importance on either the false positive or false negative, which wouldn't be as complete as the accuracy since both are equally important. As shown below, in this problem specifically, since only one data point is misclassified in the test data, the precision is the same as the accuracy and the recall is 100%. Both of these aren't any better at describing the performance of the model than the accuracy."
      ],
      "metadata": {
        "id": "KHzzcqEiJrPf"
      }
    },
    {
      "cell_type": "code",
      "source": [
        "# Demonstrate use of different metric\n",
        "get_precision = lambda y, y_hat: (len(y) - np.count_nonzero(np.round(y_hat, decimals=0) - y)) / ((len(y) - np.count_nonzero(np.round(y_hat, decimals=0) - y)) + np.sum((np.round(y_hat, decimals=0) - y) == 1))\n",
        "get_recall = lambda y, y_hat: (len(y) - np.count_nonzero(np.round(y_hat, decimals=0) - y)) / ((len(y) - np.count_nonzero(np.round(y_hat, decimals=0) - y)) + np.sum((np.round(y_hat, decimals=0) - y) == -1))"
      ],
      "metadata": {
        "id": "ftWOWIWTnxjn"
      },
      "execution_count": 132,
      "outputs": []
    },
    {
      "cell_type": "code",
      "source": [
        "# Bagging model: Random Forest Classifier\n",
        "rfc = RandomForestClassifier(random_state=42)\n",
        "rfc = rfc.fit(X_train, y_train)"
      ],
      "metadata": {
        "id": "Ethh85-oRVQD"
      },
      "execution_count": 133,
      "outputs": []
    },
    {
      "cell_type": "code",
      "source": [
        "y_pred = rfc.predict(X_test)\n",
        "print(get_precision(Y_test, np.reshape(y_pred, (15, 1))))\n",
        "print(get_recall(Y_test, np.reshape(y_pred, (15, 1))))"
      ],
      "metadata": {
        "colab": {
          "base_uri": "https://localhost:8080/"
        },
        "id": "v7KGJghBPMxT",
        "outputId": "2186b3cd-5e1e-4721-83c7-a732e51e2b7c"
      },
      "execution_count": 134,
      "outputs": [
        {
          "output_type": "stream",
          "name": "stdout",
          "text": [
            "0.9333333333333333\n",
            "1.0\n"
          ]
        }
      ]
    },
    {
      "cell_type": "code",
      "source": [
        "# Boosting model: Gradient Boosting Classifier\n",
        "gbc = GradientBoostingClassifier(random_state=42)\n",
        "gbc = gbc.fit(X_train, y_train)"
      ],
      "metadata": {
        "id": "ckOZHOEGPNLq"
      },
      "execution_count": 135,
      "outputs": []
    },
    {
      "cell_type": "code",
      "source": [
        "y_pred = gbc.predict(X_test)\n",
        "print(get_precision(Y_test, np.reshape(y_pred, (15, 1))))\n",
        "print(get_recall(Y_test, np.reshape(y_pred, (15, 1))))"
      ],
      "metadata": {
        "colab": {
          "base_uri": "https://localhost:8080/"
        },
        "id": "V0Vj6dxnRapl",
        "outputId": "490ec29c-634b-4801-e859-04cc10f5f828"
      },
      "execution_count": 136,
      "outputs": [
        {
          "output_type": "stream",
          "name": "stdout",
          "text": [
            "0.9333333333333333\n",
            "1.0\n"
          ]
        }
      ]
    }
  ]
}